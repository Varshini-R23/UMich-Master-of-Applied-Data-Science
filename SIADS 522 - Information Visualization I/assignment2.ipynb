{
 "cells": [
  {
   "cell_type": "markdown",
   "metadata": {},
   "source": [
    "# Information Visualization I \n",
    "## School of Information, University of Michigan\n",
    "\n",
    "## Week 2: \n",
    "- Expressiveness and Effectiveness\n",
    "- Grammar of Graphics\n",
    "\n",
    "## Assignment Overview\n",
    "### Our objectives for this week:\n",
    "\n",
    "- Review, reflect, and apply the concepts of encoding. Given a visualization recreate the data that was encoded.\n",
    "- Review, reflect, and apply the concepts of Expressiveness and Effectiveness. Given a visualization, evaluate alternatives with the same expressiveness.\n",
    "\n",
    "![\"Drawing\"](assets/data-table-resized.png)\n",
    "\n",
    "\n",
    "<p style=\"text-align: center;\">Two visualizations, same expressiveness </p>\n",
    "\n",
    "- Review and evaluate an implementation of Grammar of Graphics using [Altair](https://altair-viz.github.io/) \n",
    "\n",
    "### The total score of this assignment will be 100 points consisting of:\n",
    "- Case study reflection: Next Bechdel Test (30 points)\n",
    "- Altair programming exercise (70 points)\n",
    "- Bonus (5 points)\n",
    "\n",
    "\n",
    "### Resources:\n",
    "- This article by [FiveThirtyEight](https://fivethirtyeight.com) available [online](https://projects.fivethirtyeight.com/next-bechdel/) (Hickey, Koeze, Dottle, Wezerek 2017)  \n",
    "- Datasets from FiveThirtyEight, we have downloaded a subset of these datasets available in the folder for your use into [./assets](./assets)\n",
    "    - The original dataset can be found on [FiveThirtyEight Next Bechdel Dataset](https://github.com/fivethirtyeight/data/tree/master/next-bechdel)\n",
    "    \n",
    "    \n",
    "### Important notes:\n",
    "1) Grading for this assignment is entirely done by a human grader. They will be running tests on the functions we ask you to create. This means there is no autograding (submitting through the autograder will result in an error). You are expected to test and validate your own code. \n",
    "\n",
    "2) You should guide your answer by the look of our examples. It doesn't need to be pixel perfect (e.g., you may not always know what our example is scaled by), but it should be pretty close.\n",
    "\n",
    "3) Keep your notebooks clean and readable. If your code is highly messy or inefficient you will get a deduction.\n",
    "\n",
    "4) Pay attention to the return types of your functions.\n",
    "\n",
    "5) Follow the instructions for submission on Coursera. You will be providing us a generated link to a read-only version of your notebook and a PDF. When turning in your PDF, please use the File -> Print -> Save as PDF option ***from your browser***. Do ***not*** use the File->Download as->PDF option. Complete instructions for this are under Resources in the Coursera page for this class. If you're having trouble with printing, take a look at [this video](https://youtu.be/PiO-K7AoWjk)."
   ]
  },
  {
   "cell_type": "markdown",
   "metadata": {},
   "source": [
    "## Part 1. Expressiveness and Effectiveness (30 points)\n",
    "Read the following article [*Creating the next Bechdel Test*](https://projects.fivethirtyeight.com/next-bechdel/) and answer the following questions:\n"
   ]
  },
  {
   "cell_type": "markdown",
   "metadata": {},
   "source": [
    "### 1.1 Recreate the table (by hand or excel) needed to create the following visualization (7 points)\n",
    "\n",
    "You *should* consider the interactive parts of the visualization in your answer. Take a picture or screenshot of your table and add it to the answer below\n",
    "\n",
    "![\"Drawing\"](assets/article_1.png)\n",
    "\n",
    "\n",
    "An easy way to upload images is to jump into the [./assets](./assets) directory (or use the Coursera notebook explorer and navigate to it) and then use the upload button to save your image:\n",
    "\n",
    "![upload](assets/upload.png)\n",
    "\n",
    "Once you have the image, you can link to it using the markdown command: `![answer1.2](assets/my_image_1.2.png)`"
   ]
  },
  {
   "cell_type": "markdown",
   "metadata": {},
   "source": [
    "_1.1 Answer_ ![Answer 1.1](assets/Assignment_2_Answer_1.1_new.png)"
   ]
  },
  {
   "cell_type": "markdown",
   "metadata": {},
   "source": [
    "### 1.2 Sketch an alternative visualization with the same expressiveness (7 points)\n",
    "By hand is fine, but you can also use a tool. This is a sketch, the data need not be perfectly accurate or to scale. Again, upload a picture or screenshot below. Make sure there is enough annotation so it's clear why your picture has the same expressiveness."
   ]
  },
  {
   "cell_type": "markdown",
   "metadata": {},
   "source": [
    "_1.2 Answer_ ![Answer 1.2](assets/Assignment_2_Answer_1.2_new.png)"
   ]
  },
  {
   "cell_type": "markdown",
   "metadata": {},
   "source": [
    "### 1.3 Sketch an alternative visualization with the same expressiveness of the following visualization (10 points)\n",
    "\n",
    "![\"article\"](assets/article_2_resized.png)\n",
    "\n",
    "\n",
    "Same deal as last question: by hand or with a tool is fine. The data need not be perfectly accurate or to scale. Make sure there is enough annotation so it's clear why your picture has the same expressiveness. Again, upload a picture or screenshot below. "
   ]
  },
  {
   "cell_type": "markdown",
   "metadata": {},
   "source": [
    "_1.3 Answer_ ![Answer 1.3](assets/Assignment_2_Answer_1.3.png)"
   ]
  },
  {
   "cell_type": "markdown",
   "metadata": {},
   "source": [
    "### 1.4 Reflect on which visualization you think is more *effective* and why? (6 points)\n",
    "You are comparing the original figure in 1.3 and the one you created."
   ]
  },
  {
   "cell_type": "markdown",
   "metadata": {},
   "source": [
    "_1.4 Answer_\n",
    "\n",
    "The figure I created in lieu of the original figure in 1.3 is not drawn to scale. It is a treemap diagram, which, if drawn to scale, would not only show which movies passed or failed various tests (Bechdel, White, etc.) in various test categories (Behind The Camera, Intersectional, etc.) but would also show how many movies fall into those categories based on the size of the rectangles. The bigger the rectangle for a group, the more values it contains. This makes the figure I created more effective than the original one since the original one just shows which movies passed or failed under each category using a tick mark.\n",
    "\n",
    "While the movies in the original figure are ordered with the ones having most passes at the top and the ones with the least passes at the bottom, this isn't immediately obvious like it would be in a treemap diagram, which would make these differences apparent based on the size of the rectangles. For instance, the size difference would make it easier to compare between two different movies rather than counting the tick marks. Moreover, an interactive treemap diagram allows you to go deeper into the diagram and get more details on clicking the rectangles of your choice, offering it a powerful drill-down functionality which can be very useful for understanding and explaining the elements in the diagram better."
   ]
  },
  {
   "cell_type": "markdown",
   "metadata": {},
   "source": [
    "## Part 2. Altair programming exercise (70 points)\n",
    "We have provided some code to create visualizations based on the following datasets:\n",
    "\n",
    "1. [all_tests](assets/nextBechdel_allTests.csv) Is a collection of different Bechdel test results for the 50 top-grossing films [at the domestic box office in 2016](https://www.the-numbers.com/box-office-records/domestic/all-movies/cumulative/released-in-2016)\n",
    "2. [cast_gender](assets/nextBechdel_castGender.csv) Is the gender for all the cast member of each movie in the Bechdel rankings\n",
    "3. [top_2016](assets/top_2016.csv) Is the date, box office and theater count for each top 2016 movie.\n",
    "\n",
    "Complete each assignment function and run each cell to generate the final visualizations\n"
   ]
  },
  {
   "cell_type": "code",
   "execution_count": 1,
   "metadata": {},
   "outputs": [],
   "source": [
    "import pandas as pd\n",
    "import numpy as np\n",
    "import altair as alt"
   ]
  },
  {
   "cell_type": "code",
   "execution_count": 2,
   "metadata": {},
   "outputs": [
    {
     "data": {
      "text/plain": [
       "RendererRegistry.enable('default')"
      ]
     },
     "execution_count": 2,
     "metadata": {},
     "output_type": "execute_result"
    }
   ],
   "source": [
    "# enable correct rendering\n",
    "alt.renderers.enable('default')"
   ]
  },
  {
   "cell_type": "code",
   "execution_count": 3,
   "metadata": {},
   "outputs": [
    {
     "data": {
      "text/plain": [
       "DataTransformerRegistry.enable('json')"
      ]
     },
     "execution_count": 3,
     "metadata": {},
     "output_type": "execute_result"
    }
   ],
   "source": [
    "# uses intermediate json files to speed things up\n",
    "alt.data_transformers.enable('json')"
   ]
  },
  {
   "cell_type": "code",
   "execution_count": 4,
   "metadata": {},
   "outputs": [],
   "source": [
    "def load_bechdel_data(alldata='assets/nextBechdel_allTests.csv',\n",
    "                     castgenderdata='assets/nextBechdel_castGender.csv',\n",
    "                     top2016data='assets/top_2016.csv'):\n",
    "    # read all the tables\n",
    "    all_tests_df = pd.read_csv(alldata)\n",
    "    cast_gender = pd.read_csv(castgenderdata)\n",
    "    top_2016 = pd.read_csv(top2016data)\n",
    "\n",
    "    # set up the tables for use\n",
    "    act_movies = top_2016.set_index('Movie').join(cast_gender.set_index('MOVIE')).join(all_tests_df.set_index('movie')).reset_index().dropna()\n",
    "    mov_order = top_2016.sort_values(by=['Rank'])['Movie'].tolist()\n",
    "    return(act_movies,mov_order)\n"
   ]
  },
  {
   "cell_type": "code",
   "execution_count": 5,
   "metadata": {},
   "outputs": [],
   "source": [
    "actors_movies,movies_order = load_bechdel_data()"
   ]
  },
  {
   "cell_type": "markdown",
   "metadata": {},
   "source": [
    "### 2.1 Variables encoded (5 points)\n",
    "Warmup: how many variables are encoded in the following visualization?\n",
    "\n",
    "We also suggest you look closely this code and make sure you understand what we're doing. Most of the other problems below will follow this structure."
   ]
  },
  {
   "cell_type": "code",
   "execution_count": 6,
   "metadata": {},
   "outputs": [],
   "source": [
    "def get_base_vis(indf):\n",
    "    #input: indf, the base chart dataset (i.e., actors_movies)\n",
    "\n",
    "    # this is a \"base\" chart -- on its own, it will not display anything because we haven't defined a mark\n",
    "    # but we can do operations that we'll want to do multiple times, in this case filtering some data\n",
    "    return alt.Chart(indf).transform_filter(\n",
    "        (alt.datum.TYPE != 'Unknown') & (alt.datum.GENDER != 'Unknown') & (alt.datum.GENDER != 'null')\n",
    "    )\n",
    "    \n",
    "base_vis = get_base_vis(actors_movies)"
   ]
  },
  {
   "cell_type": "code",
   "execution_count": 7,
   "metadata": {},
   "outputs": [],
   "source": [
    "# this is where we build the actual chart\n",
    "def gen_f_bar_vis(base, indf):\n",
    "    # input: base is the 'base' vis as produced by get_base_vis\n",
    "    # indf: a dataframe like actors_movies -- we *could* use this, but it's easier to \n",
    "    #       use the 'base' chart so we're not repeating work\n",
    "    \n",
    "    # we will \"add\" to the base chart with an additional transform filter\n",
    "    encoding = base.transform_filter(\n",
    "        alt.datum.GENDER == 'Female'\n",
    "    ).encode(\n",
    "        # adding all the encoding stuff\n",
    "        y= alt.Y(\n",
    "            'index:N',\n",
    "            sort= movies_order\n",
    "        ),\n",
    "        x=alt.X('count(index):Q',\n",
    "                title='cast count'),\n",
    "    ).mark_bar( # use a \"bar\" symbol\n",
    "    ).properties(\n",
    "        # set the title\n",
    "        title='Female'\n",
    "    )\n",
    "    \n",
    "    \n",
    "    # The less efficient way (where we don't use \"base\" but repeat work):\n",
    "    \n",
    "    # encoding = alt.Chart(indf).mark_bar().transform_filter(\n",
    "    #     (alt.datum.TYPE != 'Unknown') & (alt.datum.GENDER != 'Unknown') & (alt.datum.GENDER != 'null')\n",
    "    # ).transform_filter(\n",
    "    #     alt.datum.GENDER == 'Female'\n",
    "    # ).encode(\n",
    "    #     y= alt.Y(\n",
    "    #         'index:N',\n",
    "    #         sort= movies_order\n",
    "    #     ),\n",
    "    #     x=alt.X('count(index):Q',\n",
    "    #            title='cast count'),\n",
    "    # ).properties(title='Female')\n",
    "    # \n",
    "    \n",
    "    return encoding\n",
    "\n",
    "female_bar = gen_f_bar_vis(base_vis,actors_movies)"
   ]
  },
  {
   "cell_type": "code",
   "execution_count": 8,
   "metadata": {},
   "outputs": [
    {
     "data": {
      "text/html": [
       "\n",
       "<div id=\"altair-viz-1d2647b2de134a42921224999f37669b\"></div>\n",
       "<script type=\"text/javascript\">\n",
       "  (function(spec, embedOpt){\n",
       "    let outputDiv = document.currentScript.previousElementSibling;\n",
       "    if (outputDiv.id !== \"altair-viz-1d2647b2de134a42921224999f37669b\") {\n",
       "      outputDiv = document.getElementById(\"altair-viz-1d2647b2de134a42921224999f37669b\");\n",
       "    }\n",
       "    const paths = {\n",
       "      \"vega\": \"https://cdn.jsdelivr.net/npm//vega@5?noext\",\n",
       "      \"vega-lib\": \"https://cdn.jsdelivr.net/npm//vega-lib?noext\",\n",
       "      \"vega-lite\": \"https://cdn.jsdelivr.net/npm//vega-lite@4.8.1?noext\",\n",
       "      \"vega-embed\": \"https://cdn.jsdelivr.net/npm//vega-embed@6?noext\",\n",
       "    };\n",
       "\n",
       "    function loadScript(lib) {\n",
       "      return new Promise(function(resolve, reject) {\n",
       "        var s = document.createElement('script');\n",
       "        s.src = paths[lib];\n",
       "        s.async = true;\n",
       "        s.onload = () => resolve(paths[lib]);\n",
       "        s.onerror = () => reject(`Error loading script: ${paths[lib]}`);\n",
       "        document.getElementsByTagName(\"head\")[0].appendChild(s);\n",
       "      });\n",
       "    }\n",
       "\n",
       "    function showError(err) {\n",
       "      outputDiv.innerHTML = `<div class=\"error\" style=\"color:red;\">${err}</div>`;\n",
       "      throw err;\n",
       "    }\n",
       "\n",
       "    function displayChart(vegaEmbed) {\n",
       "      vegaEmbed(outputDiv, spec, embedOpt)\n",
       "        .catch(err => showError(`Javascript Error: ${err.message}<br>This usually means there's a typo in your chart specification. See the javascript console for the full traceback.`));\n",
       "    }\n",
       "\n",
       "    if(typeof define === \"function\" && define.amd) {\n",
       "      requirejs.config({paths});\n",
       "      require([\"vega-embed\"], displayChart, err => showError(`Error loading script: ${err.message}`));\n",
       "    } else if (typeof vegaEmbed === \"function\") {\n",
       "      displayChart(vegaEmbed);\n",
       "    } else {\n",
       "      loadScript(\"vega\")\n",
       "        .then(() => loadScript(\"vega-lite\"))\n",
       "        .then(() => loadScript(\"vega-embed\"))\n",
       "        .catch(showError)\n",
       "        .then(() => displayChart(vegaEmbed));\n",
       "    }\n",
       "  })({\"config\": {\"view\": {\"continuousWidth\": 400, \"continuousHeight\": 300}}, \"data\": {\"url\": \"altair-data-b2fe8fb5616f2f0ec61f01d320bf8001.json\", \"format\": {\"type\": \"json\"}}, \"mark\": \"bar\", \"encoding\": {\"x\": {\"type\": \"quantitative\", \"aggregate\": \"count\", \"field\": \"index\", \"title\": \"cast count\"}, \"y\": {\"type\": \"nominal\", \"field\": \"index\", \"sort\": [\"Rogue One\", \"Finding Dory\", \"Captain America: Civil War\", \"The Secret Life of Pets\", \"The Jungle Book\", \"Deadpool\", \"Zootopia\", \"Batman v Superman: Dawn of Justice\", \"Suicide Squad\", \"Sing\", \"Moana\", \"Fantastic Beasts and Where to Find Them\", \"Doctor Strange\", \"Hidden Figures\", \"Jason Bourne\", \"Star Trek Beyond\", \"X-Men: Apocalypse\", \"Trolls\", \"La La Land\", \"Kung Fu Panda 3\", \"Ghostbusters\", \"Central Intelligence\", \"The Legend of Tarzan\", \"Sully\", \"Bad Moms\", \"The Angry Birds Movie\", \"Independence Day: Resurgence\", \"The Conjuring 2\", \"Arrival\", \"Passengers\", \"Sausage Party\", \"The Magnificent Seven\", \"Ride Along 2\", \"Don't Breathe\", \"Miss Peregrine's Home for Peculiar Children\", \"The Accountant\", \"Teenage Mutant Ninja Turtles: Out of the Shadows\", \"The Purge: Election Year\", \"Alice Through the Looking Glass\", \"Pete's Dragon\", \"The Girl on the Train\", \"Boo! A Madea Halloween\", \"Storks\", \"10 Cloverfield Lane\", \"Lights Out\", \"Hacksaw Ridge\", \"Allegiant\", \"Now You See Me 2\", \"Ice Age: Collision Course\", \"The Boss\"]}}, \"title\": \"Female\", \"transform\": [{\"filter\": \"(((datum.TYPE !== 'Unknown') && (datum.GENDER !== 'Unknown')) && (datum.GENDER !== 'null'))\"}, {\"filter\": \"(datum.GENDER === 'Female')\"}], \"$schema\": \"https://vega.github.io/schema/vega-lite/v4.8.1.json\"}, {\"mode\": \"vega-lite\"});\n",
       "</script>"
      ],
      "text/plain": [
       "alt.Chart(...)"
      ]
     },
     "execution_count": 8,
     "metadata": {},
     "output_type": "execute_result"
    }
   ],
   "source": [
    "female_bar"
   ]
  },
  {
   "cell_type": "markdown",
   "metadata": {
    "deletable": false,
    "nbgrader": {
     "cell_type": "markdown",
     "checksum": "1edda52101071091593990b4dc66479e",
     "grade": true,
     "grade_id": "cell-95c447f9edd42128",
     "locked": false,
     "points": 0,
     "schema_version": 3,
     "solution": true
    }
   },
   "source": [
    "How many variables are encoded in the visualization above? Add your answer below.\n",
    "\n",
    "Answer: 2"
   ]
  },
  {
   "cell_type": "markdown",
   "metadata": {},
   "source": [
    "### 2.2 Alternative encoding (5 points)\n",
    "Complete the `gen_f_circle_vis` function. Change the encoding used in the previous example from a bar to a circle. Your visualization should look like \n",
    "\n",
    "![\"Drawing\"](assets/alt_enc_1_resized.png)\n",
    "\n",
    "click [here](assets/alt_enc_1_resized_fullImage.png) to see the full-sized image."
   ]
  },
  {
   "cell_type": "code",
   "execution_count": 9,
   "metadata": {
    "deletable": false,
    "nbgrader": {
     "cell_type": "code",
     "checksum": "ed105e4546c56b313cc4af61a5f376e2",
     "grade": true,
     "grade_id": "cell-c15e82b678a92ad3",
     "locked": false,
     "points": 0,
     "schema_version": 3,
     "solution": true
    }
   },
   "outputs": [],
   "source": [
    "def gen_f_circle_vis(base, indf):\n",
    "    \"\"\"\n",
    "    input: base -- 'base' chart as defined above\n",
    "    input: indf -- a dataframe like actors_movies (you can use this or 'base' to achieve the desired work)\n",
    "    \n",
    "    return the call to altair function that uses the circle mark for the variables encoded in the previous example\n",
    "    \"\"\"\n",
    "    # return encoding. (...)\n",
    "    # YOUR CODE HERE\n",
    "    \n",
    "    encoding = base.transform_filter(\n",
    "        alt.datum.GENDER == 'Female'\n",
    "    ).encode(\n",
    "        # adding all the encoding stuff\n",
    "        y= alt.Y(\n",
    "            'index:N',\n",
    "            sort= movies_order\n",
    "        ),\n",
    "        x=alt.X('count(index):Q',\n",
    "                title='cast count'),\n",
    "    ).mark_point(filled=True # use a \"circle\" symbol\n",
    "    ).properties(\n",
    "        # set the title\n",
    "        title='Female'\n",
    "    )\n",
    "    \n",
    "    return encoding\n",
    "    \n",
    "#     raise NotImplementedError()"
   ]
  },
  {
   "cell_type": "code",
   "execution_count": 10,
   "metadata": {},
   "outputs": [
    {
     "data": {
      "text/html": [
       "\n",
       "<div id=\"altair-viz-251b61653cf948388e3c8b53f0c60de1\"></div>\n",
       "<script type=\"text/javascript\">\n",
       "  (function(spec, embedOpt){\n",
       "    let outputDiv = document.currentScript.previousElementSibling;\n",
       "    if (outputDiv.id !== \"altair-viz-251b61653cf948388e3c8b53f0c60de1\") {\n",
       "      outputDiv = document.getElementById(\"altair-viz-251b61653cf948388e3c8b53f0c60de1\");\n",
       "    }\n",
       "    const paths = {\n",
       "      \"vega\": \"https://cdn.jsdelivr.net/npm//vega@5?noext\",\n",
       "      \"vega-lib\": \"https://cdn.jsdelivr.net/npm//vega-lib?noext\",\n",
       "      \"vega-lite\": \"https://cdn.jsdelivr.net/npm//vega-lite@4.8.1?noext\",\n",
       "      \"vega-embed\": \"https://cdn.jsdelivr.net/npm//vega-embed@6?noext\",\n",
       "    };\n",
       "\n",
       "    function loadScript(lib) {\n",
       "      return new Promise(function(resolve, reject) {\n",
       "        var s = document.createElement('script');\n",
       "        s.src = paths[lib];\n",
       "        s.async = true;\n",
       "        s.onload = () => resolve(paths[lib]);\n",
       "        s.onerror = () => reject(`Error loading script: ${paths[lib]}`);\n",
       "        document.getElementsByTagName(\"head\")[0].appendChild(s);\n",
       "      });\n",
       "    }\n",
       "\n",
       "    function showError(err) {\n",
       "      outputDiv.innerHTML = `<div class=\"error\" style=\"color:red;\">${err}</div>`;\n",
       "      throw err;\n",
       "    }\n",
       "\n",
       "    function displayChart(vegaEmbed) {\n",
       "      vegaEmbed(outputDiv, spec, embedOpt)\n",
       "        .catch(err => showError(`Javascript Error: ${err.message}<br>This usually means there's a typo in your chart specification. See the javascript console for the full traceback.`));\n",
       "    }\n",
       "\n",
       "    if(typeof define === \"function\" && define.amd) {\n",
       "      requirejs.config({paths});\n",
       "      require([\"vega-embed\"], displayChart, err => showError(`Error loading script: ${err.message}`));\n",
       "    } else if (typeof vegaEmbed === \"function\") {\n",
       "      displayChart(vegaEmbed);\n",
       "    } else {\n",
       "      loadScript(\"vega\")\n",
       "        .then(() => loadScript(\"vega-lite\"))\n",
       "        .then(() => loadScript(\"vega-embed\"))\n",
       "        .catch(showError)\n",
       "        .then(() => displayChart(vegaEmbed));\n",
       "    }\n",
       "  })({\"config\": {\"view\": {\"continuousWidth\": 400, \"continuousHeight\": 300}}, \"data\": {\"url\": \"altair-data-b2fe8fb5616f2f0ec61f01d320bf8001.json\", \"format\": {\"type\": \"json\"}}, \"mark\": {\"type\": \"point\", \"filled\": true}, \"encoding\": {\"x\": {\"type\": \"quantitative\", \"aggregate\": \"count\", \"field\": \"index\", \"title\": \"cast count\"}, \"y\": {\"type\": \"nominal\", \"field\": \"index\", \"sort\": [\"Rogue One\", \"Finding Dory\", \"Captain America: Civil War\", \"The Secret Life of Pets\", \"The Jungle Book\", \"Deadpool\", \"Zootopia\", \"Batman v Superman: Dawn of Justice\", \"Suicide Squad\", \"Sing\", \"Moana\", \"Fantastic Beasts and Where to Find Them\", \"Doctor Strange\", \"Hidden Figures\", \"Jason Bourne\", \"Star Trek Beyond\", \"X-Men: Apocalypse\", \"Trolls\", \"La La Land\", \"Kung Fu Panda 3\", \"Ghostbusters\", \"Central Intelligence\", \"The Legend of Tarzan\", \"Sully\", \"Bad Moms\", \"The Angry Birds Movie\", \"Independence Day: Resurgence\", \"The Conjuring 2\", \"Arrival\", \"Passengers\", \"Sausage Party\", \"The Magnificent Seven\", \"Ride Along 2\", \"Don't Breathe\", \"Miss Peregrine's Home for Peculiar Children\", \"The Accountant\", \"Teenage Mutant Ninja Turtles: Out of the Shadows\", \"The Purge: Election Year\", \"Alice Through the Looking Glass\", \"Pete's Dragon\", \"The Girl on the Train\", \"Boo! A Madea Halloween\", \"Storks\", \"10 Cloverfield Lane\", \"Lights Out\", \"Hacksaw Ridge\", \"Allegiant\", \"Now You See Me 2\", \"Ice Age: Collision Course\", \"The Boss\"]}}, \"title\": \"Female\", \"transform\": [{\"filter\": \"(((datum.TYPE !== 'Unknown') && (datum.GENDER !== 'Unknown')) && (datum.GENDER !== 'null'))\"}, {\"filter\": \"(datum.GENDER === 'Female')\"}], \"$schema\": \"https://vega.github.io/schema/vega-lite/v4.8.1.json\"}, {\"mode\": \"vega-lite\"});\n",
       "</script>"
      ],
      "text/plain": [
       "alt.Chart(...)"
      ]
     },
     "execution_count": 10,
     "metadata": {},
     "output_type": "execute_result"
    }
   ],
   "source": [
    "# generate and display the vis\n",
    "circle = gen_f_circle_vis(base_vis, actors_movies)\n",
    "circle"
   ]
  },
  {
   "cell_type": "markdown",
   "metadata": {},
   "source": [
    "### 2.3 Increase variables encoded (5 points)\n",
    "Complete the `gen_f_stacked_vis` function. Modify the first bar chart encoding the type of the actor with the color of the bar. Your visualization should look like the following (note that we don't have labels yet):\n",
    "![\"Drawing\"](assets/alt_enc_2_resized.png)\n",
    "\n",
    "click [here](assets/alt_enc_2_fullSize.png) to see the full-sized image.\n",
    "\n",
    "- _Partial credit can be granted for each visualization (up to 2 points) if you provide a description of what the missing piece of the function is supposed to do without need for an Altair working version_\n"
   ]
  },
  {
   "cell_type": "code",
   "execution_count": 11,
   "metadata": {
    "deletable": false,
    "nbgrader": {
     "cell_type": "code",
     "checksum": "e675c50a5c0cea95040e4a8f73b40f3e",
     "grade": true,
     "grade_id": "cell-5d85b9f956e447a1",
     "locked": false,
     "points": 0,
     "schema_version": 3,
     "solution": true
    }
   },
   "outputs": [],
   "source": [
    "def gen_f_stacked_vis(base, indf):\n",
    "    \"\"\"\n",
    "    input: base -- 'base' chart as defined above\n",
    "    input: indf -- a dataframe like actors_movies (you can use this or 'base' to achieve the desired work)\n",
    " \n",
    "    return the call to Altair function that uses the bar mark for the variables and the color for the TYPE \n",
    "    \"\"\"\n",
    "    \n",
    "    # YOUR CODE HERE\n",
    "    \n",
    "    encoding = base.transform_filter(\n",
    "        alt.datum.GENDER == 'Female'\n",
    "    ).encode(\n",
    "        y= alt.Y(\n",
    "            'index:N',\n",
    "            sort= movies_order,\n",
    "            axis=None\n",
    "        ),\n",
    "        x=alt.X('count(index):Q',\n",
    "                title='cast count'),\n",
    "        # add color encoding\n",
    "        color=alt.Color('TYPE:N'),\n",
    "        order=alt.Order('TYPE:N', sort='descending')\n",
    "    )\n",
    "    \n",
    "#     raise NotImplementedError()\n",
    "    \n",
    "    return encoding.mark_bar().properties(title='Female')"
   ]
  },
  {
   "cell_type": "code",
   "execution_count": 12,
   "metadata": {},
   "outputs": [
    {
     "data": {
      "text/html": [
       "\n",
       "<div id=\"altair-viz-72b126d4075d44ad899502b576955ef0\"></div>\n",
       "<script type=\"text/javascript\">\n",
       "  (function(spec, embedOpt){\n",
       "    let outputDiv = document.currentScript.previousElementSibling;\n",
       "    if (outputDiv.id !== \"altair-viz-72b126d4075d44ad899502b576955ef0\") {\n",
       "      outputDiv = document.getElementById(\"altair-viz-72b126d4075d44ad899502b576955ef0\");\n",
       "    }\n",
       "    const paths = {\n",
       "      \"vega\": \"https://cdn.jsdelivr.net/npm//vega@5?noext\",\n",
       "      \"vega-lib\": \"https://cdn.jsdelivr.net/npm//vega-lib?noext\",\n",
       "      \"vega-lite\": \"https://cdn.jsdelivr.net/npm//vega-lite@4.8.1?noext\",\n",
       "      \"vega-embed\": \"https://cdn.jsdelivr.net/npm//vega-embed@6?noext\",\n",
       "    };\n",
       "\n",
       "    function loadScript(lib) {\n",
       "      return new Promise(function(resolve, reject) {\n",
       "        var s = document.createElement('script');\n",
       "        s.src = paths[lib];\n",
       "        s.async = true;\n",
       "        s.onload = () => resolve(paths[lib]);\n",
       "        s.onerror = () => reject(`Error loading script: ${paths[lib]}`);\n",
       "        document.getElementsByTagName(\"head\")[0].appendChild(s);\n",
       "      });\n",
       "    }\n",
       "\n",
       "    function showError(err) {\n",
       "      outputDiv.innerHTML = `<div class=\"error\" style=\"color:red;\">${err}</div>`;\n",
       "      throw err;\n",
       "    }\n",
       "\n",
       "    function displayChart(vegaEmbed) {\n",
       "      vegaEmbed(outputDiv, spec, embedOpt)\n",
       "        .catch(err => showError(`Javascript Error: ${err.message}<br>This usually means there's a typo in your chart specification. See the javascript console for the full traceback.`));\n",
       "    }\n",
       "\n",
       "    if(typeof define === \"function\" && define.amd) {\n",
       "      requirejs.config({paths});\n",
       "      require([\"vega-embed\"], displayChart, err => showError(`Error loading script: ${err.message}`));\n",
       "    } else if (typeof vegaEmbed === \"function\") {\n",
       "      displayChart(vegaEmbed);\n",
       "    } else {\n",
       "      loadScript(\"vega\")\n",
       "        .then(() => loadScript(\"vega-lite\"))\n",
       "        .then(() => loadScript(\"vega-embed\"))\n",
       "        .catch(showError)\n",
       "        .then(() => displayChart(vegaEmbed));\n",
       "    }\n",
       "  })({\"config\": {\"view\": {\"continuousWidth\": 400, \"continuousHeight\": 300}}, \"data\": {\"url\": \"altair-data-b2fe8fb5616f2f0ec61f01d320bf8001.json\", \"format\": {\"type\": \"json\"}}, \"mark\": \"bar\", \"encoding\": {\"color\": {\"type\": \"nominal\", \"field\": \"TYPE\"}, \"order\": {\"type\": \"nominal\", \"field\": \"TYPE\", \"sort\": \"descending\"}, \"x\": {\"type\": \"quantitative\", \"aggregate\": \"count\", \"field\": \"index\", \"title\": \"cast count\"}, \"y\": {\"type\": \"nominal\", \"axis\": null, \"field\": \"index\", \"sort\": [\"Rogue One\", \"Finding Dory\", \"Captain America: Civil War\", \"The Secret Life of Pets\", \"The Jungle Book\", \"Deadpool\", \"Zootopia\", \"Batman v Superman: Dawn of Justice\", \"Suicide Squad\", \"Sing\", \"Moana\", \"Fantastic Beasts and Where to Find Them\", \"Doctor Strange\", \"Hidden Figures\", \"Jason Bourne\", \"Star Trek Beyond\", \"X-Men: Apocalypse\", \"Trolls\", \"La La Land\", \"Kung Fu Panda 3\", \"Ghostbusters\", \"Central Intelligence\", \"The Legend of Tarzan\", \"Sully\", \"Bad Moms\", \"The Angry Birds Movie\", \"Independence Day: Resurgence\", \"The Conjuring 2\", \"Arrival\", \"Passengers\", \"Sausage Party\", \"The Magnificent Seven\", \"Ride Along 2\", \"Don't Breathe\", \"Miss Peregrine's Home for Peculiar Children\", \"The Accountant\", \"Teenage Mutant Ninja Turtles: Out of the Shadows\", \"The Purge: Election Year\", \"Alice Through the Looking Glass\", \"Pete's Dragon\", \"The Girl on the Train\", \"Boo! A Madea Halloween\", \"Storks\", \"10 Cloverfield Lane\", \"Lights Out\", \"Hacksaw Ridge\", \"Allegiant\", \"Now You See Me 2\", \"Ice Age: Collision Course\", \"The Boss\"]}}, \"title\": \"Female\", \"transform\": [{\"filter\": \"(((datum.TYPE !== 'Unknown') && (datum.GENDER !== 'Unknown')) && (datum.GENDER !== 'null'))\"}, {\"filter\": \"(datum.GENDER === 'Female')\"}], \"$schema\": \"https://vega.github.io/schema/vega-lite/v4.8.1.json\"}, {\"mode\": \"vega-lite\"});\n",
       "</script>"
      ],
      "text/plain": [
       "alt.Chart(...)"
      ]
     },
     "execution_count": 12,
     "metadata": {},
     "output_type": "execute_result"
    }
   ],
   "source": [
    "female = gen_f_stacked_vis(base_vis, actors_movies)\n",
    "female"
   ]
  },
  {
   "cell_type": "markdown",
   "metadata": {},
   "source": [
    "### 2.4 Change filter transform (5 points)\n",
    "Complete the male_actors function, modify the previous visualization so that the actors visualized have Male gender. Use the Altair transform function for this, not Pandas.\n",
    "\n",
    "\n",
    "![\"Drawing\"](assets/alt_enc_3_resized.png)\n",
    "\n",
    "click [here](assets/alt_enc_3_fullSize.png) to see the full-sized image.\n",
    "\n",
    "- _Partial credit can be granted for each visualization (up to 2 points) if you provide a description of what the missing piece of the function is supposed to do without need for an altair working version_"
   ]
  },
  {
   "cell_type": "code",
   "execution_count": 13,
   "metadata": {
    "deletable": false,
    "nbgrader": {
     "cell_type": "code",
     "checksum": "804b566e484b87f806c18aa4ba2cf634",
     "grade": true,
     "grade_id": "cell-e40f8304d6037ab9",
     "locked": false,
     "points": 0,
     "schema_version": 3,
     "solution": true
    }
   },
   "outputs": [],
   "source": [
    "def gen_m_stacked_vis(base, indf):\n",
    "    \"\"\"\n",
    "    input: base -- 'base' chart as defined above\n",
    "    input: indf -- a dataframe like actors_movies (you can use this or 'base' to achieve the desired work)\n",
    " \n",
    "    return the call to Altair function that uses the bar mark for the variables and the color for the TYPE \n",
    "    \"\"\"\n",
    "    # YOUR CODE HERE\n",
    "    \n",
    "    encoding = base.transform_filter(\n",
    "        alt.datum.GENDER == 'Male'\n",
    "    ).encode(\n",
    "            y= alt.Y(\n",
    "            'index:N',\n",
    "            sort= movies_order\n",
    "        ),\n",
    "        x=alt.X('count(index):Q',\n",
    "                sort='descending',\n",
    "                title='cast count'),\n",
    "        # add color encoding\n",
    "        color=alt.Color('TYPE:N'),\n",
    "        order=alt.Order('TYPE:N', sort='descending')        \n",
    "    ).mark_bar().properties(title='Male')\n",
    "    \n",
    "#     raise NotImplementedError()\n",
    "    \n",
    "    return encoding.mark_bar().properties(title='Male')"
   ]
  },
  {
   "cell_type": "code",
   "execution_count": 14,
   "metadata": {},
   "outputs": [
    {
     "data": {
      "text/html": [
       "\n",
       "<div id=\"altair-viz-dfae89d0cff54904bc223a4befef22fa\"></div>\n",
       "<script type=\"text/javascript\">\n",
       "  (function(spec, embedOpt){\n",
       "    let outputDiv = document.currentScript.previousElementSibling;\n",
       "    if (outputDiv.id !== \"altair-viz-dfae89d0cff54904bc223a4befef22fa\") {\n",
       "      outputDiv = document.getElementById(\"altair-viz-dfae89d0cff54904bc223a4befef22fa\");\n",
       "    }\n",
       "    const paths = {\n",
       "      \"vega\": \"https://cdn.jsdelivr.net/npm//vega@5?noext\",\n",
       "      \"vega-lib\": \"https://cdn.jsdelivr.net/npm//vega-lib?noext\",\n",
       "      \"vega-lite\": \"https://cdn.jsdelivr.net/npm//vega-lite@4.8.1?noext\",\n",
       "      \"vega-embed\": \"https://cdn.jsdelivr.net/npm//vega-embed@6?noext\",\n",
       "    };\n",
       "\n",
       "    function loadScript(lib) {\n",
       "      return new Promise(function(resolve, reject) {\n",
       "        var s = document.createElement('script');\n",
       "        s.src = paths[lib];\n",
       "        s.async = true;\n",
       "        s.onload = () => resolve(paths[lib]);\n",
       "        s.onerror = () => reject(`Error loading script: ${paths[lib]}`);\n",
       "        document.getElementsByTagName(\"head\")[0].appendChild(s);\n",
       "      });\n",
       "    }\n",
       "\n",
       "    function showError(err) {\n",
       "      outputDiv.innerHTML = `<div class=\"error\" style=\"color:red;\">${err}</div>`;\n",
       "      throw err;\n",
       "    }\n",
       "\n",
       "    function displayChart(vegaEmbed) {\n",
       "      vegaEmbed(outputDiv, spec, embedOpt)\n",
       "        .catch(err => showError(`Javascript Error: ${err.message}<br>This usually means there's a typo in your chart specification. See the javascript console for the full traceback.`));\n",
       "    }\n",
       "\n",
       "    if(typeof define === \"function\" && define.amd) {\n",
       "      requirejs.config({paths});\n",
       "      require([\"vega-embed\"], displayChart, err => showError(`Error loading script: ${err.message}`));\n",
       "    } else if (typeof vegaEmbed === \"function\") {\n",
       "      displayChart(vegaEmbed);\n",
       "    } else {\n",
       "      loadScript(\"vega\")\n",
       "        .then(() => loadScript(\"vega-lite\"))\n",
       "        .then(() => loadScript(\"vega-embed\"))\n",
       "        .catch(showError)\n",
       "        .then(() => displayChart(vegaEmbed));\n",
       "    }\n",
       "  })({\"config\": {\"view\": {\"continuousWidth\": 400, \"continuousHeight\": 300}}, \"data\": {\"url\": \"altair-data-b2fe8fb5616f2f0ec61f01d320bf8001.json\", \"format\": {\"type\": \"json\"}}, \"mark\": \"bar\", \"encoding\": {\"color\": {\"type\": \"nominal\", \"field\": \"TYPE\"}, \"order\": {\"type\": \"nominal\", \"field\": \"TYPE\", \"sort\": \"descending\"}, \"x\": {\"type\": \"quantitative\", \"aggregate\": \"count\", \"field\": \"index\", \"sort\": \"descending\", \"title\": \"cast count\"}, \"y\": {\"type\": \"nominal\", \"field\": \"index\", \"sort\": [\"Rogue One\", \"Finding Dory\", \"Captain America: Civil War\", \"The Secret Life of Pets\", \"The Jungle Book\", \"Deadpool\", \"Zootopia\", \"Batman v Superman: Dawn of Justice\", \"Suicide Squad\", \"Sing\", \"Moana\", \"Fantastic Beasts and Where to Find Them\", \"Doctor Strange\", \"Hidden Figures\", \"Jason Bourne\", \"Star Trek Beyond\", \"X-Men: Apocalypse\", \"Trolls\", \"La La Land\", \"Kung Fu Panda 3\", \"Ghostbusters\", \"Central Intelligence\", \"The Legend of Tarzan\", \"Sully\", \"Bad Moms\", \"The Angry Birds Movie\", \"Independence Day: Resurgence\", \"The Conjuring 2\", \"Arrival\", \"Passengers\", \"Sausage Party\", \"The Magnificent Seven\", \"Ride Along 2\", \"Don't Breathe\", \"Miss Peregrine's Home for Peculiar Children\", \"The Accountant\", \"Teenage Mutant Ninja Turtles: Out of the Shadows\", \"The Purge: Election Year\", \"Alice Through the Looking Glass\", \"Pete's Dragon\", \"The Girl on the Train\", \"Boo! A Madea Halloween\", \"Storks\", \"10 Cloverfield Lane\", \"Lights Out\", \"Hacksaw Ridge\", \"Allegiant\", \"Now You See Me 2\", \"Ice Age: Collision Course\", \"The Boss\"]}}, \"title\": \"Male\", \"transform\": [{\"filter\": \"(((datum.TYPE !== 'Unknown') && (datum.GENDER !== 'Unknown')) && (datum.GENDER !== 'null'))\"}, {\"filter\": \"(datum.GENDER === 'Male')\"}], \"$schema\": \"https://vega.github.io/schema/vega-lite/v4.8.1.json\"}, {\"mode\": \"vega-lite\"});\n",
       "</script>"
      ],
      "text/plain": [
       "alt.Chart(...)"
      ]
     },
     "execution_count": 14,
     "metadata": {},
     "output_type": "execute_result"
    }
   ],
   "source": [
    "male = gen_m_stacked_vis(base_vis, actors_movies)\n",
    "male"
   ]
  },
  {
   "cell_type": "markdown",
   "metadata": {},
   "source": [
    "### 2.5 Variables encoded 2 (5 points)\n",
    "Execute the following cell and determine how many variables are being encoded in the combined visualization. If you have been able to complete the previous examples, the plot should look like this\n",
    "\n",
    "![\"Drawing\"](assets/visualization_resized.png)\n",
    "\n",
    "click [here](assets/visualization_fullSize.png) to see the full-sized image."
   ]
  },
  {
   "cell_type": "code",
   "execution_count": 15,
   "metadata": {},
   "outputs": [
    {
     "data": {
      "text/html": [
       "\n",
       "<div id=\"altair-viz-72d74dcea61e46e5afc9222b47c32000\"></div>\n",
       "<script type=\"text/javascript\">\n",
       "  (function(spec, embedOpt){\n",
       "    let outputDiv = document.currentScript.previousElementSibling;\n",
       "    if (outputDiv.id !== \"altair-viz-72d74dcea61e46e5afc9222b47c32000\") {\n",
       "      outputDiv = document.getElementById(\"altair-viz-72d74dcea61e46e5afc9222b47c32000\");\n",
       "    }\n",
       "    const paths = {\n",
       "      \"vega\": \"https://cdn.jsdelivr.net/npm//vega@5?noext\",\n",
       "      \"vega-lib\": \"https://cdn.jsdelivr.net/npm//vega-lib?noext\",\n",
       "      \"vega-lite\": \"https://cdn.jsdelivr.net/npm//vega-lite@4.8.1?noext\",\n",
       "      \"vega-embed\": \"https://cdn.jsdelivr.net/npm//vega-embed@6?noext\",\n",
       "    };\n",
       "\n",
       "    function loadScript(lib) {\n",
       "      return new Promise(function(resolve, reject) {\n",
       "        var s = document.createElement('script');\n",
       "        s.src = paths[lib];\n",
       "        s.async = true;\n",
       "        s.onload = () => resolve(paths[lib]);\n",
       "        s.onerror = () => reject(`Error loading script: ${paths[lib]}`);\n",
       "        document.getElementsByTagName(\"head\")[0].appendChild(s);\n",
       "      });\n",
       "    }\n",
       "\n",
       "    function showError(err) {\n",
       "      outputDiv.innerHTML = `<div class=\"error\" style=\"color:red;\">${err}</div>`;\n",
       "      throw err;\n",
       "    }\n",
       "\n",
       "    function displayChart(vegaEmbed) {\n",
       "      vegaEmbed(outputDiv, spec, embedOpt)\n",
       "        .catch(err => showError(`Javascript Error: ${err.message}<br>This usually means there's a typo in your chart specification. See the javascript console for the full traceback.`));\n",
       "    }\n",
       "\n",
       "    if(typeof define === \"function\" && define.amd) {\n",
       "      requirejs.config({paths});\n",
       "      require([\"vega-embed\"], displayChart, err => showError(`Error loading script: ${err.message}`));\n",
       "    } else if (typeof vegaEmbed === \"function\") {\n",
       "      displayChart(vegaEmbed);\n",
       "    } else {\n",
       "      loadScript(\"vega\")\n",
       "        .then(() => loadScript(\"vega-lite\"))\n",
       "        .then(() => loadScript(\"vega-embed\"))\n",
       "        .catch(showError)\n",
       "        .then(() => displayChart(vegaEmbed));\n",
       "    }\n",
       "  })({\"config\": {\"view\": {\"continuousWidth\": 400, \"continuousHeight\": 300}}, \"hconcat\": [{\"mark\": \"bar\", \"encoding\": {\"color\": {\"type\": \"nominal\", \"field\": \"TYPE\"}, \"order\": {\"type\": \"nominal\", \"field\": \"TYPE\", \"sort\": \"descending\"}, \"x\": {\"type\": \"quantitative\", \"aggregate\": \"count\", \"field\": \"index\", \"sort\": \"descending\", \"title\": \"cast count\"}, \"y\": {\"type\": \"nominal\", \"field\": \"index\", \"sort\": [\"Rogue One\", \"Finding Dory\", \"Captain America: Civil War\", \"The Secret Life of Pets\", \"The Jungle Book\", \"Deadpool\", \"Zootopia\", \"Batman v Superman: Dawn of Justice\", \"Suicide Squad\", \"Sing\", \"Moana\", \"Fantastic Beasts and Where to Find Them\", \"Doctor Strange\", \"Hidden Figures\", \"Jason Bourne\", \"Star Trek Beyond\", \"X-Men: Apocalypse\", \"Trolls\", \"La La Land\", \"Kung Fu Panda 3\", \"Ghostbusters\", \"Central Intelligence\", \"The Legend of Tarzan\", \"Sully\", \"Bad Moms\", \"The Angry Birds Movie\", \"Independence Day: Resurgence\", \"The Conjuring 2\", \"Arrival\", \"Passengers\", \"Sausage Party\", \"The Magnificent Seven\", \"Ride Along 2\", \"Don't Breathe\", \"Miss Peregrine's Home for Peculiar Children\", \"The Accountant\", \"Teenage Mutant Ninja Turtles: Out of the Shadows\", \"The Purge: Election Year\", \"Alice Through the Looking Glass\", \"Pete's Dragon\", \"The Girl on the Train\", \"Boo! A Madea Halloween\", \"Storks\", \"10 Cloverfield Lane\", \"Lights Out\", \"Hacksaw Ridge\", \"Allegiant\", \"Now You See Me 2\", \"Ice Age: Collision Course\", \"The Boss\"]}}, \"title\": \"Male\", \"transform\": [{\"filter\": \"(((datum.TYPE !== 'Unknown') && (datum.GENDER !== 'Unknown')) && (datum.GENDER !== 'null'))\"}, {\"filter\": \"(datum.GENDER === 'Male')\"}]}, {\"mark\": \"text\", \"encoding\": {\"color\": {\"type\": \"nominal\", \"field\": \"bechdel\"}, \"text\": {\"type\": \"quantitative\", \"field\": \"Rank\"}, \"y\": {\"type\": \"ordinal\", \"axis\": null, \"field\": \"Rank\"}}, \"transform\": [{\"filter\": \"(((datum.TYPE !== 'Unknown') && (datum.GENDER !== 'Unknown')) && (datum.GENDER !== 'null'))\"}], \"width\": 20}, {\"mark\": \"bar\", \"encoding\": {\"color\": {\"type\": \"nominal\", \"field\": \"TYPE\"}, \"order\": {\"type\": \"nominal\", \"field\": \"TYPE\", \"sort\": \"descending\"}, \"x\": {\"type\": \"quantitative\", \"aggregate\": \"count\", \"field\": \"index\", \"title\": \"cast count\"}, \"y\": {\"type\": \"nominal\", \"axis\": null, \"field\": \"index\", \"sort\": [\"Rogue One\", \"Finding Dory\", \"Captain America: Civil War\", \"The Secret Life of Pets\", \"The Jungle Book\", \"Deadpool\", \"Zootopia\", \"Batman v Superman: Dawn of Justice\", \"Suicide Squad\", \"Sing\", \"Moana\", \"Fantastic Beasts and Where to Find Them\", \"Doctor Strange\", \"Hidden Figures\", \"Jason Bourne\", \"Star Trek Beyond\", \"X-Men: Apocalypse\", \"Trolls\", \"La La Land\", \"Kung Fu Panda 3\", \"Ghostbusters\", \"Central Intelligence\", \"The Legend of Tarzan\", \"Sully\", \"Bad Moms\", \"The Angry Birds Movie\", \"Independence Day: Resurgence\", \"The Conjuring 2\", \"Arrival\", \"Passengers\", \"Sausage Party\", \"The Magnificent Seven\", \"Ride Along 2\", \"Don't Breathe\", \"Miss Peregrine's Home for Peculiar Children\", \"The Accountant\", \"Teenage Mutant Ninja Turtles: Out of the Shadows\", \"The Purge: Election Year\", \"Alice Through the Looking Glass\", \"Pete's Dragon\", \"The Girl on the Train\", \"Boo! A Madea Halloween\", \"Storks\", \"10 Cloverfield Lane\", \"Lights Out\", \"Hacksaw Ridge\", \"Allegiant\", \"Now You See Me 2\", \"Ice Age: Collision Course\", \"The Boss\"]}}, \"title\": \"Female\", \"transform\": [{\"filter\": \"(((datum.TYPE !== 'Unknown') && (datum.GENDER !== 'Unknown')) && (datum.GENDER !== 'null'))\"}, {\"filter\": \"(datum.GENDER === 'Female')\"}]}], \"data\": {\"url\": \"altair-data-b2fe8fb5616f2f0ec61f01d320bf8001.json\", \"format\": {\"type\": \"json\"}}, \"$schema\": \"https://vega.github.io/schema/vega-lite/v4.8.1.json\"}, {\"mode\": \"vega-lite\"});\n",
       "</script>"
      ],
      "text/plain": [
       "alt.HConcatChart(...)"
      ]
     },
     "execution_count": 15,
     "metadata": {},
     "output_type": "execute_result"
    }
   ],
   "source": [
    "def get_middle_vis(base, indf):\n",
    "    \"\"\"\n",
    "    input: base -- 'base' chart as defined above\n",
    "    input: indf -- a dataframe like actors_movies (you can use this or 'base' to achieve the desired work)\n",
    "    \n",
    "    return the \"middle\" column -- a text visualization\n",
    "    \"\"\"\n",
    "    middle = base.encode(\n",
    "        y=alt.Y('Rank:O', axis=None),\n",
    "        text=alt.Text('Rank:Q'),\n",
    "        color=alt.Color('bechdel:N')\n",
    "    ).mark_text().properties(width=20)\n",
    "    return(middle)\n",
    "\n",
    "# merge together the three charts, male, middle, female\n",
    "middle = get_middle_vis(base_vis, actors_movies)\n",
    "male | middle | female"
   ]
  },
  {
   "cell_type": "markdown",
   "metadata": {
    "deletable": false,
    "nbgrader": {
     "cell_type": "markdown",
     "checksum": "f6f7fd072b4a11e3abb955a2bfec93c7",
     "grade": true,
     "grade_id": "cell-4d6793df3e205318",
     "locked": false,
     "points": 0,
     "schema_version": 3,
     "solution": true
    }
   },
   "source": [
    "How many variables are encoded in the visualization above? (this should be an integer)\n",
    "\n",
    "Answer: 5"
   ]
  },
  {
   "cell_type": "markdown",
   "metadata": {},
   "source": [
    "### 2.6 Alternative encoding 1 (20 Points)\n",
    "Create a new visualization within the `gen_bubble_vis` function with the following encoding:\n",
    "- Use circles as the mark\n",
    "- Use the scale of the circles to encode the number of actors on each category\n",
    "- Use the y position of the circle to encode the movie\n",
    "- Use the x position of the circle to encode the type of actor\n",
    "- Use the color of the circle to encode the gender of the actor\n",
    "- Match the styling of the example (it doesn't need to be pixel perfect, but should be close)\n",
    "- you don't need to generate the leftmost column (it's the same as \"middle\" above and we'll add it at the end.\n",
    "\n",
    "\n",
    "![\"Drawing\"](assets/visualization_2_resized.png)\n",
    "\n",
    "click [here](assets/visualization_2_fullSize.png) to see the full-sized image.\n",
    "\n",
    "- _Partial credit can be granted for each visualization (up to 5 points) if you provide a description of what the missing piece of the function is supposed to do_"
   ]
  },
  {
   "cell_type": "code",
   "execution_count": 16,
   "metadata": {
    "deletable": false,
    "nbgrader": {
     "cell_type": "code",
     "checksum": "82369794b4a3dadb9277056adf083e83",
     "grade": true,
     "grade_id": "cell-efcdd18e5bdbfb69",
     "locked": false,
     "points": 0,
     "schema_version": 3,
     "solution": true
    }
   },
   "outputs": [],
   "source": [
    "def gen_bubble_vis(base, indf):\n",
    "    \"\"\"\n",
    "    input: base -- 'base' chart as defined above\n",
    "    input: indf -- a dataframe like actors_movies (you can use this or 'base' to achieve the desired work)\n",
    "    \n",
    "    return an altair chart per the specification above\n",
    "    \"\"\"\n",
    "    # YOUR CODE HERE\n",
    "    \n",
    "    plot = base.mark_circle(\n",
    "       opacity=0.8,\n",
    "       stroke='black',\n",
    "       strokeWidth=0.8,\n",
    "    ).encode(\n",
    "        alt.X('TYPE:N'),\n",
    "        alt.Y('index:N',\n",
    "              sort= movies_order),\n",
    "        color=alt.Color('GENDER:N'),\n",
    "        size=alt.Size('count(index):Q',\n",
    "                      scale=alt.Scale(range=[0, 5000]), \n",
    "                      legend=alt.Legend(symbolFillColor='#FFFFFF')\n",
    "                     )\n",
    "        #complete this\n",
    "    ).properties(\n",
    "        width=350,\n",
    "        height=880\n",
    "    )\n",
    "    \n",
    "#     raise NotImplementedError()\n",
    "    return plot"
   ]
  },
  {
   "cell_type": "code",
   "execution_count": 17,
   "metadata": {},
   "outputs": [
    {
     "data": {
      "text/html": [
       "\n",
       "<div id=\"altair-viz-9d37754e99c3437cbf6fef882798a1a5\"></div>\n",
       "<script type=\"text/javascript\">\n",
       "  (function(spec, embedOpt){\n",
       "    let outputDiv = document.currentScript.previousElementSibling;\n",
       "    if (outputDiv.id !== \"altair-viz-9d37754e99c3437cbf6fef882798a1a5\") {\n",
       "      outputDiv = document.getElementById(\"altair-viz-9d37754e99c3437cbf6fef882798a1a5\");\n",
       "    }\n",
       "    const paths = {\n",
       "      \"vega\": \"https://cdn.jsdelivr.net/npm//vega@5?noext\",\n",
       "      \"vega-lib\": \"https://cdn.jsdelivr.net/npm//vega-lib?noext\",\n",
       "      \"vega-lite\": \"https://cdn.jsdelivr.net/npm//vega-lite@4.8.1?noext\",\n",
       "      \"vega-embed\": \"https://cdn.jsdelivr.net/npm//vega-embed@6?noext\",\n",
       "    };\n",
       "\n",
       "    function loadScript(lib) {\n",
       "      return new Promise(function(resolve, reject) {\n",
       "        var s = document.createElement('script');\n",
       "        s.src = paths[lib];\n",
       "        s.async = true;\n",
       "        s.onload = () => resolve(paths[lib]);\n",
       "        s.onerror = () => reject(`Error loading script: ${paths[lib]}`);\n",
       "        document.getElementsByTagName(\"head\")[0].appendChild(s);\n",
       "      });\n",
       "    }\n",
       "\n",
       "    function showError(err) {\n",
       "      outputDiv.innerHTML = `<div class=\"error\" style=\"color:red;\">${err}</div>`;\n",
       "      throw err;\n",
       "    }\n",
       "\n",
       "    function displayChart(vegaEmbed) {\n",
       "      vegaEmbed(outputDiv, spec, embedOpt)\n",
       "        .catch(err => showError(`Javascript Error: ${err.message}<br>This usually means there's a typo in your chart specification. See the javascript console for the full traceback.`));\n",
       "    }\n",
       "\n",
       "    if(typeof define === \"function\" && define.amd) {\n",
       "      requirejs.config({paths});\n",
       "      require([\"vega-embed\"], displayChart, err => showError(`Error loading script: ${err.message}`));\n",
       "    } else if (typeof vegaEmbed === \"function\") {\n",
       "      displayChart(vegaEmbed);\n",
       "    } else {\n",
       "      loadScript(\"vega\")\n",
       "        .then(() => loadScript(\"vega-lite\"))\n",
       "        .then(() => loadScript(\"vega-embed\"))\n",
       "        .catch(showError)\n",
       "        .then(() => displayChart(vegaEmbed));\n",
       "    }\n",
       "  })({\"config\": {\"view\": {\"continuousWidth\": 400, \"continuousHeight\": 300}}, \"hconcat\": [{\"mark\": \"text\", \"encoding\": {\"color\": {\"type\": \"nominal\", \"field\": \"bechdel\"}, \"text\": {\"type\": \"quantitative\", \"field\": \"Rank\"}, \"y\": {\"type\": \"ordinal\", \"axis\": null, \"field\": \"Rank\"}}, \"transform\": [{\"filter\": \"(((datum.TYPE !== 'Unknown') && (datum.GENDER !== 'Unknown')) && (datum.GENDER !== 'null'))\"}], \"width\": 20}, {\"mark\": {\"type\": \"circle\", \"opacity\": 0.8, \"stroke\": \"black\", \"strokeWidth\": 0.8}, \"encoding\": {\"color\": {\"type\": \"nominal\", \"field\": \"GENDER\"}, \"size\": {\"type\": \"quantitative\", \"aggregate\": \"count\", \"field\": \"index\", \"legend\": {\"symbolFillColor\": \"#FFFFFF\"}, \"scale\": {\"range\": [0, 5000]}}, \"x\": {\"type\": \"nominal\", \"field\": \"TYPE\"}, \"y\": {\"type\": \"nominal\", \"field\": \"index\", \"sort\": [\"Rogue One\", \"Finding Dory\", \"Captain America: Civil War\", \"The Secret Life of Pets\", \"The Jungle Book\", \"Deadpool\", \"Zootopia\", \"Batman v Superman: Dawn of Justice\", \"Suicide Squad\", \"Sing\", \"Moana\", \"Fantastic Beasts and Where to Find Them\", \"Doctor Strange\", \"Hidden Figures\", \"Jason Bourne\", \"Star Trek Beyond\", \"X-Men: Apocalypse\", \"Trolls\", \"La La Land\", \"Kung Fu Panda 3\", \"Ghostbusters\", \"Central Intelligence\", \"The Legend of Tarzan\", \"Sully\", \"Bad Moms\", \"The Angry Birds Movie\", \"Independence Day: Resurgence\", \"The Conjuring 2\", \"Arrival\", \"Passengers\", \"Sausage Party\", \"The Magnificent Seven\", \"Ride Along 2\", \"Don't Breathe\", \"Miss Peregrine's Home for Peculiar Children\", \"The Accountant\", \"Teenage Mutant Ninja Turtles: Out of the Shadows\", \"The Purge: Election Year\", \"Alice Through the Looking Glass\", \"Pete's Dragon\", \"The Girl on the Train\", \"Boo! A Madea Halloween\", \"Storks\", \"10 Cloverfield Lane\", \"Lights Out\", \"Hacksaw Ridge\", \"Allegiant\", \"Now You See Me 2\", \"Ice Age: Collision Course\", \"The Boss\"]}}, \"height\": 880, \"transform\": [{\"filter\": \"(((datum.TYPE !== 'Unknown') && (datum.GENDER !== 'Unknown')) && (datum.GENDER !== 'null'))\"}], \"width\": 350}], \"data\": {\"url\": \"altair-data-b2fe8fb5616f2f0ec61f01d320bf8001.json\", \"format\": {\"type\": \"json\"}}, \"$schema\": \"https://vega.github.io/schema/vega-lite/v4.8.1.json\"}, {\"mode\": \"vega-lite\"});\n",
       "</script>"
      ],
      "text/plain": [
       "alt.HConcatChart(...)"
      ]
     },
     "execution_count": 17,
     "metadata": {},
     "output_type": "execute_result"
    }
   ],
   "source": [
    "# let's create the bubble chart \n",
    "al_enc_one = gen_bubble_vis(base_vis, actors_movies)\n",
    "\n",
    "# add middle to the left edge and display\n",
    "middle | al_enc_one"
   ]
  },
  {
   "cell_type": "markdown",
   "metadata": {},
   "source": [
    "### 2.7 Alternative encoding 2 (25 Points)\n",
    "We will be completing the \"heat map\" style vis as specificed below, but it will be easier to create a male and female subchart in two separate functions (the code will get long otherwise) and then put them together. Complete `gen_f_hm_vis()` and `gen_m_hm_vis()` functions to create a new visualization with the following encoding:\n",
    "- The left and right plot should filter male and female actors respectively\n",
    "- Use rectangles as the mark\n",
    "- Use the text inside each rectangle to encode the count of actors one each category (gender, type and movie)\n",
    "- Use the y position of the rectangle to encode the movie\n",
    "- Use the x position of the rectangle to encode the type of actor\n",
    "- Use the color of the rectangle to encode whether that movie passes the Bechdel test or not (bechdel variable)\n",
    "- Note that only the female vis has labels on the left, the male vis does not\n",
    "\n",
    "The top of the female plot would look like this (click [here](assets/visualization_3_fullSize.png) to see the full-sized image):\n",
    "\n",
    "![\"Drawing\"](assets/visualization_3_resized.png)\n",
    "\n",
    "If you've done everything correctly, your final visualization should look like the one below (click [here](assets/visualization_3_full.png) for the full plot).\n",
    "\n",
    "![\"Drawing\"](assets/visualization_3.png)\n",
    "\n",
    "- _Partial credit can be granted for each visualization (up to 4 points for each function) if you provide a description of what the missing piece of the function is supposed to do without need for an Altair working version_"
   ]
  },
  {
   "cell_type": "code",
   "execution_count": 18,
   "metadata": {
    "deletable": false,
    "nbgrader": {
     "cell_type": "code",
     "checksum": "37f444bb0f64e65222b7cf6908411aec",
     "grade": true,
     "grade_id": "cell-88e1a96bbf8920da",
     "locked": false,
     "points": 0,
     "schema_version": 3,
     "solution": true
    }
   },
   "outputs": [],
   "source": [
    "def gen_f_hm_vis(base, indf):\n",
    "    \"\"\"\n",
    "    input: base -- 'base' chart as defined above\n",
    "    input: indf -- a dataframe like actors_movies (you can use this or 'base' to achieve the desired work)\n",
    "    \n",
    "    return an altair chart per the specification above\n",
    "    \"\"\"\n",
    "    # modify to add filter transform\n",
    "    plot = base.transform_filter(\n",
    "        alt.datum.GENDER == 'Female'\n",
    "    ).mark_rect().encode(\n",
    "        alt.X('TYPE:N'),\n",
    "        alt.Y('index:N',\n",
    "              sort= movies_order),\n",
    "        color=alt.Color('bechdel:N')\n",
    "    )\n",
    "\n",
    "    #modify to add filter transform\n",
    "    text = base.transform_filter(\n",
    "        alt.datum.GENDER == 'Female'\n",
    "    ).mark_text(baseline='middle').encode(\n",
    "        x='TYPE:O',\n",
    "        y= alt.Y(\n",
    "            'index:O',\n",
    "            sort= movies_order,\n",
    "#              axis=None\n",
    "        ),\n",
    "        #change this\n",
    "        text='count(GENDER):Q'\n",
    "    )\n",
    "    # YOUR CODE HERE\n",
    "#     raise NotImplementedError()\n",
    "    \n",
    "    return plot + text"
   ]
  },
  {
   "cell_type": "code",
   "execution_count": 19,
   "metadata": {},
   "outputs": [
    {
     "data": {
      "text/html": [
       "\n",
       "<div id=\"altair-viz-7ee925c99d3d403c825d075a23ec138c\"></div>\n",
       "<script type=\"text/javascript\">\n",
       "  (function(spec, embedOpt){\n",
       "    let outputDiv = document.currentScript.previousElementSibling;\n",
       "    if (outputDiv.id !== \"altair-viz-7ee925c99d3d403c825d075a23ec138c\") {\n",
       "      outputDiv = document.getElementById(\"altair-viz-7ee925c99d3d403c825d075a23ec138c\");\n",
       "    }\n",
       "    const paths = {\n",
       "      \"vega\": \"https://cdn.jsdelivr.net/npm//vega@5?noext\",\n",
       "      \"vega-lib\": \"https://cdn.jsdelivr.net/npm//vega-lib?noext\",\n",
       "      \"vega-lite\": \"https://cdn.jsdelivr.net/npm//vega-lite@4.8.1?noext\",\n",
       "      \"vega-embed\": \"https://cdn.jsdelivr.net/npm//vega-embed@6?noext\",\n",
       "    };\n",
       "\n",
       "    function loadScript(lib) {\n",
       "      return new Promise(function(resolve, reject) {\n",
       "        var s = document.createElement('script');\n",
       "        s.src = paths[lib];\n",
       "        s.async = true;\n",
       "        s.onload = () => resolve(paths[lib]);\n",
       "        s.onerror = () => reject(`Error loading script: ${paths[lib]}`);\n",
       "        document.getElementsByTagName(\"head\")[0].appendChild(s);\n",
       "      });\n",
       "    }\n",
       "\n",
       "    function showError(err) {\n",
       "      outputDiv.innerHTML = `<div class=\"error\" style=\"color:red;\">${err}</div>`;\n",
       "      throw err;\n",
       "    }\n",
       "\n",
       "    function displayChart(vegaEmbed) {\n",
       "      vegaEmbed(outputDiv, spec, embedOpt)\n",
       "        .catch(err => showError(`Javascript Error: ${err.message}<br>This usually means there's a typo in your chart specification. See the javascript console for the full traceback.`));\n",
       "    }\n",
       "\n",
       "    if(typeof define === \"function\" && define.amd) {\n",
       "      requirejs.config({paths});\n",
       "      require([\"vega-embed\"], displayChart, err => showError(`Error loading script: ${err.message}`));\n",
       "    } else if (typeof vegaEmbed === \"function\") {\n",
       "      displayChart(vegaEmbed);\n",
       "    } else {\n",
       "      loadScript(\"vega\")\n",
       "        .then(() => loadScript(\"vega-lite\"))\n",
       "        .then(() => loadScript(\"vega-embed\"))\n",
       "        .catch(showError)\n",
       "        .then(() => displayChart(vegaEmbed));\n",
       "    }\n",
       "  })({\"config\": {\"view\": {\"continuousWidth\": 400, \"continuousHeight\": 300}}, \"layer\": [{\"mark\": \"rect\", \"encoding\": {\"color\": {\"type\": \"nominal\", \"field\": \"bechdel\"}, \"x\": {\"type\": \"nominal\", \"field\": \"TYPE\"}, \"y\": {\"type\": \"nominal\", \"field\": \"index\", \"sort\": [\"Rogue One\", \"Finding Dory\", \"Captain America: Civil War\", \"The Secret Life of Pets\", \"The Jungle Book\", \"Deadpool\", \"Zootopia\", \"Batman v Superman: Dawn of Justice\", \"Suicide Squad\", \"Sing\", \"Moana\", \"Fantastic Beasts and Where to Find Them\", \"Doctor Strange\", \"Hidden Figures\", \"Jason Bourne\", \"Star Trek Beyond\", \"X-Men: Apocalypse\", \"Trolls\", \"La La Land\", \"Kung Fu Panda 3\", \"Ghostbusters\", \"Central Intelligence\", \"The Legend of Tarzan\", \"Sully\", \"Bad Moms\", \"The Angry Birds Movie\", \"Independence Day: Resurgence\", \"The Conjuring 2\", \"Arrival\", \"Passengers\", \"Sausage Party\", \"The Magnificent Seven\", \"Ride Along 2\", \"Don't Breathe\", \"Miss Peregrine's Home for Peculiar Children\", \"The Accountant\", \"Teenage Mutant Ninja Turtles: Out of the Shadows\", \"The Purge: Election Year\", \"Alice Through the Looking Glass\", \"Pete's Dragon\", \"The Girl on the Train\", \"Boo! A Madea Halloween\", \"Storks\", \"10 Cloverfield Lane\", \"Lights Out\", \"Hacksaw Ridge\", \"Allegiant\", \"Now You See Me 2\", \"Ice Age: Collision Course\", \"The Boss\"]}}, \"transform\": [{\"filter\": \"(((datum.TYPE !== 'Unknown') && (datum.GENDER !== 'Unknown')) && (datum.GENDER !== 'null'))\"}, {\"filter\": \"(datum.GENDER === 'Female')\"}]}, {\"mark\": {\"type\": \"text\", \"baseline\": \"middle\"}, \"encoding\": {\"text\": {\"type\": \"quantitative\", \"aggregate\": \"count\", \"field\": \"GENDER\"}, \"x\": {\"type\": \"ordinal\", \"field\": \"TYPE\"}, \"y\": {\"type\": \"ordinal\", \"field\": \"index\", \"sort\": [\"Rogue One\", \"Finding Dory\", \"Captain America: Civil War\", \"The Secret Life of Pets\", \"The Jungle Book\", \"Deadpool\", \"Zootopia\", \"Batman v Superman: Dawn of Justice\", \"Suicide Squad\", \"Sing\", \"Moana\", \"Fantastic Beasts and Where to Find Them\", \"Doctor Strange\", \"Hidden Figures\", \"Jason Bourne\", \"Star Trek Beyond\", \"X-Men: Apocalypse\", \"Trolls\", \"La La Land\", \"Kung Fu Panda 3\", \"Ghostbusters\", \"Central Intelligence\", \"The Legend of Tarzan\", \"Sully\", \"Bad Moms\", \"The Angry Birds Movie\", \"Independence Day: Resurgence\", \"The Conjuring 2\", \"Arrival\", \"Passengers\", \"Sausage Party\", \"The Magnificent Seven\", \"Ride Along 2\", \"Don't Breathe\", \"Miss Peregrine's Home for Peculiar Children\", \"The Accountant\", \"Teenage Mutant Ninja Turtles: Out of the Shadows\", \"The Purge: Election Year\", \"Alice Through the Looking Glass\", \"Pete's Dragon\", \"The Girl on the Train\", \"Boo! A Madea Halloween\", \"Storks\", \"10 Cloverfield Lane\", \"Lights Out\", \"Hacksaw Ridge\", \"Allegiant\", \"Now You See Me 2\", \"Ice Age: Collision Course\", \"The Boss\"]}}, \"transform\": [{\"filter\": \"(((datum.TYPE !== 'Unknown') && (datum.GENDER !== 'Unknown')) && (datum.GENDER !== 'null'))\"}, {\"filter\": \"(datum.GENDER === 'Female')\"}]}], \"data\": {\"url\": \"altair-data-b2fe8fb5616f2f0ec61f01d320bf8001.json\", \"format\": {\"type\": \"json\"}}, \"$schema\": \"https://vega.github.io/schema/vega-lite/v4.8.1.json\"}, {\"mode\": \"vega-lite\"});\n",
       "</script>"
      ],
      "text/plain": [
       "alt.LayerChart(...)"
      ]
     },
     "execution_count": 19,
     "metadata": {},
     "output_type": "execute_result"
    }
   ],
   "source": [
    "# create the female side\n",
    "f_a_1 = gen_f_hm_vis(base_vis, actors_movies)\n",
    "\n",
    "# display it to check\n",
    "f_a_1"
   ]
  },
  {
   "cell_type": "code",
   "execution_count": 20,
   "metadata": {
    "deletable": false,
    "nbgrader": {
     "cell_type": "code",
     "checksum": "5d01b6d64af988e0ed03001fe4fba159",
     "grade": true,
     "grade_id": "cell-3fa3cd15bc77b8fd",
     "locked": false,
     "points": 0,
     "schema_version": 3,
     "solution": true
    }
   },
   "outputs": [],
   "source": [
    "def gen_m_hm_vis(base, indf):\n",
    "    \"\"\"\n",
    "    input: base -- 'base' chart as defined above\n",
    "    input: indf -- a dataframe like actors_movies (you can use this or 'base' to achieve the desired work)\n",
    "    \n",
    "    return an altair chart per the specification above\n",
    "    \"\"\"\n",
    "# modify to add filter transform\n",
    "    plot = base.transform_filter(\n",
    "        alt.datum.GENDER == 'Male'\n",
    "    ).mark_rect().encode(\n",
    "        alt.X('TYPE:N'),\n",
    "        alt.Y('index:N',\n",
    "              sort= movies_order),\n",
    "        color=alt.Color('bechdel:N')\n",
    "    )\n",
    "    \n",
    "    #modify to add filter transform\n",
    "    text = base.transform_filter(\n",
    "        alt.datum.GENDER == 'Male'\n",
    "    ).mark_text(baseline='middle').encode(\n",
    "        x='TYPE:O',\n",
    "        y= alt.Y(\n",
    "            'index:O',\n",
    "            sort= movies_order,\n",
    "             axis=None\n",
    "        ),\n",
    "        #change this\n",
    "        text='count(GENDER):Q'\n",
    "    )\n",
    "    # YOUR CODE HERE\n",
    "#     raise NotImplementedError()\n",
    "    \n",
    "    return plot + text"
   ]
  },
  {
   "cell_type": "code",
   "execution_count": 21,
   "metadata": {},
   "outputs": [
    {
     "data": {
      "text/html": [
       "\n",
       "<div id=\"altair-viz-d47b487a0e14455e8c97e1a3281e4e46\"></div>\n",
       "<script type=\"text/javascript\">\n",
       "  (function(spec, embedOpt){\n",
       "    let outputDiv = document.currentScript.previousElementSibling;\n",
       "    if (outputDiv.id !== \"altair-viz-d47b487a0e14455e8c97e1a3281e4e46\") {\n",
       "      outputDiv = document.getElementById(\"altair-viz-d47b487a0e14455e8c97e1a3281e4e46\");\n",
       "    }\n",
       "    const paths = {\n",
       "      \"vega\": \"https://cdn.jsdelivr.net/npm//vega@5?noext\",\n",
       "      \"vega-lib\": \"https://cdn.jsdelivr.net/npm//vega-lib?noext\",\n",
       "      \"vega-lite\": \"https://cdn.jsdelivr.net/npm//vega-lite@4.8.1?noext\",\n",
       "      \"vega-embed\": \"https://cdn.jsdelivr.net/npm//vega-embed@6?noext\",\n",
       "    };\n",
       "\n",
       "    function loadScript(lib) {\n",
       "      return new Promise(function(resolve, reject) {\n",
       "        var s = document.createElement('script');\n",
       "        s.src = paths[lib];\n",
       "        s.async = true;\n",
       "        s.onload = () => resolve(paths[lib]);\n",
       "        s.onerror = () => reject(`Error loading script: ${paths[lib]}`);\n",
       "        document.getElementsByTagName(\"head\")[0].appendChild(s);\n",
       "      });\n",
       "    }\n",
       "\n",
       "    function showError(err) {\n",
       "      outputDiv.innerHTML = `<div class=\"error\" style=\"color:red;\">${err}</div>`;\n",
       "      throw err;\n",
       "    }\n",
       "\n",
       "    function displayChart(vegaEmbed) {\n",
       "      vegaEmbed(outputDiv, spec, embedOpt)\n",
       "        .catch(err => showError(`Javascript Error: ${err.message}<br>This usually means there's a typo in your chart specification. See the javascript console for the full traceback.`));\n",
       "    }\n",
       "\n",
       "    if(typeof define === \"function\" && define.amd) {\n",
       "      requirejs.config({paths});\n",
       "      require([\"vega-embed\"], displayChart, err => showError(`Error loading script: ${err.message}`));\n",
       "    } else if (typeof vegaEmbed === \"function\") {\n",
       "      displayChart(vegaEmbed);\n",
       "    } else {\n",
       "      loadScript(\"vega\")\n",
       "        .then(() => loadScript(\"vega-lite\"))\n",
       "        .then(() => loadScript(\"vega-embed\"))\n",
       "        .catch(showError)\n",
       "        .then(() => displayChart(vegaEmbed));\n",
       "    }\n",
       "  })({\"config\": {\"view\": {\"continuousWidth\": 400, \"continuousHeight\": 300}}, \"layer\": [{\"mark\": \"rect\", \"encoding\": {\"color\": {\"type\": \"nominal\", \"field\": \"bechdel\"}, \"x\": {\"type\": \"nominal\", \"field\": \"TYPE\"}, \"y\": {\"type\": \"nominal\", \"field\": \"index\", \"sort\": [\"Rogue One\", \"Finding Dory\", \"Captain America: Civil War\", \"The Secret Life of Pets\", \"The Jungle Book\", \"Deadpool\", \"Zootopia\", \"Batman v Superman: Dawn of Justice\", \"Suicide Squad\", \"Sing\", \"Moana\", \"Fantastic Beasts and Where to Find Them\", \"Doctor Strange\", \"Hidden Figures\", \"Jason Bourne\", \"Star Trek Beyond\", \"X-Men: Apocalypse\", \"Trolls\", \"La La Land\", \"Kung Fu Panda 3\", \"Ghostbusters\", \"Central Intelligence\", \"The Legend of Tarzan\", \"Sully\", \"Bad Moms\", \"The Angry Birds Movie\", \"Independence Day: Resurgence\", \"The Conjuring 2\", \"Arrival\", \"Passengers\", \"Sausage Party\", \"The Magnificent Seven\", \"Ride Along 2\", \"Don't Breathe\", \"Miss Peregrine's Home for Peculiar Children\", \"The Accountant\", \"Teenage Mutant Ninja Turtles: Out of the Shadows\", \"The Purge: Election Year\", \"Alice Through the Looking Glass\", \"Pete's Dragon\", \"The Girl on the Train\", \"Boo! A Madea Halloween\", \"Storks\", \"10 Cloverfield Lane\", \"Lights Out\", \"Hacksaw Ridge\", \"Allegiant\", \"Now You See Me 2\", \"Ice Age: Collision Course\", \"The Boss\"]}}, \"transform\": [{\"filter\": \"(((datum.TYPE !== 'Unknown') && (datum.GENDER !== 'Unknown')) && (datum.GENDER !== 'null'))\"}, {\"filter\": \"(datum.GENDER === 'Male')\"}]}, {\"mark\": {\"type\": \"text\", \"baseline\": \"middle\"}, \"encoding\": {\"text\": {\"type\": \"quantitative\", \"aggregate\": \"count\", \"field\": \"GENDER\"}, \"x\": {\"type\": \"ordinal\", \"field\": \"TYPE\"}, \"y\": {\"type\": \"ordinal\", \"axis\": null, \"field\": \"index\", \"sort\": [\"Rogue One\", \"Finding Dory\", \"Captain America: Civil War\", \"The Secret Life of Pets\", \"The Jungle Book\", \"Deadpool\", \"Zootopia\", \"Batman v Superman: Dawn of Justice\", \"Suicide Squad\", \"Sing\", \"Moana\", \"Fantastic Beasts and Where to Find Them\", \"Doctor Strange\", \"Hidden Figures\", \"Jason Bourne\", \"Star Trek Beyond\", \"X-Men: Apocalypse\", \"Trolls\", \"La La Land\", \"Kung Fu Panda 3\", \"Ghostbusters\", \"Central Intelligence\", \"The Legend of Tarzan\", \"Sully\", \"Bad Moms\", \"The Angry Birds Movie\", \"Independence Day: Resurgence\", \"The Conjuring 2\", \"Arrival\", \"Passengers\", \"Sausage Party\", \"The Magnificent Seven\", \"Ride Along 2\", \"Don't Breathe\", \"Miss Peregrine's Home for Peculiar Children\", \"The Accountant\", \"Teenage Mutant Ninja Turtles: Out of the Shadows\", \"The Purge: Election Year\", \"Alice Through the Looking Glass\", \"Pete's Dragon\", \"The Girl on the Train\", \"Boo! A Madea Halloween\", \"Storks\", \"10 Cloverfield Lane\", \"Lights Out\", \"Hacksaw Ridge\", \"Allegiant\", \"Now You See Me 2\", \"Ice Age: Collision Course\", \"The Boss\"]}}, \"transform\": [{\"filter\": \"(((datum.TYPE !== 'Unknown') && (datum.GENDER !== 'Unknown')) && (datum.GENDER !== 'null'))\"}, {\"filter\": \"(datum.GENDER === 'Male')\"}]}], \"data\": {\"url\": \"altair-data-b2fe8fb5616f2f0ec61f01d320bf8001.json\", \"format\": {\"type\": \"json\"}}, \"$schema\": \"https://vega.github.io/schema/vega-lite/v4.8.1.json\"}, {\"mode\": \"vega-lite\"});\n",
       "</script>"
      ],
      "text/plain": [
       "alt.LayerChart(...)"
      ]
     },
     "execution_count": 21,
     "metadata": {},
     "output_type": "execute_result"
    }
   ],
   "source": [
    "m_a_1 = gen_m_hm_vis(base_vis, actors_movies)\n",
    "m_a_1"
   ]
  },
  {
   "cell_type": "code",
   "execution_count": 22,
   "metadata": {},
   "outputs": [
    {
     "data": {
      "text/html": [
       "\n",
       "<div id=\"altair-viz-8ca469fedf5f4bf8af2dcbe630b8ccd9\"></div>\n",
       "<script type=\"text/javascript\">\n",
       "  (function(spec, embedOpt){\n",
       "    let outputDiv = document.currentScript.previousElementSibling;\n",
       "    if (outputDiv.id !== \"altair-viz-8ca469fedf5f4bf8af2dcbe630b8ccd9\") {\n",
       "      outputDiv = document.getElementById(\"altair-viz-8ca469fedf5f4bf8af2dcbe630b8ccd9\");\n",
       "    }\n",
       "    const paths = {\n",
       "      \"vega\": \"https://cdn.jsdelivr.net/npm//vega@5?noext\",\n",
       "      \"vega-lib\": \"https://cdn.jsdelivr.net/npm//vega-lib?noext\",\n",
       "      \"vega-lite\": \"https://cdn.jsdelivr.net/npm//vega-lite@4.8.1?noext\",\n",
       "      \"vega-embed\": \"https://cdn.jsdelivr.net/npm//vega-embed@6?noext\",\n",
       "    };\n",
       "\n",
       "    function loadScript(lib) {\n",
       "      return new Promise(function(resolve, reject) {\n",
       "        var s = document.createElement('script');\n",
       "        s.src = paths[lib];\n",
       "        s.async = true;\n",
       "        s.onload = () => resolve(paths[lib]);\n",
       "        s.onerror = () => reject(`Error loading script: ${paths[lib]}`);\n",
       "        document.getElementsByTagName(\"head\")[0].appendChild(s);\n",
       "      });\n",
       "    }\n",
       "\n",
       "    function showError(err) {\n",
       "      outputDiv.innerHTML = `<div class=\"error\" style=\"color:red;\">${err}</div>`;\n",
       "      throw err;\n",
       "    }\n",
       "\n",
       "    function displayChart(vegaEmbed) {\n",
       "      vegaEmbed(outputDiv, spec, embedOpt)\n",
       "        .catch(err => showError(`Javascript Error: ${err.message}<br>This usually means there's a typo in your chart specification. See the javascript console for the full traceback.`));\n",
       "    }\n",
       "\n",
       "    if(typeof define === \"function\" && define.amd) {\n",
       "      requirejs.config({paths});\n",
       "      require([\"vega-embed\"], displayChart, err => showError(`Error loading script: ${err.message}`));\n",
       "    } else if (typeof vegaEmbed === \"function\") {\n",
       "      displayChart(vegaEmbed);\n",
       "    } else {\n",
       "      loadScript(\"vega\")\n",
       "        .then(() => loadScript(\"vega-lite\"))\n",
       "        .then(() => loadScript(\"vega-embed\"))\n",
       "        .catch(showError)\n",
       "        .then(() => displayChart(vegaEmbed));\n",
       "    }\n",
       "  })({\"config\": {\"view\": {\"continuousWidth\": 400, \"continuousHeight\": 300}}, \"hconcat\": [{\"layer\": [{\"mark\": \"rect\", \"encoding\": {\"color\": {\"type\": \"nominal\", \"field\": \"bechdel\"}, \"x\": {\"type\": \"nominal\", \"field\": \"TYPE\"}, \"y\": {\"type\": \"nominal\", \"field\": \"index\", \"sort\": [\"Rogue One\", \"Finding Dory\", \"Captain America: Civil War\", \"The Secret Life of Pets\", \"The Jungle Book\", \"Deadpool\", \"Zootopia\", \"Batman v Superman: Dawn of Justice\", \"Suicide Squad\", \"Sing\", \"Moana\", \"Fantastic Beasts and Where to Find Them\", \"Doctor Strange\", \"Hidden Figures\", \"Jason Bourne\", \"Star Trek Beyond\", \"X-Men: Apocalypse\", \"Trolls\", \"La La Land\", \"Kung Fu Panda 3\", \"Ghostbusters\", \"Central Intelligence\", \"The Legend of Tarzan\", \"Sully\", \"Bad Moms\", \"The Angry Birds Movie\", \"Independence Day: Resurgence\", \"The Conjuring 2\", \"Arrival\", \"Passengers\", \"Sausage Party\", \"The Magnificent Seven\", \"Ride Along 2\", \"Don't Breathe\", \"Miss Peregrine's Home for Peculiar Children\", \"The Accountant\", \"Teenage Mutant Ninja Turtles: Out of the Shadows\", \"The Purge: Election Year\", \"Alice Through the Looking Glass\", \"Pete's Dragon\", \"The Girl on the Train\", \"Boo! A Madea Halloween\", \"Storks\", \"10 Cloverfield Lane\", \"Lights Out\", \"Hacksaw Ridge\", \"Allegiant\", \"Now You See Me 2\", \"Ice Age: Collision Course\", \"The Boss\"]}}, \"transform\": [{\"filter\": \"(((datum.TYPE !== 'Unknown') && (datum.GENDER !== 'Unknown')) && (datum.GENDER !== 'null'))\"}, {\"filter\": \"(datum.GENDER === 'Female')\"}]}, {\"mark\": {\"type\": \"text\", \"baseline\": \"middle\"}, \"encoding\": {\"text\": {\"type\": \"quantitative\", \"aggregate\": \"count\", \"field\": \"GENDER\"}, \"x\": {\"type\": \"ordinal\", \"field\": \"TYPE\"}, \"y\": {\"type\": \"ordinal\", \"field\": \"index\", \"sort\": [\"Rogue One\", \"Finding Dory\", \"Captain America: Civil War\", \"The Secret Life of Pets\", \"The Jungle Book\", \"Deadpool\", \"Zootopia\", \"Batman v Superman: Dawn of Justice\", \"Suicide Squad\", \"Sing\", \"Moana\", \"Fantastic Beasts and Where to Find Them\", \"Doctor Strange\", \"Hidden Figures\", \"Jason Bourne\", \"Star Trek Beyond\", \"X-Men: Apocalypse\", \"Trolls\", \"La La Land\", \"Kung Fu Panda 3\", \"Ghostbusters\", \"Central Intelligence\", \"The Legend of Tarzan\", \"Sully\", \"Bad Moms\", \"The Angry Birds Movie\", \"Independence Day: Resurgence\", \"The Conjuring 2\", \"Arrival\", \"Passengers\", \"Sausage Party\", \"The Magnificent Seven\", \"Ride Along 2\", \"Don't Breathe\", \"Miss Peregrine's Home for Peculiar Children\", \"The Accountant\", \"Teenage Mutant Ninja Turtles: Out of the Shadows\", \"The Purge: Election Year\", \"Alice Through the Looking Glass\", \"Pete's Dragon\", \"The Girl on the Train\", \"Boo! A Madea Halloween\", \"Storks\", \"10 Cloverfield Lane\", \"Lights Out\", \"Hacksaw Ridge\", \"Allegiant\", \"Now You See Me 2\", \"Ice Age: Collision Course\", \"The Boss\"]}}, \"transform\": [{\"filter\": \"(((datum.TYPE !== 'Unknown') && (datum.GENDER !== 'Unknown')) && (datum.GENDER !== 'null'))\"}, {\"filter\": \"(datum.GENDER === 'Female')\"}]}]}, {\"mark\": \"text\", \"encoding\": {\"color\": {\"type\": \"nominal\", \"field\": \"bechdel\"}, \"text\": {\"type\": \"quantitative\", \"field\": \"Rank\"}, \"y\": {\"type\": \"ordinal\", \"axis\": null, \"field\": \"Rank\"}}, \"transform\": [{\"filter\": \"(((datum.TYPE !== 'Unknown') && (datum.GENDER !== 'Unknown')) && (datum.GENDER !== 'null'))\"}], \"width\": 20}, {\"layer\": [{\"mark\": \"rect\", \"encoding\": {\"color\": {\"type\": \"nominal\", \"field\": \"bechdel\"}, \"x\": {\"type\": \"nominal\", \"field\": \"TYPE\"}, \"y\": {\"type\": \"nominal\", \"field\": \"index\", \"sort\": [\"Rogue One\", \"Finding Dory\", \"Captain America: Civil War\", \"The Secret Life of Pets\", \"The Jungle Book\", \"Deadpool\", \"Zootopia\", \"Batman v Superman: Dawn of Justice\", \"Suicide Squad\", \"Sing\", \"Moana\", \"Fantastic Beasts and Where to Find Them\", \"Doctor Strange\", \"Hidden Figures\", \"Jason Bourne\", \"Star Trek Beyond\", \"X-Men: Apocalypse\", \"Trolls\", \"La La Land\", \"Kung Fu Panda 3\", \"Ghostbusters\", \"Central Intelligence\", \"The Legend of Tarzan\", \"Sully\", \"Bad Moms\", \"The Angry Birds Movie\", \"Independence Day: Resurgence\", \"The Conjuring 2\", \"Arrival\", \"Passengers\", \"Sausage Party\", \"The Magnificent Seven\", \"Ride Along 2\", \"Don't Breathe\", \"Miss Peregrine's Home for Peculiar Children\", \"The Accountant\", \"Teenage Mutant Ninja Turtles: Out of the Shadows\", \"The Purge: Election Year\", \"Alice Through the Looking Glass\", \"Pete's Dragon\", \"The Girl on the Train\", \"Boo! A Madea Halloween\", \"Storks\", \"10 Cloverfield Lane\", \"Lights Out\", \"Hacksaw Ridge\", \"Allegiant\", \"Now You See Me 2\", \"Ice Age: Collision Course\", \"The Boss\"]}}, \"transform\": [{\"filter\": \"(((datum.TYPE !== 'Unknown') && (datum.GENDER !== 'Unknown')) && (datum.GENDER !== 'null'))\"}, {\"filter\": \"(datum.GENDER === 'Male')\"}]}, {\"mark\": {\"type\": \"text\", \"baseline\": \"middle\"}, \"encoding\": {\"text\": {\"type\": \"quantitative\", \"aggregate\": \"count\", \"field\": \"GENDER\"}, \"x\": {\"type\": \"ordinal\", \"field\": \"TYPE\"}, \"y\": {\"type\": \"ordinal\", \"axis\": null, \"field\": \"index\", \"sort\": [\"Rogue One\", \"Finding Dory\", \"Captain America: Civil War\", \"The Secret Life of Pets\", \"The Jungle Book\", \"Deadpool\", \"Zootopia\", \"Batman v Superman: Dawn of Justice\", \"Suicide Squad\", \"Sing\", \"Moana\", \"Fantastic Beasts and Where to Find Them\", \"Doctor Strange\", \"Hidden Figures\", \"Jason Bourne\", \"Star Trek Beyond\", \"X-Men: Apocalypse\", \"Trolls\", \"La La Land\", \"Kung Fu Panda 3\", \"Ghostbusters\", \"Central Intelligence\", \"The Legend of Tarzan\", \"Sully\", \"Bad Moms\", \"The Angry Birds Movie\", \"Independence Day: Resurgence\", \"The Conjuring 2\", \"Arrival\", \"Passengers\", \"Sausage Party\", \"The Magnificent Seven\", \"Ride Along 2\", \"Don't Breathe\", \"Miss Peregrine's Home for Peculiar Children\", \"The Accountant\", \"Teenage Mutant Ninja Turtles: Out of the Shadows\", \"The Purge: Election Year\", \"Alice Through the Looking Glass\", \"Pete's Dragon\", \"The Girl on the Train\", \"Boo! A Madea Halloween\", \"Storks\", \"10 Cloverfield Lane\", \"Lights Out\", \"Hacksaw Ridge\", \"Allegiant\", \"Now You See Me 2\", \"Ice Age: Collision Course\", \"The Boss\"]}}, \"transform\": [{\"filter\": \"(((datum.TYPE !== 'Unknown') && (datum.GENDER !== 'Unknown')) && (datum.GENDER !== 'null'))\"}, {\"filter\": \"(datum.GENDER === 'Male')\"}]}]}], \"data\": {\"url\": \"altair-data-b2fe8fb5616f2f0ec61f01d320bf8001.json\", \"format\": {\"type\": \"json\"}}, \"$schema\": \"https://vega.github.io/schema/vega-lite/v4.8.1.json\"}, {\"mode\": \"vega-lite\"});\n",
       "</script>"
      ],
      "text/plain": [
       "alt.HConcatChart(...)"
      ]
     },
     "execution_count": 22,
     "metadata": {},
     "output_type": "execute_result"
    }
   ],
   "source": [
    "# create the visualization\n",
    "f_a_1 | middle | m_a_1"
   ]
  },
  {
   "cell_type": "markdown",
   "metadata": {},
   "source": [
    "### 2.8 (Bonus) Compare effectiveness (5 points)\n",
    "Look at the visualization for question 2.7. How does this visualization compare in terms of effectiveness to the visualizations in questions 2.5 and 2.6?"
   ]
  },
  {
   "cell_type": "markdown",
   "metadata": {},
   "source": [
    "_2.8 Answer_"
   ]
  }
 ],
 "metadata": {
  "coursera": {
   "schema_names": [
    "mads_information_visualization_i_v7_assignment2"
   ]
  },
  "kernelspec": {
   "display_name": "Python 3 (ipykernel)",
   "language": "python",
   "name": "python3"
  },
  "language_info": {
   "codemirror_mode": {
    "name": "ipython",
    "version": 3
   },
   "file_extension": ".py",
   "mimetype": "text/x-python",
   "name": "python",
   "nbconvert_exporter": "python",
   "pygments_lexer": "ipython3",
   "version": "3.9.7"
  },
  "toc": {
   "colors": {
    "hover_highlight": "#DAA520",
    "running_highlight": "#FF0000",
    "selected_highlight": "#FFD700"
   },
   "moveMenuLeft": true,
   "nav_menu": {
    "height": "390px",
    "width": "252px"
   },
   "navigate_menu": true,
   "number_sections": false,
   "sideBar": true,
   "threshold": 4,
   "toc_cell": false,
   "toc_section_display": "none",
   "toc_window_display": true,
   "widenNotebook": false
  }
 },
 "nbformat": 4,
 "nbformat_minor": 2
}
