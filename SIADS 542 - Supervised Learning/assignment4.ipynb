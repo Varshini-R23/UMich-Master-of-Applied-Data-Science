{
 "cells": [
  {
   "cell_type": "code",
   "execution_count": 1,
   "metadata": {
    "deletable": false,
    "editable": false,
    "nbgrader": {
     "cell_type": "code",
     "checksum": "be92fd2c6ebe8f23acc6dc0cb2c07bd6",
     "grade": false,
     "grade_id": "cell-c18d184342185ba6",
     "locked": true,
     "schema_version": 3,
     "solution": false
    }
   },
   "outputs": [],
   "source": [
    "version = \"v2.0.042025.4\""
   ]
  },
  {
   "cell_type": "markdown",
   "metadata": {
    "deletable": false,
    "editable": false,
    "nbgrader": {
     "cell_type": "markdown",
     "checksum": "7f98c572d6d128ba7804c8f53ed09a00",
     "grade": false,
     "grade_id": "cell-371f2ff64fb68763",
     "locked": true,
     "schema_version": 3,
     "solution": false
    }
   },
   "source": [
    "# Assignment 4 - Tree-based classification & Synthesis Project\n",
    "\n",
    "### Physiological Sensor Data Analysis (100 points)\n",
    "This synthesis project is based on a dataset of physiological sensor measurements collected from Smartphone based sensors. The original research sought to determine the particular activity of the subject based on the physiological measurements obtained from wearables and a SmartPhone. The physiological measurements were used to depict the test subject in one of four activities as follows:  \n",
    "   - neutral\n",
    "   - emotional\n",
    "   - mental\n",
    "   - physical  \n",
    " \n",
    "Your task will be to produce a model that, based on a limited number of features, returns the best possible estimate of the activity being performed by the test subject. While the original analysis utilized more advanced Machine Learning methods, we will concentrate on the supervised learning methods covered in this course.  \n",
    "\n",
    "The sensor dataset consists of 4480 rows, each with the subject ID, the activity label and 533 measurement features! Each of the 40 test volunteers were subjected to a series of 28 data collection events for each of the four activity types presented above. As you explore this data, you will find that the features are arranged by a particular measurement mode, each consisting of similar statistical values.  \n",
    "Before we get started, it will be necessary to ingest and prepare our data for training and testing purposes.  \n",
    "\n",
    "**Notes**  \n",
    " - Any available random_state or seed values should be initialized with an integer value of 42.\n",
    " - Some standard package imports have been provided below.\n",
    " - Additional import deemed necessary for your analysis can be added in the cell following."
   ]
  },
  {
   "cell_type": "markdown",
   "metadata": {
    "deletable": false,
    "editable": false,
    "nbgrader": {
     "cell_type": "markdown",
     "checksum": "cc91f37b36d6d7297bee00e2728b5cf6",
     "grade": false,
     "grade_id": "cell-8bfe1d8b1ee8cc6f",
     "locked": true,
     "schema_version": 3,
     "solution": false,
     "task": false
    }
   },
   "source": [
    "## library imports"
   ]
  },
  {
   "cell_type": "code",
   "execution_count": 2,
   "metadata": {
    "deletable": false,
    "editable": false,
    "nbgrader": {
     "cell_type": "code",
     "checksum": "f1881ce1ea66591d5c3d01727a5dc1ab",
     "grade": false,
     "grade_id": "cell-93298b856670623e",
     "locked": true,
     "schema_version": 3,
     "solution": false
    }
   },
   "outputs": [],
   "source": [
    "# useful python standard libraries\n",
    "import itertools\n",
    "import math\n",
    "import random\n",
    "\n",
    "# import core libraries\n",
    "import numpy as np\n",
    "import pandas as pd\n",
    "import matplotlib.pyplot as plt\n",
    "\n",
    "# helpful SciKit-Learn libraries\n",
    "from sklearn.metrics import classification_report, roc_auc_score\n",
    "from sklearn.metrics import ConfusionMatrixDisplay, confusion_matrix\n",
    "from sklearn.model_selection import GridSearchCV, train_test_split\n",
    "from sklearn.pipeline import Pipeline\n",
    "from sklearn.preprocessing import StandardScaler\n",
    "\n",
    "# We will use this variable name multiple times\n",
    "base_feature_selector = \"_mad_\""
   ]
  },
  {
   "cell_type": "code",
   "execution_count": 3,
   "metadata": {},
   "outputs": [],
   "source": [
    "## suppress all warnings\n",
    "## uncomment only if necessary!\n",
    "# import warnings\n",
    "# warnings.filterwarnings('ignore')\n",
    "\n",
    "## Additional imports can be inlcuded here"
   ]
  },
  {
   "cell_type": "markdown",
   "metadata": {
    "deletable": false,
    "editable": false,
    "nbgrader": {
     "cell_type": "markdown",
     "checksum": "a372dcf5b6566cb0ac683aa34035bc27",
     "grade": false,
     "grade_id": "cell-366227f52585e158",
     "locked": true,
     "schema_version": 3,
     "solution": false,
     "task": false
    }
   },
   "source": [
    "## Question 1  (2 points)\n",
    "### Import CSV Sensor Data file\n",
    " - The first order of business is to read the data file, '_sensor_data.csv_ ', from the '_assets/_ ' folder.\n",
    " - Your function should accept zero arguments and return a Pandas DataFrame.\n",
    " - Be aware that the activity labels are in a format that may or may not work with your chosen models. If you choose to reassign the activity labels, use the following:  \n",
    "    - **'neutral' == 1**\n",
    "    - **'emotional' == 2**\n",
    "    - **'mental' == 3**\n",
    "    - **'physical' == 4**"
   ]
  },
  {
   "cell_type": "code",
   "execution_count": 4,
   "metadata": {
    "deletable": false,
    "nbgrader": {
     "cell_type": "code",
     "checksum": "0af85b93538e1924f3d8358fffc82893",
     "grade": false,
     "grade_id": "cell-323ce9af9affa7e8",
     "locked": false,
     "schema_version": 3,
     "solution": true,
     "task": false
    }
   },
   "outputs": [],
   "source": [
    "def get_sensor_data():\n",
    "    df = None\n",
    "\n",
    "    # YOUR CODE HERE\n",
    "#     raise NotImplementedError()\n",
    "\n",
    "    df=pd.read_csv(\"assets/sensor_data.csv\")\n",
    "\n",
    "    return df"
   ]
  },
  {
   "cell_type": "code",
   "execution_count": 5,
   "metadata": {},
   "outputs": [],
   "source": [
    "# use this cell to explore the data\n",
    "# remember to comment the function call before submitting the notebook\n",
    "\n",
    "# get_sensor_data()"
   ]
  },
  {
   "cell_type": "code",
   "execution_count": 6,
   "metadata": {
    "deletable": false,
    "editable": false,
    "nbgrader": {
     "cell_type": "code",
     "checksum": "8cafa248ec7ffea87343b6b6b44ba948",
     "grade": true,
     "grade_id": "cell-d56b92a082173913",
     "locked": true,
     "points": 2,
     "schema_version": 3,
     "solution": false,
     "task": false
    }
   },
   "outputs": [],
   "source": [
    "# Autograder tests\n",
    "\n",
    "stu_ans = get_sensor_data()\n",
    "\n",
    "assert isinstance(\n",
    "    stu_ans, pd.DataFrame\n",
    "), \"Q1: Your get_sensor_data function must return a Pandas DataFrame.\"\n",
    "\n",
    "assert isinstance(\n",
    "    stu_ans.iloc[0][2], np.float64\n",
    "), \"Q1: The dtype of the first row, third column, is incorrect.\"\n",
    "\n",
    "del stu_ans"
   ]
  },
  {
   "cell_type": "markdown",
   "metadata": {
    "deletable": false,
    "editable": false,
    "nbgrader": {
     "cell_type": "markdown",
     "checksum": "75c407c279f0d2c9b5193a07668eec0a",
     "grade": false,
     "grade_id": "cell-e309fa31d13a784b",
     "locked": true,
     "schema_version": 3,
     "solution": false,
     "task": false
    }
   },
   "source": [
    "## Question 2  (3 points)\n",
    "### Standard train_test_split\n",
    " - Our first exercise will be to produce a SciKit-Learn standard train/test split of a dataframe. In the following cell, complete the function that returns a standard train/test split of the sensor data.\n",
    "   - The function should accept a dataframe as produced by get_sensor_data() and a test_split value which defaults to 0.2.\n",
    "   - The function should return the standard X_train, X_test, y_train, y_test."
   ]
  },
  {
   "cell_type": "code",
   "execution_count": 7,
   "metadata": {
    "deletable": false,
    "nbgrader": {
     "cell_type": "code",
     "checksum": "ce5eb4171a3dce8386d1757a61a45aba",
     "grade": false,
     "grade_id": "cell-bcd3c8cc8a52f6b7",
     "locked": false,
     "schema_version": 3,
     "solution": true,
     "task": false
    }
   },
   "outputs": [],
   "source": [
    "def std_train_test_split(df, test_split=0.2):\n",
    "\n",
    "    X_train, X_test, y_train, y_test = (None,) * 4\n",
    "\n",
    "    # YOUR CODE HERE\n",
    "#     raise NotImplementedError()\n",
    "    \n",
    "#     if \"Subject_ID\" in df.columns and \"Activity_Label\" in df.columns:\n",
    "#         X=df.drop([\"Activity_Label\", \"Subject_ID\"], axis=1)\n",
    "#     elif \"Activity_Label\" in df.columns:\n",
    "#         X=df.drop(\"Activity_Label\", axis=1)\n",
    "#     else:\n",
    "#         X=df\n",
    "        \n",
    "    X_train, X_test, y_train, y_test=train_test_split(df.drop(\"Activity_Label\", axis=1), df[\"Activity_Label\"], \n",
    "                                                      test_size=test_split, random_state=42)\n",
    "\n",
    "    return X_train, X_test, y_train, y_test"
   ]
  },
  {
   "cell_type": "code",
   "execution_count": 8,
   "metadata": {
    "deletable": false,
    "editable": false,
    "nbgrader": {
     "cell_type": "code",
     "checksum": "dfd340819ecf4c92e5f2047e9adaf52f",
     "grade": true,
     "grade_id": "cell-aeeea8534654fbda",
     "locked": true,
     "points": 3,
     "schema_version": 3,
     "solution": false,
     "task": false
    }
   },
   "outputs": [],
   "source": [
    "# Autograder tests\n",
    "\n",
    "df = get_sensor_data()\n",
    "stu_ans = std_train_test_split(df)\n",
    "\n",
    "assert isinstance(stu_ans[0], pd.DataFrame), \"Q2: X_train should be a pd.DataFrame\"\n",
    "assert isinstance(stu_ans[2], pd.Series), \"Q2: y_train should be a pd.Series\"\n",
    "\n",
    "del stu_ans\n",
    "del df"
   ]
  },
  {
   "cell_type": "markdown",
   "metadata": {
    "deletable": false,
    "editable": false,
    "nbgrader": {
     "cell_type": "markdown",
     "checksum": "c1971f4761e91c6750159276bc54449a",
     "grade": false,
     "grade_id": "cell-fca36043345da8b5",
     "locked": true,
     "schema_version": 3,
     "solution": false,
     "task": false
    }
   },
   "source": [
    "## Question 3  (5 Points)\n",
    "### Build a baseline Tree model\n",
    "- Complete the following function that will establish a baseline score.  \n",
    "  - This function should retrieve and split the sensor data based on your previously constructed functions. Please use/default to, a split value of 0.2.  \n",
    "  - Using a _for loop_ or [list comprehension](https://www.w3schools.com/python/python_lists_comprehension.asp), extract a list of feature names that includes the substring **base_feature_selector** defined in the **[library imports](#library-imports)** cell above.  \n",
    "  - Create a [DecisionTreeClassifier](https://scikit-learn.org/0.24/modules/generated/sklearn.tree.DecisionTreeClassifier.html#sklearn.tree.DecisionTreeClassifier) with default hyperparameters and the predetermined random_state value.\n",
    "    - Train this model on the features as extracted above.  \n",
    "  - Using the classifier's [score method](https://scikit-learn.org/0.24/modules/generated/sklearn.tree.DecisionTreeClassifier.html#sklearn.tree.DecisionTreeClassifier.score), score the model using X_test and the previously extracted subset of features.  \n",
    "  - Finally return a tuple consisting of the list of extracted features and score.  "
   ]
  },
  {
   "cell_type": "code",
   "execution_count": 9,
   "metadata": {
    "deletable": false,
    "nbgrader": {
     "cell_type": "code",
     "checksum": "45636a0e541b1b49ca824a8fc7ca5e3b",
     "grade": false,
     "grade_id": "cell-d0e06f1c335ec617",
     "locked": false,
     "schema_version": 3,
     "solution": true,
     "task": false
    }
   },
   "outputs": [],
   "source": [
    "def baseline_model_one():\n",
    "    score = None\n",
    "    feature_selector = base_feature_selector\n",
    "\n",
    "    # YOUR CODE HERE\n",
    "#     raise NotImplementedError()\n",
    "\n",
    "    from sklearn.tree import DecisionTreeClassifier\n",
    "\n",
    "    df=get_sensor_data()\n",
    "    \n",
    "    features=[i for i in df.columns if feature_selector in i]\n",
    "    \n",
    "    df_features=pd.concat([df[features], df[\"Activity_Label\"]], axis=1)\n",
    "    \n",
    "    X_train, X_test, y_train, y_test=std_train_test_split(df_features)\n",
    "    \n",
    "    clf=DecisionTreeClassifier(random_state=42)\n",
    "    clf.fit(X_train, y_train)\n",
    "    \n",
    "    score=clf.score(X_test, y_test)\n",
    "    \n",
    "    return (features, score)"
   ]
  },
  {
   "cell_type": "code",
   "execution_count": 10,
   "metadata": {
    "scrolled": false
   },
   "outputs": [
    {
     "data": {
      "text/plain": [
       "(['ECG_original_mad_13',\n",
       "  'ECG_RR_window_mad_27',\n",
       "  'ECG_amplitude_RR_mad_41',\n",
       "  'ECG_HR_min_div_mad_55',\n",
       "  'ECG_hrv_mad_79',\n",
       "  'ECG_PSD_mad_93',\n",
       "  'ECG_p_VFL_mad_107',\n",
       "  'ECG_p_LF_mad_121',\n",
       "  'ECG_p_MF_mad_135',\n",
       "  'ECG_p_HF_mad_149',\n",
       "  'ECG_p_total_LF_mad_163',\n",
       "  'IT_Original_mad_187',\n",
       "  'IT_LF_mad_202',\n",
       "  'IT_RF_mad_217',\n",
       "  'IT_BRV_mad_233',\n",
       "  'IT_PSD_mad_247',\n",
       "  'IT_VLF_mad_261',\n",
       "  'IT_LF_mad_275',\n",
       "  'IT_MF_mad_289',\n",
       "  'IT_HF_mad_303',\n",
       "  'IT_p_Total_mad_317',\n",
       "  'EDA_Original_mad_338',\n",
       "  'EDA_processed_mad_352',\n",
       "  'EDA_Filt1_mad_366',\n",
       "  'EDA_Filt2_mad_380',\n",
       "  'EDA_Original_mad_442',\n",
       "  'EDA_processed_mad_456',\n",
       "  'EDA_Filt1_mad_470',\n",
       "  'EDA_Filt2_mad_484'],\n",
       " 0.8314732142857143)"
      ]
     },
     "execution_count": 10,
     "metadata": {},
     "output_type": "execute_result"
    }
   ],
   "source": [
    "# use this cell to observe your results\n",
    "# remember to comment the function call before submitting the notebook\n",
    "\n",
    "baseline_model_one()"
   ]
  },
  {
   "cell_type": "code",
   "execution_count": 11,
   "metadata": {
    "deletable": false,
    "editable": false,
    "nbgrader": {
     "cell_type": "code",
     "checksum": "aa87efb37994822bc9030c6032c64feb",
     "grade": true,
     "grade_id": "cell-3a13464f8906cbe6",
     "locked": true,
     "points": 5,
     "schema_version": 3,
     "solution": false,
     "task": false
    }
   },
   "outputs": [],
   "source": [
    "# Autograder tests\n",
    "\n",
    "stu_ans = baseline_model_one()\n",
    "\n",
    "assert isinstance(stu_ans, tuple), \"Q3: Your function should return a tuple.\"\n",
    "\n",
    "assert isinstance(\n",
    "    stu_ans[0], list\n",
    "), \"Q3: Tuple element zero should be a list object.\"\n",
    "\n",
    "assert isinstance(\n",
    "    stu_ans[1], np.float64\n",
    "), \"Q3: Tuple element one should be a np.float64 value.\"\n",
    "\n",
    "del stu_ans"
   ]
  },
  {
   "cell_type": "markdown",
   "metadata": {
    "deletable": false,
    "editable": false,
    "nbgrader": {
     "cell_type": "markdown",
     "checksum": "93d0b14658068d7e22d698cfb42dcf75",
     "grade": false,
     "grade_id": "cell-3cdcaa635d0d50b5",
     "locked": true,
     "schema_version": 3,
     "solution": false,
     "task": false
    }
   },
   "source": [
    "## Question 4  (3 Points)\n",
    "### Baseline Tree model questions\n",
    "1. Does the default accuracy score returned by the model seem reasonable to you; why or why not?\n",
    "2. What might be the problem with this model or with the data?"
   ]
  },
  {
   "cell_type": "markdown",
   "metadata": {
    "deletable": false,
    "nbgrader": {
     "cell_type": "markdown",
     "checksum": "2dbe07b3481fb5120d11957b6db24684",
     "grade": true,
     "grade_id": "cell-63d35379db6841e9",
     "locked": false,
     "points": 0,
     "schema_version": 3,
     "solution": true,
     "task": false
    }
   },
   "source": [
    "Answer:\n",
    "\n",
    "The data incorporated by the model above was not supposed to have been split in the standard way, since the structure of the data is atypical i.e. it has 112 rows for each test subject (28 per activity/class) as opposed to 1 row per test subject, which means that some of the rows pertaining to a test subject could end up in the test set, while some could end up in the training set. Since the goal is to figure out which activity the test subject partakes to based on a certain subset of features, the data should be split by test subject with all the data pertaining to each of his activities sticking together since the multi-class classification model needs to be able understand the nuances of each feature under all conditions in order to optimally classify a test subject to a particular activity.\n",
    "\n",
    "That being said, I do not think the default accuracy score returned by the model seems reasonable. The passably good score of 0.83 is likely by chance or due to data leakage with a part of the training data (test subject data) being present in the test set, leading to a deceptively high score."
   ]
  },
  {
   "cell_type": "markdown",
   "metadata": {
    "deletable": false,
    "editable": false,
    "nbgrader": {
     "cell_type": "markdown",
     "checksum": "726fd2b82505c9f6220b41410cc97f68",
     "grade": false,
     "grade_id": "cell-6c9f9019196beec7",
     "locked": true,
     "schema_version": 3,
     "solution": false,
     "task": false
    }
   },
   "source": [
    "## Question 5  (10 Points)\n",
    "### A custom train_test_split function\n",
    " - Because of the nature of the original experiment's data collection methodology, the standard sklearn train_test_split() method cannot be applied successfully to this dataset. \n",
    " - The first significant task will be to create a 'custom_train_test_split()' function that will correctly separate train data from test data, given the structure of the data in the sensor dataset.  \n",
    " - Your function should accept two arguments:  \n",
    "   - A Pandas DataFrame such as returned by your get_sensor_data() function.\n",
    "   - An integer ___or___ float value that indicates the number of or percentage of the test data split.  \n",
    "   - Again, any random_state or seed values should be initialized with an integer value of 42.\n",
    " - Helpful Python Standard Libraries and functions:\n",
    "   - [random](https://docs.python.org/3/library/random.html)  \n",
    "     - random.seed()\n",
    "     - random.choices()\n",
    "   - [math](https://docs.python.org/3/library/math.html)  \n",
    "     - math.floor()  \n",
    "     - math.ceil()  \n",
    "  \n",
    " - Questions to keep in mind while creating this function:\n",
    "   - How might this function accept and use an integer or float value for the purpose of dividing the dataset?\n",
    "   - How do I ensure consistent random selection for reproducibility?\n",
    "   - Most importantly, how do I split this data to avoid one of the more devastating issues in machine learning?"
   ]
  },
  {
   "cell_type": "code",
   "execution_count": 12,
   "metadata": {
    "deletable": false,
    "nbgrader": {
     "cell_type": "code",
     "checksum": "0eae343ccd98be2a6db576c621cbe199",
     "grade": false,
     "grade_id": "cell-1618476de514a891",
     "locked": false,
     "schema_version": 3,
     "solution": true,
     "task": false
    }
   },
   "outputs": [],
   "source": [
    "def custom_train_test_split(df=get_sensor_data(), test_split=0.2):\n",
    "    import math\n",
    "\n",
    "    X_train, X_test, y_train, y_test = (None,) * 4\n",
    "\n",
    "    # YOUR CODE HERE\n",
    "#     raise NotImplementedError()\n",
    "\n",
    "    random.seed(42)\n",
    "    \n",
    "#     df=get_sensor_data()\n",
    "    \n",
    "    n_sub=len(df.Subject_ID.unique())\n",
    "    \n",
    "    if type(test_split)==int:\n",
    "        n_test=test_split\n",
    "    else:\n",
    "        n_test=int(n_sub*test_split)\n",
    "        \n",
    "#     test_sub=random.sample(list(df.Subject_ID.unique()), n_test)\n",
    "      \n",
    "    test_sub=random.choices(list(df.Subject_ID.unique()), k=n_test)\n",
    "    \n",
    "    train_sub=[i for i in df.Subject_ID.unique() if i not in test_sub]\n",
    "\n",
    "    X_train=df.loc[df.Subject_ID.isin(train_sub)].drop(\"Activity_Label\", axis=1)\n",
    "    X_test=df.loc[df.Subject_ID.isin(test_sub)].drop(\"Activity_Label\", axis=1)\n",
    "    y_train=df.loc[df.Subject_ID.isin(train_sub), \"Activity_Label\"]\n",
    "    y_test=df.loc[df.Subject_ID.isin(test_sub), \"Activity_Label\"]\n",
    "\n",
    "    return X_train, X_test, y_train, y_test"
   ]
  },
  {
   "cell_type": "code",
   "execution_count": 13,
   "metadata": {
    "deletable": false,
    "editable": false,
    "nbgrader": {
     "cell_type": "code",
     "checksum": "0176ef0792f9188d97a36b57e17580de",
     "grade": true,
     "grade_id": "cell-2c97a65714518e45",
     "locked": true,
     "points": 10,
     "schema_version": 3,
     "solution": false,
     "task": false
    }
   },
   "outputs": [],
   "source": [
    "# Autograder tests\n",
    "\n",
    "test_split = 5\n",
    "df = get_sensor_data()\n",
    "stu_ans = custom_train_test_split(df, test_split)\n",
    "\n",
    "assert isinstance(stu_ans[0], pd.DataFrame), \"Q4: X_train should be a pd.DataFrame\"\n",
    "assert isinstance(stu_ans[2], pd.Series), \"Q4: y_train should be a pd.Series\"\n",
    "assert len(stu_ans[1]) == 560, \"Q4: The length of your X_test dataframe is incorrect\"\n",
    "assert len(stu_ans[3]) == 560, \"Q4: The length of your y_test dataframe is incorrect\"\n",
    "\n",
    "del stu_ans"
   ]
  },
  {
   "cell_type": "markdown",
   "metadata": {
    "deletable": false,
    "editable": false,
    "nbgrader": {
     "cell_type": "markdown",
     "checksum": "1117fc11e889658359c54e46af3b93d1",
     "grade": false,
     "grade_id": "cell-7bdfb63c135245d2",
     "locked": true,
     "schema_version": 3,
     "solution": false,
     "task": false
    }
   },
   "source": [
    "## Question 5, Part 2\n",
    "### Run a baseline_model using your custom data splitter\n",
    "- Copy/Paste your baseline model code from above into the function below.  \n",
    "  - Replace the std_train_test_split() function with your new custom_train_test_split().\n",
    "    - Use the default split of 0.2.\n",
    "  - Run this revised function and answer the questions below.  "
   ]
  },
  {
   "cell_type": "code",
   "execution_count": 14,
   "metadata": {
    "deletable": false,
    "nbgrader": {
     "cell_type": "code",
     "checksum": "a6e7bbc7d2708012535b5a24edaf3272",
     "grade": false,
     "grade_id": "cell-f837ef40fcc382ee",
     "locked": false,
     "schema_version": 3,
     "solution": true,
     "task": false
    }
   },
   "outputs": [],
   "source": [
    "def baseline_model_two():\n",
    "    features, score = None, None\n",
    "    feature_selector = base_feature_selector\n",
    "\n",
    "    # YOUR CODE HERE\n",
    "#     raise NotImplementedError()\n",
    "\n",
    "    from sklearn.tree import DecisionTreeClassifier\n",
    "\n",
    "    df=get_sensor_data()\n",
    "    \n",
    "    features=[i for i in df.columns if feature_selector in i]\n",
    "    \n",
    "#     df_features=pd.concat([df[features], df[\"Activity_Label\"]], axis=1)\n",
    "    \n",
    "    df_features=pd.concat([df[features], df[\"Activity_Label\"], df[\"Subject_ID\"]], axis=1)\n",
    "    \n",
    "    X_train, X_test, y_train, y_test=custom_train_test_split(df_features)\n",
    "    \n",
    "    X_train.drop(\"Subject_ID\", axis=1, inplace=True)\n",
    "    X_test.drop(\"Subject_ID\", axis=1, inplace=True)\n",
    "    \n",
    "    clf=DecisionTreeClassifier(random_state=42)\n",
    "    clf.fit(X_train, y_train)\n",
    "    \n",
    "    score=clf.score(X_test, y_test)\n",
    "\n",
    "    return (features, score)"
   ]
  },
  {
   "cell_type": "code",
   "execution_count": 15,
   "metadata": {
    "scrolled": false
   },
   "outputs": [
    {
     "data": {
      "text/plain": [
       "(['ECG_original_mad_13',\n",
       "  'ECG_RR_window_mad_27',\n",
       "  'ECG_amplitude_RR_mad_41',\n",
       "  'ECG_HR_min_div_mad_55',\n",
       "  'ECG_hrv_mad_79',\n",
       "  'ECG_PSD_mad_93',\n",
       "  'ECG_p_VFL_mad_107',\n",
       "  'ECG_p_LF_mad_121',\n",
       "  'ECG_p_MF_mad_135',\n",
       "  'ECG_p_HF_mad_149',\n",
       "  'ECG_p_total_LF_mad_163',\n",
       "  'IT_Original_mad_187',\n",
       "  'IT_LF_mad_202',\n",
       "  'IT_RF_mad_217',\n",
       "  'IT_BRV_mad_233',\n",
       "  'IT_PSD_mad_247',\n",
       "  'IT_VLF_mad_261',\n",
       "  'IT_LF_mad_275',\n",
       "  'IT_MF_mad_289',\n",
       "  'IT_HF_mad_303',\n",
       "  'IT_p_Total_mad_317',\n",
       "  'EDA_Original_mad_338',\n",
       "  'EDA_processed_mad_352',\n",
       "  'EDA_Filt1_mad_366',\n",
       "  'EDA_Filt2_mad_380',\n",
       "  'EDA_Original_mad_442',\n",
       "  'EDA_processed_mad_456',\n",
       "  'EDA_Filt1_mad_470',\n",
       "  'EDA_Filt2_mad_484'],\n",
       " 0.6506696428571429)"
      ]
     },
     "execution_count": 15,
     "metadata": {},
     "output_type": "execute_result"
    }
   ],
   "source": [
    "# examine your new baseline_model() here\n",
    "# remember to comment the function call before submitting the notebook\n",
    "\n",
    "baseline_model_two()"
   ]
  },
  {
   "cell_type": "code",
   "execution_count": 16,
   "metadata": {
    "deletable": false,
    "editable": false,
    "nbgrader": {
     "cell_type": "code",
     "checksum": "ff6e39cf17de5a2de70bfa628ea161d1",
     "grade": true,
     "grade_id": "cell-72944b90c520abfe",
     "locked": true,
     "points": 0,
     "schema_version": 3,
     "solution": false,
     "task": false
    }
   },
   "outputs": [],
   "source": [
    "# Autograder tests\n",
    "\n",
    "stu_ans = baseline_model_two()\n",
    "\n",
    "assert isinstance(stu_ans, tuple), \"Q5: Your function should return a tuple.\"\n",
    "\n",
    "assert isinstance(\n",
    "    stu_ans[0], list\n",
    "), \"Q5: Tuple element zero should be a list object.\"\n",
    "\n",
    "assert isinstance(\n",
    "    stu_ans[1], np.float64\n",
    "), \"Q5: Tuple element one should be a np.float64 value.\"\n",
    "\n",
    "del stu_ans"
   ]
  },
  {
   "cell_type": "markdown",
   "metadata": {
    "deletable": false,
    "editable": false,
    "nbgrader": {
     "cell_type": "markdown",
     "checksum": "dd22eeb7592822938bfe25d6b616fedf",
     "grade": false,
     "grade_id": "cell-21809bc2608e0994",
     "locked": true,
     "schema_version": 3,
     "solution": false,
     "task": false
    }
   },
   "source": [
    "## Question 6  (2 Points)\n",
    "### Custom train/test split questions\n",
    "Is the score of the model that incorporates custom_train_test_split() significantly different from the std_train_test_split() version? What issue(s) have we eliminated with our new custom_train_test_split() function?"
   ]
  },
  {
   "cell_type": "markdown",
   "metadata": {
    "deletable": false,
    "nbgrader": {
     "cell_type": "markdown",
     "checksum": "c97c9a253e5e8eec91e31911e863cd57",
     "grade": true,
     "grade_id": "cell-175bb32a2a2293c4",
     "locked": false,
     "points": 0,
     "schema_version": 3,
     "solution": true,
     "task": false
    }
   },
   "source": [
    "Answer:\n",
    "\n",
    "The score of the model incorporating the custom_train_test_split() is significantly different (worse) than the one from the std_train_test_split() function, which seems more reasonable given the arbitary choice of features and the fact that there is no data leakage from the train set to the test set as seen in the standard split (which had led to a deceptively better score). The issues of not having all test subject data together in the dataset leading to data leakage has been resolved with the custom function. Moreover, by choosing test subjects in the custom split by incorporating the random.choices() function, we have made it possible for the model to be run on new as well as existing test subjects, which was not possible with the standard split."
   ]
  },
  {
   "cell_type": "markdown",
   "metadata": {
    "deletable": false,
    "editable": false,
    "nbgrader": {
     "cell_type": "markdown",
     "checksum": "f897f7a3303926fd384f395925a77478",
     "grade": false,
     "grade_id": "cell-2e0f6b0e6c8930f2",
     "locked": true,
     "schema_version": 3,
     "solution": false,
     "task": false
    }
   },
   "source": [
    "## Question 7  (5 Points)\n",
    "### Confusion Matrix\n",
    " - We now want to better understand the relationship of correct and incorrect predictons made by a classification model. A very useful tool for examining a multiclass outcome, such as we have with our sensor dataset, is the [Confusion Matrix](https://scikit-learn.org/0.24/modules/generated/sklearn.metrics.confusion_matrix.html#sklearn.metrics.confusion_matrix)\n",
    " - Using the SciKit-Learn [LogisticRegression](https://scikit-learn.org/0.24/modules/generated/sklearn.linear_model.LogisticRegression.html#sklearn.linear_model.LogisticRegression) model, create a function that returns a Confusion Matrix.\n",
    "   - Your function should accept zero arguments.  \n",
    "   - Set hyperparameter: max_iter=1000\n",
    "   - Any random_state or seed values should be initialized with an integer value of 42.\n",
    " - Use your previously defined functions to derive your train and test sets.\n",
    " - Scaling is an important factor in many Machine Learning projects (See section 3.3 in the course textbook). For the current dataset, use the sklearn method StandardScaler() to scale the train and test sets.\n",
    " - Using code that you had previously developed, include all features who's name includes the substring defined in \n",
    "**base_feature_selector** ([library imports](#library-imports)).\n",
    "- Your function should return the following tuple:  \n",
    "   - The confusion matrix array as returned by the sklean method confusion_matrix().  "
   ]
  },
  {
   "cell_type": "code",
   "execution_count": 17,
   "metadata": {
    "deletable": false,
    "nbgrader": {
     "cell_type": "code",
     "checksum": "537ac6401b5c21173e3be37e770dea44",
     "grade": false,
     "grade_id": "cell-02b6f1ff73a7c6a8",
     "locked": false,
     "schema_version": 3,
     "solution": true,
     "task": false
    }
   },
   "outputs": [],
   "source": [
    "from sklearn.linear_model import LogisticRegression as LR\n",
    "\n",
    "def LR_confusion_matrix():\n",
    "\n",
    "    conf_matrix = None\n",
    "    feature_selector = base_feature_selector\n",
    "\n",
    "    # YOUR CODE HERE\n",
    "#     raise NotImplementedError()\n",
    "\n",
    "    df=get_sensor_data()\n",
    "    \n",
    "    features=[i for i in df.columns if feature_selector in i]\n",
    "    \n",
    "    df_features=pd.concat([df[features], df[\"Activity_Label\"], df[\"Subject_ID\"]], axis=1)\n",
    "    \n",
    "    X_train, X_test, y_train, y_test=custom_train_test_split(df_features)\n",
    "    \n",
    "    X_train.drop(\"Subject_ID\", axis=1, inplace=True)\n",
    "    X_test.drop(\"Subject_ID\", axis=1, inplace=True)\n",
    "    \n",
    "    scaler=StandardScaler()\n",
    "    X_train_scaled=scaler.fit_transform(X_train)\n",
    "    X_test_scaled=scaler.transform(X_test)\n",
    "    \n",
    "    lr=LR(random_state=42, max_iter=1000)\n",
    "    lr.fit(X_train_scaled, y_train)\n",
    "    \n",
    "    y_pred=lr.predict(X_test_scaled)\n",
    "    \n",
    "    conf_matrix=confusion_matrix(y_test, y_pred)\n",
    "\n",
    "    return conf_matrix"
   ]
  },
  {
   "cell_type": "code",
   "execution_count": 18,
   "metadata": {
    "deletable": false,
    "editable": false,
    "nbgrader": {
     "cell_type": "code",
     "checksum": "971a142669c182f79a601b7608d981ed",
     "grade": true,
     "grade_id": "cell-9ce7903f9c06f5f5",
     "locked": true,
     "points": 5,
     "schema_version": 3,
     "solution": false,
     "task": false
    }
   },
   "outputs": [],
   "source": [
    "# Autograder tests\n",
    "\n",
    "stu_ans = LR_confusion_matrix()\n",
    "\n",
    "assert isinstance(\n",
    "    stu_ans, np.ndarray\n",
    "), \"Q7: The second tuple element should be an np.ndarray\"\n",
    "\n",
    "del stu_ans"
   ]
  },
  {
   "cell_type": "markdown",
   "metadata": {
    "deletable": false,
    "editable": false,
    "nbgrader": {
     "cell_type": "markdown",
     "checksum": "bc90b6ed8fc517f04eab3bafc225f48d",
     "grade": false,
     "grade_id": "cell-4c32db5c2bff0137",
     "locked": true,
     "schema_version": 3,
     "solution": false,
     "task": false
    }
   },
   "source": [
    "### Visualizing the Confusion Matrix"
   ]
  },
  {
   "cell_type": "code",
   "execution_count": 19,
   "metadata": {
    "deletable": false,
    "editable": false,
    "nbgrader": {
     "cell_type": "code",
     "checksum": "b8e666ad0ca9607d5bf7f7e7f59d246b",
     "grade": false,
     "grade_id": "cell-740465ee9e481736",
     "locked": true,
     "schema_version": 3,
     "solution": false,
     "task": false
    }
   },
   "outputs": [],
   "source": [
    "def plot_confusion():\n",
    "    cm = LR_confusion_matrix()\n",
    "    labels = {\"neutral\": 1, \"emotional\": 2, \"mental\": 3, \"physical\": 4}.keys()\n",
    "    display_cm = ConfusionMatrixDisplay(confusion_matrix=cm, display_labels=labels)\n",
    "    display_cm.plot()\n",
    "    plt.show()"
   ]
  },
  {
   "cell_type": "code",
   "execution_count": 20,
   "metadata": {},
   "outputs": [
    {
     "data": {
      "image/png": "[encoded data removed]",
      "text/plain": [
       "<Figure size 432x288 with 2 Axes>"
      ]
     },
     "metadata": {
      "needs_background": "light"
     },
     "output_type": "display_data"
    }
   ],
   "source": [
    "# view your confusion matrix here\n",
    "# remember to comment the function call before submitting the notebook\n",
    "\n",
    "plot_confusion()"
   ]
  },
  {
   "cell_type": "markdown",
   "metadata": {
    "deletable": false,
    "editable": false,
    "nbgrader": {
     "cell_type": "markdown",
     "checksum": "75ea0791fb0a269cb8d9b3eaafdab63d",
     "grade": false,
     "grade_id": "cell-3a8431087ad8d20c",
     "locked": true,
     "schema_version": 3,
     "solution": false,
     "task": false
    },
    "slideshow": {
     "slide_type": "subslide"
    }
   },
   "source": [
    "## Question 8  (5 Points)\n",
    "### Basic Confusion Matrix Understanding\n",
    " - Answer the following questions concerning the above Confusion Matrix.  \n",
    " - Record (hardcode) your answers in the answer variables in the cell below for autograding purposes.  \n",
    " \n",
    "Q1. What is the number of __Correctly Predicted__ for the _mental_ activity?  \n",
    "Q2. How many __False Positive__ predictions were made for the _neutral_ activity?  \n",
    "Q3. How many __False Negative__ predictions were made for the _physical_ activity?  \n",
    "Q4. What is the __Precision__ Score for the _mental_ activity? (round to three decimal places)  \n",
    "Q5. What is the __Recall__ Score for the _emotional_ activity? (round to three decimal places)  \n",
    "Q6. What is the overall __Accuracy__ for the current model? (round to three decimal places)  \n",
    "Q7. Which activity is most confused for _mental_ activity when not?"
   ]
  },
  {
   "cell_type": "code",
   "execution_count": 21,
   "metadata": {
    "deletable": false,
    "nbgrader": {
     "cell_type": "code",
     "checksum": "c4798ae6588be5b458af88c00c90c8e2",
     "grade": false,
     "grade_id": "cell-aa8a1e16f3e1108a",
     "locked": false,
     "schema_version": 3,
     "solution": true,
     "task": false
    }
   },
   "outputs": [],
   "source": [
    "# Supply your answers to Q1 through Q7\n",
    "# in variables a1 through a7.\n",
    "\n",
    "# answers in case I use random.sample (without replacement)\n",
    "# a1 = 139\n",
    "# a2 = 51+30+14\n",
    "# a3 = 14+29+3\n",
    "# a4 = round((139/(139+7+9+3)), 3)\n",
    "# a5 = round((148/(148+51+9+16)), 3)\n",
    "# a6 = round(((96+148+139+178)/(96+118+7+3+51+148+9+16+30+51+139+4+14+29+3+178)), 3)\n",
    "# a7 = \"emotional\"\n",
    "\n",
    "# answers in case I use random.choices (with replacement)\n",
    "a1 = 152\n",
    "a2 = 91+31+27\n",
    "a3 = 27+3\n",
    "a4 = round((152/(152+10+1)), 3)\n",
    "a5 = round((99/(99+91+1+33)), 3)\n",
    "a6 = round(((155+99+152+194)/(155+55+10+4+91+99+1+33+31+36+152+5+27+3+194)), 3)\n",
    "a7 = \"emotional\"\n",
    "\n",
    "# YOUR CODE HERE\n",
    "# raise NotImplementedError()\n",
    "\n",
    "stu_ans = (a1, a2, a3, a4, a5, a6, a7)"
   ]
  },
  {
   "cell_type": "code",
   "execution_count": 22,
   "metadata": {
    "deletable": false,
    "editable": false,
    "nbgrader": {
     "cell_type": "code",
     "checksum": "0cf126236594f1f8b63abf1dbe466506",
     "grade": true,
     "grade_id": "cell-6c520b1fae9d0a50",
     "locked": true,
     "points": 5,
     "schema_version": 3,
     "solution": false,
     "task": false
    }
   },
   "outputs": [],
   "source": [
    "# Autograder tests\n",
    "\n",
    "assert (\n",
    "    len(stu_ans) == 7\n",
    "), \"Q8: Your answer tuple does not contain the correct number of answers.\"\n",
    "assert isinstance(stu_ans[0], int), \"Q8: Answer one should be an integer\"\n",
    "assert isinstance(stu_ans[1], int), \"Q8: Answer two should be an integer\"\n",
    "assert isinstance(stu_ans[2], int), \"Q8: Answer three should be an integer\"\n",
    "assert isinstance(stu_ans[3], float), \"Q8: Answer four should be a float\"\n",
    "assert isinstance(stu_ans[4], float), \"Q8: Answer five should be a float\"\n",
    "assert isinstance(stu_ans[5], float), \"Q8: Answer six should be a float\"\n",
    "assert isinstance(stu_ans[6], str), \"Q8: Answer seven should be a string\"\n",
    "\n",
    "del stu_ans"
   ]
  },
  {
   "cell_type": "markdown",
   "metadata": {
    "deletable": false,
    "editable": false,
    "nbgrader": {
     "cell_type": "markdown",
     "checksum": "a712696fa3a15efeae3e22251419927e",
     "grade": false,
     "grade_id": "cell-1aeefba857843791",
     "locked": true,
     "schema_version": 3,
     "solution": false,
     "task": false
    }
   },
   "source": [
    "## Question 9  (5 Points)\n",
    "### Feature Importance part 1\n",
    "#### Now we want to explore how some models are able to provide additional insight into the features that played a prominent role in the estimation outcome. \n",
    " - Produce a function that implements a RandomForestClassifier model, which includes the [**feature_importances_**](https://scikit-learn.org/0.24/modules/generated/sklearn.tree.DecisionTreeClassifier.html#sklearn.tree.DecisionTreeClassifier.feature_importances_) attribute.\n",
    "- The function accepts a single argument for the top X number of features, the default value will be 10.\n",
    "  - The classifier should use only two parameters:\n",
    "    - random_state=42\n",
    "    - n_jobs=-1\n",
    "- Use your previously defined functions to derive your train and test sets.\n",
    "- Using code that you had previously developed, include all features who's name includes the substring defined by **base_feature_selector** ([library imports](#library-imports)).\n",
    " - The function should return a tuple of two elements.\n",
    "   - The first element will be a **sorted** list of tuples in the form **\\[('feature_name', importance_value),...\\]**. The list of tuples should be sorted in descending order.\n",
    "     - This list of tuples should be sorted in **descending order** of feature_importance.\n",
    "   - The second element (test data score) should be an np.float64 value."
   ]
  },
  {
   "cell_type": "code",
   "execution_count": 23,
   "metadata": {
    "deletable": false,
    "nbgrader": {
     "cell_type": "code",
     "checksum": "7c720e8c74a6dea2ccee633e0265723f",
     "grade": false,
     "grade_id": "cell-ffe4926e6361f5fd",
     "locked": false,
     "schema_version": 3,
     "solution": true,
     "task": false
    }
   },
   "outputs": [],
   "source": [
    "def get_top_features(top=10):\n",
    "    top_x, score = None, None\n",
    "    feature_selector = base_feature_selector\n",
    "\n",
    "    # YOUR CODE HERE\n",
    "#     raise NotImplementedError()\n",
    "\n",
    "    from sklearn.ensemble import RandomForestClassifier\n",
    "    \n",
    "    df=get_sensor_data()\n",
    "    \n",
    "    features=[i for i in df.columns if feature_selector in i]\n",
    "    \n",
    "    df_features=pd.concat([df[features], df[\"Activity_Label\"], df[\"Subject_ID\"]], axis=1)\n",
    "    \n",
    "    X_train, X_test, y_train, y_test=custom_train_test_split(df_features)\n",
    "    \n",
    "    X_train.drop(\"Subject_ID\", axis=1, inplace=True)\n",
    "    X_test.drop(\"Subject_ID\", axis=1, inplace=True)\n",
    "    \n",
    "    rfc=RandomForestClassifier(random_state=42, n_jobs=-1)\n",
    "    rfc.fit(X_train, y_train)\n",
    "    \n",
    "    list_of_tuples=list(zip(X_train.columns, rfc.feature_importances_))\n",
    "    sorted_list_of_tuples=sorted(list_of_tuples, key=lambda x: x[1], reverse=True)\n",
    "    top_x=sorted_list_of_tuples[:top]\n",
    "    \n",
    "    score=rfc.score(X_test, y_test)\n",
    "\n",
    "    return top_x, score"
   ]
  },
  {
   "cell_type": "code",
   "execution_count": 24,
   "metadata": {},
   "outputs": [],
   "source": [
    "# review your results here\n",
    "# remember to comment the function call before submitting the notebook\n",
    "\n",
    "# get_top_features()"
   ]
  },
  {
   "cell_type": "code",
   "execution_count": 25,
   "metadata": {
    "deletable": false,
    "editable": false,
    "nbgrader": {
     "cell_type": "code",
     "checksum": "d4ec8635146881be9f78aee493f1817a",
     "grade": true,
     "grade_id": "cell-b112a369a5bef4a9",
     "locked": true,
     "points": 5,
     "schema_version": 3,
     "solution": false,
     "task": false
    }
   },
   "outputs": [],
   "source": [
    "# Autograder tests\n",
    "\n",
    "stu_ans = get_top_features()\n",
    "\n",
    "assert (\n",
    "    len(stu_ans) == 2\n",
    "), \"Q9: Your answer tuple does not contain the correct number of elements.\"\n",
    "\n",
    "assert isinstance(stu_ans[0], list), \"Q9: The first tuple element should be a list\"\n",
    "\n",
    "assert len(stu_ans[0]) == 10, \"Q9: The default number of top features is not correct.\"\n",
    "\n",
    "assert isinstance(\n",
    "    stu_ans[1], np.float64\n",
    "), \"Q9: get_top_features() second return element should be an np.float64.\"\n",
    "\n",
    "del stu_ans\n"
   ]
  },
  {
   "cell_type": "markdown",
   "metadata": {
    "deletable": false,
    "editable": false,
    "nbgrader": {
     "cell_type": "markdown",
     "checksum": "aab0db2fca3608134f1de4df4e532238",
     "grade": false,
     "grade_id": "cell-0562af8e13d94e4e",
     "locked": true,
     "schema_version": 3,
     "solution": false,
     "task": false
    }
   },
   "source": [
    "## Question 10  (10 Points)\n",
    "### Feature Importance part 2\n",
    "#### The value of Feature Importance \n",
    "- This follow-on question will use the same **RandomForestClassifier** model as in your get_top_features() function.\n",
    "- The new model will use a portion of the output returned by the get_top_features() function.\n",
    "- Use the previously defined functions to derive your train and test datasets.\n",
    "- Create a loop that trains your model with an incrementally increasing number of features from the top features list.\n",
    "  - The first pass will include the topmost important feature, the second pass will include the top two most important features and so on until the final pass of all top X features.\n",
    "- Your function should return a list of feature-based test data scores produced by the model."
   ]
  },
  {
   "cell_type": "code",
   "execution_count": 26,
   "metadata": {
    "deletable": false,
    "nbgrader": {
     "cell_type": "code",
     "checksum": "c60dd666af9160639df3e8dfbb0461e2",
     "grade": false,
     "grade_id": "cell-61533567ca475486",
     "locked": false,
     "schema_version": 3,
     "solution": true,
     "task": false
    }
   },
   "outputs": [],
   "source": [
    "def score_top_features(top=10):\n",
    "\n",
    "    scores = []\n",
    "\n",
    "    # YOUR CODE HERE\n",
    "#     raise NotImplementedError()\n",
    "\n",
    "    from sklearn.ensemble import RandomForestClassifier\n",
    "    \n",
    "    df=get_sensor_data()\n",
    "    \n",
    "    top_x, score=get_top_features(top)\n",
    "    \n",
    "    features=[]\n",
    "    for i in range(len(top_x)):\n",
    "        \n",
    "        features.append(top_x[i][0])\n",
    "        df_features=pd.concat([df[features], df[\"Activity_Label\"], df[\"Subject_ID\"]], axis=1)\n",
    "\n",
    "        X_train, X_test, y_train, y_test=custom_train_test_split(df=df_features)\n",
    "        \n",
    "        X_train.drop(\"Subject_ID\", axis=1, inplace=True)\n",
    "        X_test.drop(\"Subject_ID\", axis=1, inplace=True)\n",
    "        \n",
    "        rfc=RandomForestClassifier(random_state=42, n_jobs=-1)\n",
    "        rfc.fit(X_train, y_train)\n",
    "        \n",
    "        scores.append(rfc.score(X_test, y_test))\n",
    "\n",
    "    return scores"
   ]
  },
  {
   "cell_type": "code",
   "execution_count": 27,
   "metadata": {},
   "outputs": [],
   "source": [
    "# review your top features results here\n",
    "# remember to comment the function call before submitting the notebook\n",
    "\n",
    "# score_top_features()"
   ]
  },
  {
   "cell_type": "code",
   "execution_count": 28,
   "metadata": {
    "deletable": false,
    "editable": false,
    "nbgrader": {
     "cell_type": "code",
     "checksum": "08558c7df20da2d92a12150be64857c1",
     "grade": true,
     "grade_id": "cell-bbade458d0c15e25",
     "locked": true,
     "points": 10,
     "schema_version": 3,
     "solution": false,
     "task": false
    }
   },
   "outputs": [],
   "source": [
    "# Autograder tests\n",
    "\n",
    "top = 10\n",
    "stu_ans = score_top_features(top)\n",
    "\n",
    "assert (\n",
    "    len(stu_ans) == top\n",
    "), \"Q10: Your function does not return the correct number of scores.\"\n",
    "\n",
    "assert all(\n",
    "    isinstance(x, np.float64) for x in stu_ans\n",
    "), \"Q10: One or more of the returned scores is of an incorrect type.\"\n",
    "\n",
    "del stu_ans"
   ]
  },
  {
   "cell_type": "code",
   "execution_count": 29,
   "metadata": {
    "deletable": false,
    "editable": false,
    "nbgrader": {
     "cell_type": "code",
     "checksum": "f7739a009138832617bb5f11238ce4fe",
     "grade": false,
     "grade_id": "cell-8fe2a304ac06b8b4",
     "locked": true,
     "schema_version": 3,
     "solution": false,
     "task": false
    }
   },
   "outputs": [],
   "source": [
    "def plot_scores(top=10):\n",
    "\n",
    "    if top > 29:\n",
    "        top = 29\n",
    "\n",
    "    top_x_features, score = get_top_features(top)\n",
    "    scores = score_top_features(top)\n",
    "\n",
    "    importance_scores = [score[1] for score in top_x_features]\n",
    "    x_axis = np.arange(1, len(scores) + 1)\n",
    "\n",
    "    plt.figure(figsize=(8, 6))\n",
    "\n",
    "    plt.plot(x_axis, scores, label=\"Accuracy Score\", c=\"g\", linestyle=\"solid\")\n",
    "    plt.plot(\n",
    "        x_axis,\n",
    "        importance_scores,\n",
    "        label=\"Feature Importance Scores\",\n",
    "        c=\"r\",\n",
    "        linestyle=\"solid\",\n",
    "    )\n",
    "    plt.axhline(\n",
    "        score,\n",
    "        label=f\"All '{base_feature_selector}' features score\",\n",
    "        c=\"b\",\n",
    "        linestyle=\"dashed\",\n",
    "    )\n",
    "\n",
    "    plt.xticks(x_axis)\n",
    "    plt.ylim([0, max(score, max(importance_scores)) + 0.05])\n",
    "    plt.xlabel(\"Number of Top 10 Features Used\")\n",
    "    plt.ylabel(\"Score Value\")\n",
    "    plt.grid(alpha=0.25)\n",
    "    plt.legend()\n",
    "    plt.show()\n",
    "\n",
    "    return"
   ]
  },
  {
   "cell_type": "markdown",
   "metadata": {
    "deletable": false,
    "editable": false,
    "nbgrader": {
     "cell_type": "markdown",
     "checksum": "0f32afade86587c02514ee243b8be7bf",
     "grade": false,
     "grade_id": "cell-616a3443dbb1643b",
     "locked": true,
     "schema_version": 3,
     "solution": false,
     "task": false
    }
   },
   "source": [
    "## Scores Plot\n",
    "The plot_scores() function accepts top X features argumnet which defaults to a value of 10. Feel free to change the argument to better see how accuracy is affected by the number of top features used to train the model."
   ]
  },
  {
   "cell_type": "code",
   "execution_count": 30,
   "metadata": {},
   "outputs": [],
   "source": [
    "# Plot accuracy vs feature importance\n",
    "# the plot_scores() function will accept a\n",
    "# remember to comment the function call before submitting the notebook\n",
    "\n",
    "# plot_scores()"
   ]
  },
  {
   "cell_type": "markdown",
   "metadata": {
    "deletable": false,
    "editable": false,
    "nbgrader": {
     "cell_type": "markdown",
     "checksum": "48735e57990836244788501440628e19",
     "grade": false,
     "grade_id": "cell-4e84ab0e7aaf6f51",
     "locked": true,
     "schema_version": 3,
     "solution": false,
     "task": false
    }
   },
   "source": [
    "## Question 11  (50 Points)\n",
    "### Final project\n",
    "- The final question for this assignment is open-ended with only a few **constraints**. Using any of the Supervised Machine Learning techniques and models presented in this course, produce a model that produces a best-possible ROC-AUC score. Your Question 11 award points will be evaluated solely on this score. The primary constraint for this question is that you will be able to utilize not more than **10** of the 533 available data features in the training and scoring of your model. A quick calculation of the number of available combinations C(n, r) = C(533, 10) = $\\frac{n!}{r!(n-r)!}$ = 4.684e20. That is very large number of possible combinations (the number of permutations is even greater)! Because of the intractability of checking all possible 10-feature combinations, it will be necessary to devise a scheme whereby your algorithm makes a selection of features and scores that selection. Be creative but also efficient in your feature selection process. Because multiple feature selection cycles may be necessary, you will also need to develop an efficient method of keeping track of the top model, features, and score.  \n",
    "\n",
    "- Why would we want to limit the number of features? \n",
    "   1. The creator of the project may want to minimize the number of sensors/measurements required to move the project forward.\n",
    "   2. The final product will be used on a smartphone where resource consumption is always a concern.\n",
    "   3. Computational resource availability of the development environment could be constrained due to budget availability.\n",
    "   4. The development environment may be intentionally constrained to mimic the production environment.\n",
    "  \n",
    "- You will find that even with these limitations, some model choices will still consume significant resources, even to the point of crashing the Python kernel!  \n",
    "\n",
    "- The activity_model() function:\n",
    "  - Arguments: none\n",
    "  - Use your previously defined functions to derive your train and test sets.\n",
    "  - If feasible, expand upon your previously created feature selection code.\n",
    "  - Use the following parameters when establishing your [roc_auc_score](https://scikit-learn.org/0.24/modules/generated/sklearn.metrics.roc_auc_score.html#sklearn.metrics.roc_auc_score) method:\n",
    "    - average=\"macro\"\n",
    "    - multi_class=\"ovr\"\n",
    "  - return: a tuple consisting of (fit_model, feature_list, roc_auc_score)"
   ]
  },
  {
   "cell_type": "code",
   "execution_count": 31,
   "metadata": {
    "deletable": false,
    "nbgrader": {
     "cell_type": "code",
     "checksum": "d13d8ecd713b4ed9d58940ec96042792",
     "grade": false,
     "grade_id": "cell-aa54eef9e0c09556",
     "locked": false,
     "schema_version": 3,
     "solution": true,
     "task": false
    }
   },
   "outputs": [],
   "source": [
    "def activity_model():\n",
    "    model, features, score = (None,) * 3\n",
    "\n",
    "    # YOUR CODE HERE\n",
    "#     raise NotImplementedError()\n",
    "\n",
    "    # import classifier\n",
    "    from sklearn.ensemble import RandomForestClassifier\n",
    "    \n",
    "    # set random seed\n",
    "    random.seed(42)\n",
    "    \n",
    "    df=get_sensor_data()\n",
    "    \n",
    "    # define required functions with roc_auc scoring\n",
    "    def get_top_features(top, df=get_sensor_data()):\n",
    "\n",
    "        X_train, X_test, y_train, y_test=custom_train_test_split(df)\n",
    "        X_train.drop(\"Subject_ID\", axis=1, inplace=True)\n",
    "        X_test.drop(\"Subject_ID\", axis=1, inplace=True)\n",
    "        rfc=RandomForestClassifier(random_state=42, n_jobs=-1)\n",
    "        rfc.fit(X_train, y_train)\n",
    "        list_of_tuples=list(zip(X_train.columns, rfc.feature_importances_))\n",
    "        sorted_list_of_tuples=sorted(list_of_tuples, key=lambda x: x[1], reverse=True)\n",
    "        top_x=sorted_list_of_tuples[:top]\n",
    "        y_pred=rfc.predict_proba(X_test)\n",
    "        score=roc_auc_score(y_test, y_pred, average=\"macro\", multi_class=\"ovr\")\n",
    "\n",
    "        return top_x, score\n",
    "    \n",
    "    def get_top_feature_names(top_x):\n",
    "        \n",
    "        selected_features=[]\n",
    "        for i in range(len(top_x)):\n",
    "            selected_features.append(top_x[i][0])\n",
    "            \n",
    "        return selected_features\n",
    "    \n",
    "    # get top 100 features from the total 533\n",
    "    top_100, scores_100=get_top_features(top=100)\n",
    "    features_100=get_top_feature_names(top_100)\n",
    "    \n",
    "    # get top 50 features from the top 100\n",
    "    df_features_100=pd.concat([df[features_100], df[\"Activity_Label\"], df[\"Subject_ID\"]], axis=1)\n",
    "    top_50, scores_50=get_top_features(50, df=df_features_100)\n",
    "    features_50=get_top_feature_names(top_50)\n",
    "    \n",
    "    # get top 10 features from the top 50\n",
    "    df_features_50=pd.concat([df[features_50], df[\"Activity_Label\"], df[\"Subject_ID\"]], axis=1)\n",
    "    top_10, scores_10=get_top_features(10, df=df_features_50)\n",
    "    features_10=get_top_feature_names(top_10)\n",
    "    \n",
    "    # train the final model with the top 10 features\n",
    "    df_features_10=pd.concat([df[features_10], df[\"Activity_Label\"], df[\"Subject_ID\"]], axis=1)\n",
    "    X_train, X_test, y_train, y_test=custom_train_test_split(df=df_features_10)\n",
    "    X_train.drop(\"Subject_ID\", axis=1, inplace=True)\n",
    "    X_test.drop(\"Subject_ID\", axis=1, inplace=True)\n",
    "    rfc=RandomForestClassifier(random_state=42, n_jobs=-1)\n",
    "    rfc.fit(X_train, y_train)\n",
    "    y_pred=rfc.predict_proba(X_test)\n",
    "    \n",
    "    model=rfc\n",
    "    features=features_10\n",
    "    score=roc_auc_score(y_test, y_pred, average=\"macro\", multi_class=\"ovr\")\n",
    "\n",
    "    return (model, features, score)"
   ]
  },
  {
   "cell_type": "code",
   "execution_count": 32,
   "metadata": {},
   "outputs": [],
   "source": [
    "# review your activity_model() return here\n",
    "# remember to comment the function call before submitting the notebook\n",
    "\n",
    "# activity_model()"
   ]
  },
  {
   "cell_type": "code",
   "execution_count": 33,
   "metadata": {
    "deletable": false,
    "editable": false,
    "nbgrader": {
     "cell_type": "code",
     "checksum": "8a6b9f898c212bef7bb6bdd2f2b48205",
     "grade": true,
     "grade_id": "cell-b75d744376ca0a86",
     "locked": true,
     "points": 25,
     "schema_version": 3,
     "solution": false
    }
   },
   "outputs": [],
   "source": [
    "# Hidden autograder model validation\n",
    "# test for AUC score >= 0.83\n",
    "\n",
    "stu_ans = activity_model()\n",
    "\n",
    "assert (\n",
    "    stu_ans[2] >= 0.83\n",
    "), f\"Q11: Your test AUC {stu_ans[2]:.4f} is less than 0.83. You will not receive any points for this question.\""
   ]
  },
  {
   "cell_type": "code",
   "execution_count": 34,
   "metadata": {
    "deletable": false,
    "editable": false,
    "nbgrader": {
     "cell_type": "code",
     "checksum": "bd9f10b623502320ec1c62f8fc071d44",
     "grade": true,
     "grade_id": "cell-51c43ad464c6a07b",
     "locked": true,
     "points": 5,
     "schema_version": 3,
     "solution": false
    }
   },
   "outputs": [],
   "source": [
    "# autograder test - AUC >= 0.85\n",
    "\n",
    "\n",
    "assert (\n",
    "    stu_ans[2] >= 0.85\n",
    "), f\"Q11: Your test AUC {stu_ans[2]:.4f} is less than 0.85. You will receive 25 points for this question.\""
   ]
  },
  {
   "cell_type": "code",
   "execution_count": 35,
   "metadata": {
    "deletable": false,
    "editable": false,
    "nbgrader": {
     "cell_type": "code",
     "checksum": "ef17cb93c66df1dc0a1586b95ac65471",
     "grade": true,
     "grade_id": "cell-8013377ff7931f48",
     "locked": true,
     "points": 5,
     "schema_version": 3,
     "solution": false
    }
   },
   "outputs": [],
   "source": [
    "# autograder test - AUC >= 0.87\n",
    "\n",
    "\n",
    "assert (\n",
    "    stu_ans[2] >= 0.87\n",
    "), f\"Q11: Your test AUC {stu_ans[2]:.4f} is less than 0.87. You will receive 30 points for this question.\""
   ]
  },
  {
   "cell_type": "code",
   "execution_count": 36,
   "metadata": {
    "deletable": false,
    "editable": false,
    "nbgrader": {
     "cell_type": "code",
     "checksum": "673cff6f549ebe345a23f8d2e5c0f31c",
     "grade": true,
     "grade_id": "cell-ebe32e8d5f5255f4",
     "locked": true,
     "points": 10,
     "schema_version": 3,
     "solution": false
    }
   },
   "outputs": [],
   "source": [
    "# autograder test - AUC >= 0.89\n",
    "\n",
    "\n",
    "assert (\n",
    "    stu_ans[2] >= 0.89\n",
    "), f\"Q11: Your test AUC {stu_ans[2]:.4f} is less than 0.89. You will receive 35 points for this question.\""
   ]
  },
  {
   "cell_type": "code",
   "execution_count": 37,
   "metadata": {
    "deletable": false,
    "editable": false,
    "nbgrader": {
     "cell_type": "code",
     "checksum": "26ba8748ac588697dd3a58f942dc3cec",
     "grade": true,
     "grade_id": "cell-ee59bccdda8ea14c",
     "locked": true,
     "points": 5,
     "schema_version": 3,
     "solution": false
    }
   },
   "outputs": [],
   "source": [
    "# autograder test - AUC >= 0.91\n",
    "\n",
    "\n",
    "assert (\n",
    "    stu_ans[2] >= 0.91\n",
    "), f\"Q11: Your test AUC {stu_ans[2]:.4f} is less than 0.91. You will receive 45 points for this question.\"\n",
    "\n",
    "del stu_ans"
   ]
  }
 ],
 "metadata": {
  "anaconda-cloud": {},
  "coursera": {
   "schema_names": [
    "mads_supervised_learning_v2_assignment4"
   ]
  },
  "kernelspec": {
   "display_name": "Python 3 (ipykernel)",
   "language": "python",
   "name": "python3"
  },
  "language_info": {
   "codemirror_mode": {
    "name": "ipython",
    "version": 3
   },
   "file_extension": ".py",
   "mimetype": "text/x-python",
   "name": "python",
   "nbconvert_exporter": "python",
   "pygments_lexer": "ipython3",
   "version": "3.8.10"
  }
 },
 "nbformat": 4,
 "nbformat_minor": 2
}
