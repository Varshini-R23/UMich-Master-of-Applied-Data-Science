{
 "cells": [
  {
   "cell_type": "markdown",
   "metadata": {
    "deletable": false,
    "editable": false,
    "nbgrader": {
     "checksum": "b782e0547c33637a1b1fde040d79733a",
     "grade": false,
     "grade_id": "cell-a6c4f74309fc2379",
     "locked": true,
     "schema_version": 1,
     "solution": false
    }
   },
   "source": [
    "# Assignment 4\n",
    "## Description\n",
    "In this assignment you must read in a file of metropolitan regions and associated sports teams from [assets/wikipedia_data.html](assets/wikipedia_data.html) and answer some questions about each metropolitan region. Each of these regions may have one or more teams from the \"Big 4\": NFL (football, in [assets/nfl.csv](assets/nfl.csv)), MLB (baseball, in [assets/mlb.csv](assets/mlb.csv)), NBA (basketball, in [assets/nba.csv](assets/nba.csv) or NHL (hockey, in [assets/nhl.csv](assets/nhl.csv)). Please keep in mind that all questions are from the perspective of the metropolitan region, and that this file is the \"source of authority\" for the location of a given sports team. Thus teams which are commonly known by a different area (e.g. \"Oakland Raiders\") need to be mapped into the metropolitan region given (e.g. San Francisco Bay Area). This will require some human data understanding outside of the data you've been given (e.g. you will have to hand-code some names, and might need to google to find out where teams are)!\n",
    "\n",
    "For each sport I would like you to answer the question: **what is the win percentage's correlation with the population of the city it is in?** Win/Loss ratio refers to the number of wins over the number of wins plus the number of losses. Remember that to calculate the correlation with [`pearsonr`](https://docs.scipy.org/doc/scipy/reference/generated/scipy.stats.pearsonr.html), so you are going to send in two ordered lists of values, the populations from the wikipedia_data.html file and the win/loss ratio for a given sport in the same order. Average the win/loss ratios for those cities which have multiple teams of a single sport. Each sport is worth an equal amount in this assignment (20%\\*4=80%) of the grade for this assignment. You should only use data **from year 2018** for your analysis -- this is important!\n",
    "\n",
    "## Notes\n",
    "\n",
    "1. Do not include data about the MLS or CFL in any of the work you are doing, we're only interested in the Big 4 in this assignment.\n",
    "2. I highly suggest that you first tackle the four correlation questions in order, as they are all similar and worth the majority of grades for this assignment. This is by design!\n",
    "3. It's fair game to talk with peers about high level strategy as well as the relationship between metropolitan areas and sports teams. However, do not post code solving aspects of the assignment (including such as dictionaries mapping areas to teams, or regexes which will clean up names).\n",
    "4. There may be more teams than the assert statements test, remember to collapse multiple teams in one city into a single value!"
   ]
  },
  {
   "cell_type": "markdown",
   "metadata": {
    "deletable": false,
    "editable": false,
    "nbgrader": {
     "checksum": "0c660dc6bd33d6611d5c7bb9dc2adfcf",
     "grade": false,
     "grade_id": "cell-712b2b5da63d4505",
     "locked": true,
     "schema_version": 1,
     "solution": false
    }
   },
   "source": [
    "## Question 1\n",
    "For this question, calculate the win percentage's correlation with the population of the city it is in for the **NHL** using **2018** data. The win percentage ratio should be calculated using the following formula: **win/(win+loss)**. Then, return (a) population per region, (b) win percentage ratio per region, and (c) the correlation between these two. "
   ]
  },
  {
   "cell_type": "code",
   "execution_count": 1,
   "metadata": {
    "deletable": false,
    "nbgrader": {
     "checksum": "cfccaf29591f784581d224408f598e99",
     "grade": false,
     "grade_id": "cell-69b16e4386e58030",
     "locked": false,
     "schema_version": 1,
     "solution": true
    }
   },
   "outputs": [],
   "source": [
    "def nhl_correlation(): \n",
    "\n",
    "    import pandas as pd\n",
    "    import numpy as np\n",
    "    import scipy.stats as stats\n",
    "    import re\n",
    "    \n",
    "    nhl_df=pd.read_csv(\"assets/nhl.csv\")\n",
    "    cities=pd.read_html(\"assets/wikipedia_data.html\")[1]\n",
    "    cities=cities.iloc[:-1,[0,3,5,6,7,8]]\n",
    "    \n",
    "    # clean up the NHL column\n",
    "    cities.NHL=cities.NHL.str.split(\"[\").str[0]\n",
    "    # drop rows containing empty strings and dashes in the NHL column\n",
    "    nhl=cities.drop(cities.loc[cities.NHL.isin([\"\", \"—\"])].index, axis=0)\n",
    "    # create new rows for each of the NHL teams which were stuck together\n",
    "    nhl=nhl.assign(NHL=nhl[\"NHL\"].str.findall(r\"[A-Z](?:\\s[A-Z]|[^A-Z])+\")).explode(\"NHL\").reset_index(drop=True)\n",
    "    # create a column containing the last word from the NHL column\n",
    "    nhl[\"NHL_last\"]=nhl.NHL.str.split(\" \").str[-1]\n",
    "    \n",
    "    # subset for 2018 data\n",
    "    nhl_df=nhl_df.loc[nhl_df.year==2018]\n",
    "    # drop rows containing the word \"Division\" in the team column\n",
    "    nhl_df.drop(nhl_df.loc[nhl_df.team.str.contains('Division')].index, axis=0, inplace=True)\n",
    "    # clean up the team column\n",
    "    nhl_df.team=nhl_df.team.str.replace(\"*\", \"\")\n",
    "    # create a column containing the last word from the team column\n",
    "    nhl_df[\"NHL_last\"]=nhl_df.team.str.split(\" \").str[-1]\n",
    "\n",
    "    # merge both dataframes on NHL_last column\n",
    "    merged_nhl=pd.merge(nhl_df, nhl, how=\"outer\", on=\"NHL_last\")\n",
    "    \n",
    "    # convert data types of W and L columns from object to int\n",
    "    merged_nhl[\"W\"]=merged_nhl[\"W\"].astype(\"int\")\n",
    "    merged_nhl[\"L\"]=merged_nhl[\"L\"].astype(\"int\")\n",
    "    \n",
    "    # create a column with win-loss ratio calculated as W/(W+L)\n",
    "    merged_nhl[\"WL_ratio\"]=merged_nhl[\"W\"].div((merged_nhl[\"W\"].add(merged_nhl[\"L\"])))\n",
    "    \n",
    "    # rename Population column name\n",
    "    merged_nhl.rename(columns={\"Population (2016 est.)[8]\": \"Population\"}, inplace=True)\n",
    "    \n",
    "    # get the population and win-loss ratio of each metropolitan area averaged over those of multiple teams\n",
    "    nhl_corr=merged_nhl.groupby([\"Metropolitan area\", \"Population\"]).agg({\"WL_ratio\":\"mean\"})\n",
    "\n",
    "    # remove multi-indices\n",
    "    nhl_corr.reset_index(inplace=True)\n",
    "    \n",
    "    # convert data type of Population column from object to int\n",
    "    nhl_corr.Population=nhl_corr.Population.astype(\"int\")\n",
    "    \n",
    "    population_by_region = list(nhl_corr.Population) # pass in metropolitan area population from cities\n",
    "    win_loss_by_region = list(nhl_corr.WL_ratio) # pass in win/loss ratio from nhl_df in the same order as cities[\"Metropolitan area\"]\n",
    "    correlation = stats.pearsonr(population_by_region, win_loss_by_region)[0]\n",
    "    \n",
    "    return population_by_region, win_loss_by_region, correlation\n",
    "\n",
    "# YOUR CODE HERE\n",
    "# raise NotImplementedError()"
   ]
  },
  {
   "cell_type": "code",
   "execution_count": 2,
   "metadata": {
    "deletable": false,
    "editable": false,
    "nbgrader": {
     "checksum": "81ff64569aef13592e69944e6e170dd6",
     "grade": true,
     "grade_id": "cell-ebe0b2dfe1067e63",
     "locked": true,
     "points": 20,
     "schema_version": 1,
     "solution": false
    }
   },
   "outputs": [],
   "source": [
    "population_by_region, win_loss_by_region, correlation = nhl_correlation()\n",
    "\n",
    "assert len(population_by_region) == len(win_loss_by_region), \"Q1: Your lists must be the same length\"\n",
    "assert len(population_by_region) == 28, \"Q1: There should be 28 teams being analysed for NHL\"\n"
   ]
  },
  {
   "cell_type": "markdown",
   "metadata": {
    "deletable": false,
    "editable": false,
    "nbgrader": {
     "checksum": "b6f83da7d4b0c992604fd22b3a888416",
     "grade": false,
     "grade_id": "cell-cb964e690298b71d",
     "locked": true,
     "schema_version": 1,
     "solution": false
    }
   },
   "source": [
    "## Question 2\n",
    "For this question, calculate the win percentage's correlation with the population of the city it is in for the **NBA** using **2018** data. The win percentage ratio should be calculated using the following formula: **win/(win+loss)**. Then, return (a) population per region, (b) win percentage ratio per region, and (c) the correlation between these two. "
   ]
  },
  {
   "cell_type": "code",
   "execution_count": 3,
   "metadata": {
    "deletable": false,
    "nbgrader": {
     "checksum": "50a7b22b338b03d75905548683cd8b5b",
     "grade": false,
     "grade_id": "cell-5a5f21279e3d3572",
     "locked": false,
     "schema_version": 1,
     "solution": true
    }
   },
   "outputs": [],
   "source": [
    "def nba_correlation():\n",
    "    import pandas as pd\n",
    "    import numpy as np\n",
    "    import scipy.stats as stats\n",
    "    import re\n",
    "    \n",
    "    nba_df=pd.read_csv(\"assets/nba.csv\")\n",
    "    cities=pd.read_html(\"assets/wikipedia_data.html\")[1]\n",
    "    cities=cities.iloc[:-1,[0,3,5,6,7,8]]\n",
    "    \n",
    "    # clean up the NBA column\n",
    "    cities.NBA=cities.NBA.str.split(\"[\").str[0]\n",
    "    # drop rows containing empty strings and dashes in the NBA column\n",
    "    nba=cities.drop(cities.loc[cities.NBA.isin([\"\", \"—\"])].index, axis=0)\n",
    "    # create new rows for each of the NBA teams which were stuck together\n",
    "    nba=nba.assign(NBA=nba[\"NBA\"].str.findall(r\"[A-Z](?:\\s[A-Z]|[^A-Z])+\")).explode(\"NBA\").reset_index(drop=True)\n",
    "    # create a column containing the last word from the NBA column\n",
    "    nba[\"NBA_last\"]=nba.NBA.str.split(\" \").str[-1]\n",
    "    # fill in the missing value of Philadelphia's NBA_last column\n",
    "    nba.loc[nba[\"Metropolitan area\"]==\"Philadelphia\", \"NBA_last\"]=\"76ers\"\n",
    "    \n",
    "    # subset for 2018 data\n",
    "    nba_df=nba_df.loc[nba_df.year==2018]\n",
    "    # clean up the team column\n",
    "    nba_df.team=nba_df.team.str.replace(\"*\", \"\")\n",
    "    # clean up the team column further\n",
    "    nba_df.team=nba_df.team.str.split(\"(\").str[0]\n",
    "    # remove empty spaces in the team column\n",
    "    nba_df.team=nba_df.team.str.strip()\n",
    "    # create a column containing the last word from the team column\n",
    "    nba_df[\"NBA_last\"]=nba_df.team.str.split(\" \").str[-1]\n",
    "    \n",
    "    # merge both dataframes on NBA_last column\n",
    "    merged_nba=pd.merge(nba_df, nba, how=\"outer\", on=\"NBA_last\")\n",
    "    \n",
    "    # convert data types of W and L columns from object to int\n",
    "    merged_nba[\"W\"]=merged_nba[\"W\"].astype(\"int\")\n",
    "    merged_nba[\"L\"]=merged_nba[\"L\"].astype(\"int\")\n",
    "    \n",
    "    # create a column with win-loss ratio calculated as W/(W+L)\n",
    "    merged_nba[\"WL_ratio\"]=merged_nba[\"W\"].div((merged_nba[\"W\"].add(merged_nba[\"L\"])))\n",
    "    \n",
    "    # rename Population column name\n",
    "    merged_nba.rename(columns={\"Population (2016 est.)[8]\": \"Population\"}, inplace=True)\n",
    "    \n",
    "    # get the population and win-loss ratio of each metropolitan area averaged over those of multiple teams\n",
    "    nba_corr=merged_nba.groupby([\"Metropolitan area\", \"Population\"]).agg({\"WL_ratio\":\"mean\"})\n",
    "\n",
    "    # remove multi-indices\n",
    "    nba_corr.reset_index(inplace=True)\n",
    "    \n",
    "    # convert data type of Population column from object to int\n",
    "    nba_corr.Population=nba_corr.Population.astype(\"int\")\n",
    "    \n",
    "    population_by_region = list(nba_corr.Population) # pass in metropolitan area population from cities\n",
    "    win_loss_by_region = list(nba_corr.WL_ratio) # pass in win/loss ratio from nba_df in the same order as cities[\"Metropolitan area\"]\n",
    "    correlation = stats.pearsonr(population_by_region, win_loss_by_region)[0]\n",
    "    \n",
    "    return population_by_region, win_loss_by_region, correlation\n",
    "\n",
    "# YOUR CODE HERE\n",
    "# raise NotImplementedError()"
   ]
  },
  {
   "cell_type": "code",
   "execution_count": 4,
   "metadata": {
    "deletable": false,
    "editable": false,
    "nbgrader": {
     "checksum": "1cdd841259cf2dc1531341b23a2eb46a",
     "grade": true,
     "grade_id": "cell-e573b2b4a282b470",
     "locked": true,
     "points": 20,
     "schema_version": 1,
     "solution": false
    }
   },
   "outputs": [],
   "source": [
    "population_by_region, win_loss_by_region, correlation = nba_correlation()\n",
    "assert len(population_by_region) == len(win_loss_by_region), \"Q2: Your lists must be the same length\"\n",
    "assert len(population_by_region) == 28, \"Q2: There should be 28 teams being analysed for NBA\"\n"
   ]
  },
  {
   "cell_type": "markdown",
   "metadata": {
    "deletable": false,
    "editable": false,
    "nbgrader": {
     "checksum": "95519d2a7e11dc0f0b88644cb145887d",
     "grade": false,
     "grade_id": "cell-96e15e4335df78f4",
     "locked": true,
     "schema_version": 1,
     "solution": false
    }
   },
   "source": [
    "## Question 3\n",
    "For this question, calculate the win percentage's correlation with the population of the city it is in for the **MLB** using **2018** data. The win percentage ratio should be calculated using the following formula: **win/(win+loss)**. Then, return (a) population per region, (b) win percentage ratio per region, and (c) the correlation between these two. "
   ]
  },
  {
   "cell_type": "code",
   "execution_count": 5,
   "metadata": {
    "deletable": false,
    "nbgrader": {
     "checksum": "e45ae57b65661a10c2b8052ef62eb2f9",
     "grade": false,
     "grade_id": "cell-33b00fc3f3467b0c",
     "locked": false,
     "schema_version": 1,
     "solution": true
    }
   },
   "outputs": [],
   "source": [
    "def mlb_correlation(): \n",
    "    import pandas as pd\n",
    "    import numpy as np\n",
    "    import scipy.stats as stats\n",
    "    import re\n",
    "    \n",
    "    mlb_df=pd.read_csv(\"assets/mlb.csv\")\n",
    "    cities=pd.read_html(\"assets/wikipedia_data.html\")[1]\n",
    "    cities=cities.iloc[:-1,[0,3,5,6,7,8]]\n",
    "    \n",
    "    # clean up the MLB column\n",
    "    cities.MLB=cities.MLB.str.split(\"[\").str[0]\n",
    "    # drop rows containing empty strings and dashes in the MLB column\n",
    "    mlb=cities.drop(cities.loc[cities.MLB.isin([\"\", \"—\"])].index, axis=0)\n",
    "    # create new rows for each of the MLB teams which were stuck together\n",
    "    mlb=mlb.assign(MLB=mlb[\"MLB\"].str.findall(r\"[A-Z](?:\\s[A-Z]|[^A-Z])+\")).explode(\"MLB\").reset_index(drop=True)\n",
    "    # create a column containing the last word from the MLB column\n",
    "    mlb[\"MLB_last\"]=mlb.MLB.str.split(\" \").str[-1]\n",
    "    # include White Sox instead of Sox in MLB_last column to distinguish between Boston Red Sox and Chicago White Sox\n",
    "    mlb.loc[mlb[\"MLB\"]==\"White Sox\", \"MLB_last\"]=\"White Sox\"\n",
    "    \n",
    "    # subset for 2018 data\n",
    "    mlb_df=mlb_df.loc[mlb_df.year==2018]\n",
    "    # create a column containing the last word from the team column\n",
    "    mlb_df[\"MLB_last\"]=mlb_df.team.str.split(\" \").str[-1]\n",
    "    # include White Sox instead of Sox in MLB_last column to distinguish between Boston Red Sox and Chicago White Sox\n",
    "    mlb_df.loc[mlb_df[\"team\"]==\"Chicago White Sox\", \"MLB_last\"]=\"White Sox\"\n",
    "\n",
    "    # merge both dataframes on MLB_last column\n",
    "    merged_mlb=pd.merge(mlb_df, mlb, how=\"outer\", on=\"MLB_last\")\n",
    "    \n",
    "    # create a column with win-loss ratio calculated as W/(W+L)\n",
    "    merged_mlb[\"WL_ratio\"]=merged_mlb[\"W\"].div((merged_mlb[\"W\"].add(merged_mlb[\"L\"])))\n",
    "    \n",
    "    # rename Population column name\n",
    "    merged_mlb.rename(columns={\"Population (2016 est.)[8]\": \"Population\"}, inplace=True)\n",
    "    \n",
    "    # get the population and win-loss ratio of each metropolitan area averaged over those of multiple teams\n",
    "    mlb_corr=merged_mlb.groupby([\"Metropolitan area\", \"Population\"]).agg({\"WL_ratio\":\"mean\"})\n",
    "\n",
    "    # remove multi-indices\n",
    "    mlb_corr.reset_index(inplace=True)\n",
    "    \n",
    "    # convert data type of Population column from object to int\n",
    "    mlb_corr.Population=mlb_corr.Population.astype(\"int\")\n",
    "    \n",
    "    population_by_region = list(mlb_corr.Population) # pass in metropolitan area population from cities\n",
    "    win_loss_by_region = list(mlb_corr.WL_ratio) # pass in win/loss ratio from mlb_df in the same order as cities[\"Metropolitan area\"]\n",
    "    correlation = stats.pearsonr(population_by_region, win_loss_by_region)[0]\n",
    "    \n",
    "    return population_by_region, win_loss_by_region, correlation\n",
    "\n",
    "# YOUR CODE HERE\n",
    "# raise NotImplementedError()"
   ]
  },
  {
   "cell_type": "code",
   "execution_count": 6,
   "metadata": {
    "deletable": false,
    "editable": false,
    "nbgrader": {
     "checksum": "c9ef09a0fd2a99044d56cb69247c1565",
     "grade": true,
     "grade_id": "cell-764d4476f425c5a2",
     "locked": true,
     "points": 20,
     "schema_version": 1,
     "solution": false
    }
   },
   "outputs": [],
   "source": [
    "population_by_region, win_loss_by_region, correlation = mlb_correlation()\n",
    "\n",
    "assert len(population_by_region) == len(win_loss_by_region), \"Q3: Your lists must be the same length\"\n",
    "assert len(population_by_region) == 26, \"Q3: There should be 26 teams being analysed for MLB\"\n"
   ]
  },
  {
   "cell_type": "markdown",
   "metadata": {
    "deletable": false,
    "editable": false,
    "nbgrader": {
     "checksum": "d6e1509bce32e778b6fa941a688b8587",
     "grade": false,
     "grade_id": "cell-793df6c04dfb126e",
     "locked": true,
     "schema_version": 1,
     "solution": false
    }
   },
   "source": [
    "## Question 4\n",
    "For this question, calculate the win percentage's correlation with the population of the city it is in for the **NFL** using **2018** data. The win percentage ratio should be calculated using the following formula: **win/(win+loss)**. Then, return (a) population per region, (b) win percentage ratio per region, and (c) the correlation between these two. "
   ]
  },
  {
   "cell_type": "code",
   "execution_count": 7,
   "metadata": {
    "deletable": false,
    "nbgrader": {
     "checksum": "11bb44058f415ac22bcfcf84d0f81b4c",
     "grade": false,
     "grade_id": "cell-8ccebc209aeec8d9",
     "locked": false,
     "schema_version": 1,
     "solution": true
    }
   },
   "outputs": [],
   "source": [
    "def nfl_correlation(): \n",
    "    import pandas as pd\n",
    "    import numpy as np\n",
    "    import scipy.stats as stats\n",
    "    import re\n",
    "    \n",
    "    nfl_df=pd.read_csv(\"assets/nfl.csv\")\n",
    "    cities=pd.read_html(\"assets/wikipedia_data.html\")[1]\n",
    "    cities=cities.iloc[:-1,[0,3,5,6,7,8]]\n",
    "    \n",
    "    # clean up the NFL column\n",
    "    cities.NFL=cities.NFL.str.split(\"[\").str[0]\n",
    "    # drop rows containing empty strings and dashes in the NFL column\n",
    "    nfl=cities.drop(cities.loc[cities.NFL.isin([\"\", \"—\", \"— \"])].index, axis=0)\n",
    "    # create new rows for each of the NFL teams which were stuck together\n",
    "    nfl=nfl.assign(NFL=nfl[\"NFL\"].str.findall(r\"[0-[A-Z](?:\\s[A-Z]|[^A-Z])+\")).explode(\"NFL\").reset_index(drop=True)\n",
    "    # create a column containing the last word from the NFL column\n",
    "    nfl[\"NFL_last\"]=nfl.NFL.str.split(\" \").str[-1]\n",
    "    \n",
    "    # subset for 2018 data\n",
    "    nfl_df=nfl_df.loc[nfl_df.year==2018]\n",
    "    # drop rows containing certain unnecessary words in the team column\n",
    "    nfl_df.drop(nfl_df.loc[(nfl_df.team.str.contains('AFC East'))|(nfl_df.team.str.contains('NFC East'))|(nfl_df.team.str.contains('AFC North'))|(nfl_df.team.str.contains('NFC North'))|(nfl_df.team.str.contains('AFC South'))|(nfl_df.team.str.contains('NFC South'))|(nfl_df.team.str.contains('AFC West'))|(nfl_df.team.str.contains('NFC West'))].index, axis=0, inplace=True)\n",
    "    # clean up the team column\n",
    "    nfl_df.team=nfl_df.team.str.replace(\"*\", \"\").str.replace(\"+\", \"\")\n",
    "    # create a column containing the last word from the team column\n",
    "    nfl_df[\"NFL_last\"]=nfl_df.team.str.split(\" \").str[-1]\n",
    "\n",
    "    # merge both dataframes on NFL_last column\n",
    "    merged_nfl=pd.merge(nfl_df, nfl, how=\"outer\", on=\"NFL_last\")\n",
    "    \n",
    "    # convert data types of W and L columns from object to int\n",
    "    merged_nfl[\"W\"]=merged_nfl[\"W\"].astype(\"int\")\n",
    "    merged_nfl[\"L\"]=merged_nfl[\"L\"].astype(\"int\")\n",
    "    \n",
    "    # create a column with win-loss ratio calculated as W/(W+L)\n",
    "    merged_nfl[\"WL_ratio\"]=merged_nfl[\"W\"].div((merged_nfl[\"W\"].add(merged_nfl[\"L\"])))\n",
    "    \n",
    "    # rename Population column name\n",
    "    merged_nfl.rename(columns={\"Population (2016 est.)[8]\": \"Population\"}, inplace=True)\n",
    "    \n",
    "    # get the population and win-loss ratio of each metropolitan area averaged over those of multiple teams\n",
    "    nfl_corr=merged_nfl.groupby([\"Metropolitan area\", \"Population\"]).agg({\"WL_ratio\":\"mean\"})\n",
    "\n",
    "    # remove multi-indices\n",
    "    nfl_corr.reset_index(inplace=True)\n",
    "    \n",
    "    # convert data type of Population column from object to int\n",
    "    nfl_corr.Population=nfl_corr.Population.astype(\"int\")\n",
    "    \n",
    "    population_by_region = list(nfl_corr.Population) # pass in metropolitan area population from cities\n",
    "    win_loss_by_region = list(nfl_corr.WL_ratio) # pass in win/loss ratio from nfl_df in the same order as cities[\"Metropolitan area\"]\n",
    "    correlation = stats.pearsonr(population_by_region, win_loss_by_region)[0]\n",
    "\n",
    "    return population_by_region, win_loss_by_region, correlation\n",
    "\n",
    "# YOUR CODE HERE\n",
    "# raise NotImplementedError()"
   ]
  },
  {
   "cell_type": "code",
   "execution_count": 8,
   "metadata": {
    "deletable": false,
    "editable": false,
    "nbgrader": {
     "checksum": "39bb0f4ac7a643fbd311e21986af427b",
     "grade": true,
     "grade_id": "cell-de7b148b9554dbda",
     "locked": true,
     "points": 20,
     "schema_version": 1,
     "solution": false
    }
   },
   "outputs": [],
   "source": [
    "population_by_region, win_loss_by_region, correlation = nfl_correlation()\n",
    "\n",
    "assert len(population_by_region) == len(win_loss_by_region), \"Q4: Your lists must be the same length\"\n",
    "assert len(population_by_region) == 29, \"Q4: There should be 29 teams being analysed for NFL\"\n"
   ]
  },
  {
   "cell_type": "markdown",
   "metadata": {
    "deletable": false,
    "editable": false,
    "nbgrader": {
     "checksum": "b02d5cd3273f561e4ae939bb2a41740c",
     "grade": false,
     "grade_id": "cell-97b49d8639e908c4",
     "locked": true,
     "schema_version": 1,
     "solution": false
    }
   },
   "source": [
    "## Question 5\n",
    "In this question I would like you to explore the hypothesis that **given that an area has two sports teams in different sports, those teams will perform the same within their respective sports**. How I would like to see this explored is with a series of paired t-tests (so use [`ttest_rel`](https://docs.scipy.org/doc/scipy/reference/generated/scipy.stats.ttest_rel.html)) between all pairs of sports. Are there any sports where we can reject the null hypothesis? Again, average values where a sport has multiple teams in one region. Remember, you will only be including, for each sport, cities which have teams engaged in that sport, drop others as appropriate. This question is worth 20% of the grade for this assignment."
   ]
  },
  {
   "cell_type": "code",
   "execution_count": 9,
   "metadata": {
    "deletable": false,
    "nbgrader": {
     "checksum": "63c67a33508cd34aa4b2ea2510adcce5",
     "grade": false,
     "grade_id": "cell-92f25f44b8d1179f",
     "locked": false,
     "schema_version": 1,
     "solution": true
    }
   },
   "outputs": [],
   "source": [
    "def sports_team_performance():\n",
    "    import pandas as pd\n",
    "    import numpy as np\n",
    "    import scipy.stats as stats\n",
    "    import re\n",
    "    import itertools\n",
    "\n",
    "    mlb_df=pd.read_csv(\"assets/mlb.csv\")\n",
    "    nhl_df=pd.read_csv(\"assets/nhl.csv\")\n",
    "    nba_df=pd.read_csv(\"assets/nba.csv\")\n",
    "    nfl_df=pd.read_csv(\"assets/nfl.csv\")\n",
    "    cities=pd.read_html(\"assets/wikipedia_data.html\")[1]\n",
    "    cities=cities.iloc[:-1,[0,3,5,6,7,8]]    \n",
    "    \n",
    "    # YOUR CODE HERE\n",
    "#     raise NotImplementedError()\n",
    "    \n",
    "    # run previous functions to get populations and win-loss ratios for each of the sports leagues\n",
    "    nfl_pop, nfl_wl, nfl_corr=nfl_correlation()\n",
    "    nba_pop, nba_wl, nba_corr=nba_correlation()\n",
    "    nhl_pop, nhl_wl, nhl_corr=nhl_correlation()\n",
    "    mlb_pop, mlb_wl, mlb_corr=mlb_correlation()\n",
    "    \n",
    "    # get dataframes with population and win-loss ratio columns for each of the sports leagues\n",
    "    nfl=pd.DataFrame(list(zip(nfl_pop, nfl_wl)), columns=[\"Population\", \"WL_ratio\"])\n",
    "    nba=pd.DataFrame(list(zip(nba_pop, nba_wl)), columns=[\"Population\", \"WL_ratio\"])\n",
    "    nhl=pd.DataFrame(list(zip(nhl_pop, nhl_wl)), columns=[\"Population\", \"WL_ratio\"])\n",
    "    mlb=pd.DataFrame(list(zip(mlb_pop, mlb_wl)), columns=[\"Population\", \"WL_ratio\"])\n",
    "    \n",
    "    # create sports league dataframe and string lists\n",
    "    sports_df=[nfl, nba, nhl, mlb]\n",
    "    sports = ['NFL', 'NBA', 'NHL', 'MLB']\n",
    "    \n",
    "    # create pairs of combinations of the sports leagues\n",
    "    pairs_df=list(itertools.combinations(sports_df, 2))\n",
    "    pairs=list(itertools.combinations(sports, 2))\n",
    "    \n",
    "    # create an empty dictionary which would contain p-values\n",
    "    p={}\n",
    "    # loop through the pairs of sports league dataframes\n",
    "    for i, j in zip(pairs_df, pairs):\n",
    "        # merge the pairs of sports league dataframes to find common metropolitan areas (based on population count)\n",
    "        merged_df=pd.merge(i[0], i[1], how=\"inner\", on=\"Population\")\n",
    "        # run paired t-tests based on WL_ratio columns and store the p-values in a dictionary with tuples of sports league pairs as keys\n",
    "        p[(j[0], j[1])]=stats.ttest_rel(merged_df[\"WL_ratio_x\"], merged_df[\"WL_ratio_y\"])[1]\n",
    "\n",
    "    # Note: p_values is a full dataframe, so df.loc[\"NFL\",\"NBA\"] should be the same as df.loc[\"NBA\",\"NFL\"] and\n",
    "    # df.loc[\"NFL\",\"NFL\"] should return np.nan\n",
    "    \n",
    "    # create an empty dataframe which would house the p-values\n",
    "    p_values = pd.DataFrame({k:np.nan for k in sports}, index=sports)\n",
    "    \n",
    "    # loop through the sports league pairs which are tuple keys in the p-value dictionary\n",
    "    for a, b in p.keys():\n",
    "        # populate the empty p-values dataframe with p-values for the sports league pairs\n",
    "        p_values.loc[a, b]=p[a, b]\n",
    "        p_values.loc[b, a]=p[a, b]\n",
    "    \n",
    "    return p_values"
   ]
  },
  {
   "cell_type": "code",
   "execution_count": 10,
   "metadata": {
    "deletable": false,
    "editable": false,
    "nbgrader": {
     "checksum": "a5dab090ee78f5c846c6d8b54e82c4c1",
     "grade": true,
     "grade_id": "cell-fb4b9cb5ff4570a6",
     "locked": true,
     "points": 20,
     "schema_version": 1,
     "solution": false
    }
   },
   "outputs": [],
   "source": [
    "p_values = sports_team_performance()\n",
    "\n",
    "assert abs(p_values.loc[\"NBA\", \"NHL\"] - 0.02) <= 1e-2, \"The NBA-NHL p-value should be around 0.02\"\n",
    "assert abs(p_values.loc[\"MLB\", \"NFL\"] - 0.80) <= 1e-2, \"The MLB-NFL p-value should be around 0.80\"\n"
   ]
  },
  {
   "cell_type": "code",
   "execution_count": null,
   "metadata": {},
   "outputs": [],
   "source": []
  }
 ],
 "metadata": {
  "coursera": {
   "schema_names": [
    "mads_data_manipulation_v1_assignment4"
   ]
  },
  "etc_identifier": "52a3aad4-991f-4b77-abc7-fb11b5881c0b",
  "kernelspec": {
   "display_name": "Python 3 (ipykernel)",
   "language": "python",
   "name": "python3"
  },
  "language_info": {
   "codemirror_mode": {
    "name": "ipython",
    "version": 3
   },
   "file_extension": ".py",
   "mimetype": "text/x-python",
   "name": "python",
   "nbconvert_exporter": "python",
   "pygments_lexer": "ipython3",
   "version": "3.7.10"
  }
 },
 "nbformat": 4,
 "nbformat_minor": 4
}
