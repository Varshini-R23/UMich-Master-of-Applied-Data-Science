{
 "cells": [
  {
   "cell_type": "markdown",
   "metadata": {
    "deletable": false,
    "editable": false,
    "nbgrader": {
     "checksum": "0233180194ff09677740a0900e770d08",
     "grade": false,
     "grade_id": "cell-a839e7b47494b4c2",
     "locked": true,
     "schema_version": 1,
     "solution": false
    }
   },
   "source": [
    "# Assignment 2\n",
    "For this assignment you'll be looking at 2017 data on immunizations from the CDC. Your datafile for this assignment is in [assets/NISPUF17.csv](assets/NISPUF17.csv). A data users guide for this, which you'll need to understand and map the variables in the data to the questions being asked, is available at [assets/NIS-PUF17-DUG.pdf](assets/NIS-PUF17-DUG.pdf) and [assets/NIS-PUF17-CODEBOOK.pdf](assets/NIS-PUF17-CODEBOOK.pdf). \n",
    "\n",
    "**Note: For all assignments please write all of your code within the function we define in order to ensure it is run by the autograder correctly**"
   ]
  },
  {
   "cell_type": "markdown",
   "metadata": {
    "deletable": false,
    "editable": false,
    "hideCode": false,
    "hidePrompt": false,
    "nbgrader": {
     "checksum": "d92cbe546a35744beeb73e098591c6eb",
     "grade": false,
     "grade_id": "cell-58fc2e5938733f6a",
     "locked": true,
     "schema_version": 1,
     "solution": false
    }
   },
   "source": [
    "## Question 1: proportion_of_education()\n",
    "Write a function called `proportion_of_education` which returns the proportion of children in the dataset who had a mother with the education levels equal to less than high school (<12), high school (12), more than high school but not a college graduate (>12) and college degree.\n",
    "\n",
    "*This function should return a dictionary in the form of (use the correct numbers, do not round numbers):* \n",
    "```\n",
    "    {\"less than high school\":0.2,\n",
    "    \"high school\":0.4,\n",
    "    \"more than high school but not college\":0.2,\n",
    "    \"college\":0.2}\n",
    "```\n"
   ]
  },
  {
   "cell_type": "code",
   "execution_count": 20,
   "metadata": {
    "deletable": false,
    "nbgrader": {
     "checksum": "1f43e5dd4c3199507f1992dfdb354f45",
     "grade": false,
     "grade_id": "cell-eea16d020eb52ae6",
     "locked": false,
     "schema_version": 1,
     "solution": true
    }
   },
   "outputs": [],
   "source": [
    "def proportion_of_education():\n",
    "    # your code goes here\n",
    "    \"\"\"\n",
    "    The column EDUC1 in the NIS data has categories for the mother's education levels as follows:\n",
    "    1: < 12 years (less than high school)\n",
    "    2: 12 years (high school)\n",
    "    3: > 12 years, non-college grad (more than high school but not college)\n",
    "    4: college grad (college)\n",
    "    \n",
    "    This is a function to return the proportion of children with mothers belonging to the above categories as a dictionary.\n",
    "    \"\"\"\n",
    "    import pandas as pd\n",
    "    # load data\n",
    "    df=pd.read_csv(\"assets/NISPUF17.csv\")\n",
    "    # obtain proportion of values in col\n",
    "    proportion=df.EDUC1.value_counts(normalize=True)\n",
    "    # convert index-sorted series to dict\n",
    "    proportion_dict=dict(proportion.sort_index())\n",
    "    # create list of numbered (old) keys\n",
    "    old_keys = list(proportion_dict.keys())\n",
    "    # create list of new keys\n",
    "    new_keys = ['less than high school','high school','more than high school but not college', 'college']\n",
    "    # create list of dictionary values\n",
    "    values = list(proportion_dict.values())\n",
    "    # replace old keys with new ones\n",
    "    new_proportion_dict = {k: v for k, v in zip(new_keys, values)}                                              \n",
    "    \n",
    "    return new_proportion_dict\n",
    "    \n",
    "    # YOUR CODE HERE\n",
    "#     raise NotImplementedError()"
   ]
  },
  {
   "cell_type": "code",
   "execution_count": 21,
   "metadata": {
    "deletable": false,
    "editable": false,
    "hideCode": false,
    "hidePrompt": false,
    "nbgrader": {
     "checksum": "4b9efbaf63ad631f8847aa2cc9f34ac9",
     "grade": true,
     "grade_id": "cell-c0eeef201366f51d",
     "locked": true,
     "points": 1,
     "schema_version": 1,
     "solution": false
    }
   },
   "outputs": [],
   "source": [
    "assert type(proportion_of_education())==type({}), \"You must return a dictionary.\"\n",
    "assert len(proportion_of_education()) == 4, \"You have not returned a dictionary with four items in it.\"\n",
    "assert \"less than high school\" in proportion_of_education().keys(), \"You have not returned a dictionary with the correct keys.\"\n",
    "assert \"high school\" in proportion_of_education().keys(), \"You have not returned a dictionary with the correct keys.\"\n",
    "assert \"more than high school but not college\" in proportion_of_education().keys(), \"You have not returned a dictionary with the correct keys.\"\n",
    "assert \"college\" in proportion_of_education().keys(), \"You have not returned a dictionary with the correct keys.\"\n"
   ]
  },
  {
   "cell_type": "markdown",
   "metadata": {
    "deletable": false,
    "editable": false,
    "nbgrader": {
     "checksum": "6fec2c2a68e6d20bddf62c48e468e55f",
     "grade": false,
     "grade_id": "cell-f63377f3c97aa7c8",
     "locked": true,
     "schema_version": 1,
     "solution": false
    }
   },
   "source": [
    "## Question 2: chickenpox_by_sex()\n",
    "It would be interesting to see if there is any evidence of a link between vaccine effectiveness and sex of the child. Calculate the ratio of the number of children who contracted chickenpox but were vaccinated against it (at least one varicella dose) versus those who were vaccinated but did not contract chicken pox. Return results by sex. \n",
    "\n",
    "*This function should return a dictionary in the form of (use the correct numbers):* \n",
    "```\n",
    "    {\"male\":0.2,\n",
    "    \"female\":0.4}\n",
    "```\n",
    "\n",
    "Note: To aid in verification, the `chickenpox_by_sex()['female']` value the autograder is looking for starts with the digits `0.00779`."
   ]
  },
  {
   "cell_type": "code",
   "execution_count": 22,
   "metadata": {
    "deletable": false,
    "nbgrader": {
     "checksum": "f97ba943d5bddcf6fad673d27aeb1e45",
     "grade": false,
     "grade_id": "cell-a0a9e6fe67698002",
     "locked": false,
     "schema_version": 1,
     "solution": true
    }
   },
   "outputs": [],
   "source": [
    "def chickenpox_by_sex():\n",
    "    # YOUR CODE HERE\n",
    "    \"\"\"\n",
    "    The columns in the NIS data which are of importance are:\n",
    "    1. SEX: gender of child (1 = male, 2 = female)\n",
    "    2. HAD_CPOX: did the child ever have chickenpox? (1 = yes, 2 = no, 77 = don't know, 99 = refused)\n",
    "    3. P_NUMVRC: number of varicella-containing shots (0, 1, 2, 3)\n",
    "    \n",
    "    This is a function to return the ratio of children who were vaccinated and contracted chickenpox vs. those who were vaccinated and did not contract chickenpox.\n",
    "    We shall exclude the children who didn't know or refused to reveal if they had chickenpox.   \n",
    "    \"\"\"\n",
    "    import pandas as pd\n",
    "    # load data\n",
    "    df=pd.read_csv(\"assets/NISPUF17.csv\")\n",
    "    # consider only those children who either had or didn't have chickenpox\n",
    "    df_cpox=df.loc[df.HAD_CPOX.isin([1,2])]\n",
    "    # consider only those children who had at least 1 dose of varicella vaccine\n",
    "    vax=df_cpox.loc[df_cpox.P_NUMVRC.isin([1,2,3])]\n",
    "    # obtain the number of vaccinated children of both genders who had and didn't have chickenpox\n",
    "    vax_df=vax.groupby([vax.SEX, vax.HAD_CPOX])['HAD_CPOX'].count()\n",
    "    \n",
    "    male_cpox=vax_df.loc[1,1]                  # number of vaccinated males who had chickenpox\n",
    "    male_no_cpox=vax_df.loc[1,2]               # number of vaccinated males who had no chickenpox\n",
    "    female_cpox=vax_df.loc[2,1]                # number of vaccinated females who had chickenpox\n",
    "    female_no_cpox=vax_df.loc[2,2]             # number of vaccinated females who had no chickenpox\n",
    "    \n",
    "    male_ratio=male_cpox/male_no_cpox          # ratio of vaccinated males who had chickenpox vs. those who had no chickenpox\n",
    "    female_ratio=female_cpox/female_no_cpox    # ratio of vaccinated females who had chickenpox vs. those who had no chickenpox\n",
    "    \n",
    "    # dict containing vaccinated male and female ratios of chickenpox vs. no chickenpox\n",
    "    cpox_dict={\"male\":male_ratio, \"female\":female_ratio}\n",
    "    \n",
    "    return cpox_dict\n",
    "        \n",
    "#     raise NotImplementedError()"
   ]
  },
  {
   "cell_type": "code",
   "execution_count": 23,
   "metadata": {
    "deletable": false,
    "editable": false,
    "nbgrader": {
     "checksum": "14b0f1edc86cc32e7c561a64ad71d87c",
     "grade": true,
     "grade_id": "cell-c4f1714db100c864",
     "locked": true,
     "points": 1,
     "schema_version": 1,
     "solution": false
    }
   },
   "outputs": [],
   "source": [
    "assert len(chickenpox_by_sex())==2, \"Return a dictionary with two items, the first for males and the second for females.\"\n"
   ]
  },
  {
   "cell_type": "markdown",
   "metadata": {
    "deletable": false,
    "editable": false,
    "nbgrader": {
     "checksum": "fe6495e919cca20ef6ad64093eec8839",
     "grade": false,
     "grade_id": "cell-0f584fb329c276fe",
     "locked": true,
     "schema_version": 1,
     "solution": false
    }
   },
   "source": [
    "## Question 3: corr_chickenpox()\n",
    "A correlation is a statistical relationship between two variables. If we wanted to know if vaccines work, we might look at the correlation between the use of the vaccine and whether it results in prevention of the infection or disease [1]. In this question, you are to see if there is a correlation between having had the chicken pox and the number of chickenpox vaccine doses given (varicella).\n",
    "\n",
    "Some notes on interpreting the answer. The `had_chickenpox_column` is either `1` (for yes) or `2` (for no), and the `num_chickenpox_vaccine_column` is the number of doses a child has been given of the varicella vaccine. A positive correlation (e.g., `corr > 0`) means that an increase in `had_chickenpox_column` (which means more no's) would also increase the values of `num_chickenpox_vaccine_column` (which means more doses of vaccine). If there is a negative correlation (e.g., `corr < 0`), it indicates that having had chickenpox is related to an increase in the number of vaccine doses. \n",
    "\n",
    "Also, `pval` is the probability that we observe a correlation between `had_chickenpox_column` and `num_chickenpox_vaccine_column` which is greater than or equal to a particular value occurred by chance. A small `pval` means that the observed correlation is highly unlikely to occur by chance. In this case, `pval` should be very small (will end in `e-18` indicating a very small number).\n",
    "\n",
    "[1] This isn't really the full picture, since we are not looking at when the dose was given. It's possible that children had chickenpox and then their parents went to get them the vaccine. Does this dataset have the data we would need to investigate the timing of the dose?"
   ]
  },
  {
   "cell_type": "code",
   "execution_count": 29,
   "metadata": {
    "deletable": false,
    "nbgrader": {
     "checksum": "cf7a93dfc138912a6534069134e5b8d3",
     "grade": false,
     "grade_id": "cell-8afff07f564cf79b",
     "locked": false,
     "schema_version": 1,
     "solution": true
    }
   },
   "outputs": [],
   "source": [
    "def corr_chickenpox():\n",
    "    import scipy.stats as stats\n",
    "    import numpy as np\n",
    "    import pandas as pd\n",
    "    \n",
    "    # load data\n",
    "    df=pd.read_csv(\"assets/NISPUF17.csv\")\n",
    "    # consider only those children who either had or didn't have chickenpox\n",
    "    df_cpox=df.loc[df.HAD_CPOX.isin([1,2])]\n",
    "    # drop NaN values from P_NUMVRC column\n",
    "    df_cpox.dropna(subset=[\"P_NUMVRC\"], axis=0, inplace=True)\n",
    "    # here is some stub code to actually run the correlation\n",
    "    corr, pval=stats.pearsonr(df_cpox[\"HAD_CPOX\"],df_cpox[\"P_NUMVRC\"])\n",
    "    \n",
    "    # just return the correlation\n",
    "    return corr\n",
    "\n",
    "    # YOUR CODE HERE\n",
    "#     raise NotImplementedError()"
   ]
  },
  {
   "cell_type": "code",
   "execution_count": 30,
   "metadata": {
    "deletable": false,
    "editable": false,
    "nbgrader": {
     "checksum": "4806eb5d6c6d877df2d4e15dbcc808df",
     "grade": true,
     "grade_id": "cell-73408733543a29a5",
     "locked": true,
     "points": 1,
     "schema_version": 1,
     "solution": false
    }
   },
   "outputs": [],
   "source": [
    "assert -1<=corr_chickenpox()<=1, \"You must return a float number between -1.0 and 1.0.\"\n"
   ]
  },
  {
   "cell_type": "code",
   "execution_count": null,
   "metadata": {},
   "outputs": [],
   "source": []
  }
 ],
 "metadata": {
  "anaconda-cloud": {},
  "coursera": {
   "schema_names": [
    "mads_data_manipulation_v1_assignment2"
   ]
  },
  "etc_identifier": "6e1773ab-9ecb-4626-94fc-bd420e3886b6",
  "hide_code_all_hidden": false,
  "kernelspec": {
   "display_name": "Python 3 (ipykernel)",
   "language": "python",
   "name": "python3"
  },
  "language_info": {
   "codemirror_mode": {
    "name": "ipython",
    "version": 3
   },
   "file_extension": ".py",
   "mimetype": "text/x-python",
   "name": "python",
   "nbconvert_exporter": "python",
   "pygments_lexer": "ipython3",
   "version": "3.9.7"
  }
 },
 "nbformat": 4,
 "nbformat_minor": 4
}
