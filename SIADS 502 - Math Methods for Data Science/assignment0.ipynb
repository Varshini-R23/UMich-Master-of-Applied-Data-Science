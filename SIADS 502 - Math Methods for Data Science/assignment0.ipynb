{
 "cells": [
  {
   "cell_type": "markdown",
   "metadata": {
    "deletable": false,
    "editable": false,
    "nbgrader": {
     "cell_type": "markdown",
     "checksum": "74af220abeec996ecb6bb8674f3c59c4",
     "grade": false,
     "grade_id": "cell-f3fdc0fa380444ef",
     "locked": true,
     "schema_version": 3,
     "solution": false
    }
   },
   "source": [
    "# SIADS 502: Math Methods for Data Science \n",
    "\n",
    "\n",
    "# School of Information, University of Michigan\n",
    "\n",
    "\n",
    "## Practice Problem Set\n",
    "\n",
    "### Version 1.1\n",
    "\n",
    "This assignment aims to acquant you with both the autograder and Python's Numpy package. \n",
    "\n",
    "The assignment is optional and its grade will not impact your course grade.  \n",
    "\n",
    "You can directly run each cell or write your own code to play around with them. For more detailed information on how to use Numpy, you can google or refer to this Numpy User Guide.  If you get stuck, please message on slack.  If you are really stuck, the answers are at the end.  However, also use this as a learning opportunity.\n",
    "\n",
    "For the autograder:\n",
    "\n",
    "*   Please remember to comment or delete raise NotImplementedError() in each cell. This error is just used to remind you there is a problem you need to finish and to distriguish between incorrect answers and those not completed.\n",
    "\n",
    "*   In order to help you check your answers, we will have several public test cases. Validating your assignment will make sure your answers pass them.  \n",
    "\n",
    "*  The autograder will also have hidden test cases.  Submit the assignment to rn them.  If you fail those cases, you will lose points on this assignment (but you can try each assignment as many times as you like---and, in any event, this assignment does not count).\n",
    "\n",
    "\n",
    "\n"
   ]
  },
  {
   "cell_type": "markdown",
   "metadata": {},
   "source": [
    "Please enter your name: \"Varshini\""
   ]
  },
  {
   "cell_type": "markdown",
   "metadata": {
    "deletable": false,
    "editable": false,
    "nbgrader": {
     "cell_type": "markdown",
     "checksum": "e85b07d2f8676bb4f08b9e0f27b94830",
     "grade": false,
     "grade_id": "cell-b7c9b5edc2f19376",
     "locked": true,
     "schema_version": 3,
     "solution": false
    }
   },
   "source": [
    "## Part 1: Trial Exercises"
   ]
  },
  {
   "cell_type": "markdown",
   "metadata": {
    "deletable": false,
    "editable": false,
    "nbgrader": {
     "cell_type": "markdown",
     "checksum": "8d35c437f6d452add275e963253d291f",
     "grade": false,
     "grade_id": "cell-139c07b4cd02fc78",
     "locked": true,
     "schema_version": 3,
     "solution": false
    }
   },
   "source": [
    "<strong>1.1</strong> \\[1 pt\\] Import numpy package as np and check the version."
   ]
  },
  {
   "cell_type": "code",
   "execution_count": 1,
   "metadata": {
    "deletable": false,
    "nbgrader": {
     "cell_type": "code",
     "checksum": "a343c69067d20a21e49e647c189ab5d0",
     "grade": false,
     "grade_id": "cell-22c5340398fc526a",
     "locked": false,
     "schema_version": 3,
     "solution": true
    }
   },
   "outputs": [
    {
     "name": "stdout",
     "output_type": "stream",
     "text": [
      "1.20.3\n"
     ]
    }
   ],
   "source": [
    "import numpy as np\n",
    "\n",
    "# your code here\n",
    "# HINT: import numpy as np\n",
    "print(np.__version__)\n",
    "\n",
    "# raise NotImplementedError() #Remember to comment this line to avoid any error message\n",
    "\n",
    "# YOUR CODE HERE\n",
    "# raise NotImplementedError()"
   ]
  },
  {
   "cell_type": "code",
   "execution_count": 2,
   "metadata": {
    "deletable": false,
    "editable": false,
    "nbgrader": {
     "cell_type": "code",
     "checksum": "964f4453707739929ae9dad23c5d2fde",
     "grade": true,
     "grade_id": "cell-f4a2e31983c60a0a",
     "locked": true,
     "points": 1,
     "schema_version": 3,
     "solution": false
    }
   },
   "outputs": [],
   "source": [
    "assert np.__version__, True\n",
    "# No hidden tests"
   ]
  },
  {
   "cell_type": "markdown",
   "metadata": {
    "deletable": false,
    "editable": false,
    "nbgrader": {
     "cell_type": "markdown",
     "checksum": "cc6e02224f6d59ab7868ebfea9e068f2",
     "grade": false,
     "grade_id": "cell-f10838e0e8c52b21",
     "locked": true,
     "schema_version": 3,
     "solution": false
    }
   },
   "source": [
    "<strong>1.2</strong> \\[1 pt\\] Create a 2-D vector  $v_a=(5,4)$  using numpy array and store it in variable <strong>ANS12</strong>."
   ]
  },
  {
   "cell_type": "code",
   "execution_count": 10,
   "metadata": {
    "deletable": false,
    "nbgrader": {
     "cell_type": "code",
     "checksum": "0de0273f92608e8ccf11c91a1dbb2ec9",
     "grade": false,
     "grade_id": "cell-3c74940585fa0a97",
     "locked": false,
     "schema_version": 3,
     "solution": true
    }
   },
   "outputs": [
    {
     "data": {
      "text/plain": [
       "array([5, 4])"
      ]
     },
     "execution_count": 10,
     "metadata": {},
     "output_type": "execute_result"
    }
   ],
   "source": [
    "ANS12 = np.array([5,4])\n",
    "ANS12\n",
    "\n",
    "# YOUR CODE HERE\n",
    "# raise NotImplementedError()"
   ]
  },
  {
   "cell_type": "code",
   "execution_count": 11,
   "metadata": {},
   "outputs": [
    {
     "data": {
      "text/plain": [
       "1"
      ]
     },
     "execution_count": 11,
     "metadata": {},
     "output_type": "execute_result"
    }
   ],
   "source": [
    "ANS12.ndim"
   ]
  },
  {
   "cell_type": "code",
   "execution_count": 13,
   "metadata": {},
   "outputs": [
    {
     "data": {
      "text/plain": [
       "2"
      ]
     },
     "execution_count": 13,
     "metadata": {},
     "output_type": "execute_result"
    }
   ],
   "source": [
    "len(ANS12)"
   ]
  },
  {
   "cell_type": "code",
   "execution_count": 14,
   "metadata": {},
   "outputs": [
    {
     "data": {
      "text/plain": [
       "(2,)"
      ]
     },
     "execution_count": 14,
     "metadata": {},
     "output_type": "execute_result"
    }
   ],
   "source": [
    "ANS12.shape"
   ]
  },
  {
   "cell_type": "code",
   "execution_count": 12,
   "metadata": {
    "deletable": false,
    "editable": false,
    "nbgrader": {
     "cell_type": "code",
     "checksum": "1fd3b9a394fb2afe675b56392b330b5c",
     "grade": true,
     "grade_id": "cell-667a0fabd0b24a44",
     "locked": true,
     "points": 1,
     "schema_version": 3,
     "solution": false
    }
   },
   "outputs": [],
   "source": [
    "import numbers\n",
    "\n",
    "assert type(ANS12) == np.ndarray, \"Problem 1.2, testing ANS12, type of value stored in variable does not match the expected type. Expecting numpy array.\"\n",
    "assert len(ANS12) == 2, \"Problem 1.2, testing ANS12, variable does not match the expected length. \"\n",
    "assert ANS12.shape == (2,), \"Problem 1.2, testing ANS12, variable does not match the expected shape. \"\n",
    "\n",
    "assert isinstance(ANS12[0], numbers.Number) and isinstance(ANS12[1], numbers.Number),  \"Problem 1.2, testing ANS12, type of values stored in array do not match the expected type.  Expecting float. \""
   ]
  },
  {
   "cell_type": "markdown",
   "metadata": {
    "deletable": false,
    "editable": false,
    "nbgrader": {
     "cell_type": "markdown",
     "checksum": "79b70f7cc0403b824672493e2452e45d",
     "grade": false,
     "grade_id": "cell-2cd197617cdb0cec",
     "locked": true,
     "schema_version": 3,
     "solution": false
    }
   },
   "source": [
    "<strong>1.3</strong> \\[1 pt\\] Predict what the following code will output and why:\n",
    "    \n",
    "$np.sqrt(6) * np.sqrt(24) == 12$\n",
    "    \n",
    "Store your result in <strong>ANS13</strong>.\n"
   ]
  },
  {
   "cell_type": "code",
   "execution_count": 43,
   "metadata": {},
   "outputs": [],
   "source": [
    "import math"
   ]
  },
  {
   "cell_type": "code",
   "execution_count": 44,
   "metadata": {},
   "outputs": [
    {
     "data": {
      "text/plain": [
       "False"
      ]
     },
     "execution_count": 44,
     "metadata": {},
     "output_type": "execute_result"
    }
   ],
   "source": [
    "operation=math.sqrt(6)*math.sqrt(24)==12\n",
    "operation"
   ]
  },
  {
   "cell_type": "code",
   "execution_count": 45,
   "metadata": {
    "deletable": false,
    "nbgrader": {
     "cell_type": "code",
     "checksum": "ff5091ebc65fefa2547d0fa010251411",
     "grade": false,
     "grade_id": "cell-f7a37f37e952dab0",
     "locked": false,
     "schema_version": 3,
     "solution": true
    }
   },
   "outputs": [],
   "source": [
    "ANS13=operation\n",
    "# YOUR CODE HERE\n",
    "# raise NotImplementedError()"
   ]
  },
  {
   "cell_type": "code",
   "execution_count": 46,
   "metadata": {},
   "outputs": [
    {
     "data": {
      "text/plain": [
       "False"
      ]
     },
     "execution_count": 46,
     "metadata": {},
     "output_type": "execute_result"
    }
   ],
   "source": [
    "ANS13"
   ]
  },
  {
   "cell_type": "code",
   "execution_count": 47,
   "metadata": {},
   "outputs": [
    {
     "data": {
      "text/plain": [
       "bool"
      ]
     },
     "execution_count": 47,
     "metadata": {},
     "output_type": "execute_result"
    }
   ],
   "source": [
    "type(ANS13)"
   ]
  },
  {
   "cell_type": "code",
   "execution_count": 48,
   "metadata": {
    "deletable": false,
    "editable": false,
    "nbgrader": {
     "cell_type": "code",
     "checksum": "d23c20edbdec77b45786a36ba2049757",
     "grade": true,
     "grade_id": "cell-084924932e6ca511",
     "locked": true,
     "points": 1,
     "schema_version": 3,
     "solution": false
    }
   },
   "outputs": [],
   "source": [
    "assert type(ANS13) == bool, \"Problem 1.3, testing ANS13, type of value stored in variable does not match the expected type. Expecting bool.\""
   ]
  },
  {
   "cell_type": "markdown",
   "metadata": {
    "deletable": false,
    "editable": false,
    "nbgrader": {
     "cell_type": "markdown",
     "checksum": "f891dee9d023888a123db42620914711",
     "grade": false,
     "grade_id": "cell-470cf5f2c5ad9cb2",
     "locked": true,
     "schema_version": 3,
     "solution": false
    }
   },
   "source": [
    "<strong>1.4</strong> \\[1 pt\\] Create a numpy array for the 3*3 matrix $\\left( \\begin{array}{ccc} 0 & 1 & 2 \\\\ 3 & 4 & 5 \\\\ 6 & 7 & 8 \\end{array} \\right)$  in the variable $ANS14$.\n",
    "\n"
   ]
  },
  {
   "cell_type": "code",
   "execution_count": 49,
   "metadata": {
    "deletable": false,
    "nbgrader": {
     "cell_type": "code",
     "checksum": "08bfa5a62e33e7707ff600aea2292469",
     "grade": false,
     "grade_id": "cell-d41c577a699b60e7",
     "locked": false,
     "schema_version": 3,
     "solution": true
    }
   },
   "outputs": [
    {
     "data": {
      "text/plain": [
       "array([[0, 1, 2],\n",
       "       [3, 4, 5],\n",
       "       [6, 7, 8]])"
      ]
     },
     "execution_count": 49,
     "metadata": {},
     "output_type": "execute_result"
    }
   ],
   "source": [
    "ANS14=np.array([[0,1,2],[3,4,5],[6,7,8]])\n",
    "# YOUR CODE HERE\n",
    "# raise NotImplementedError()\n",
    "ANS14"
   ]
  },
  {
   "cell_type": "code",
   "execution_count": 50,
   "metadata": {
    "deletable": false,
    "editable": false,
    "nbgrader": {
     "cell_type": "code",
     "checksum": "d14557a34060e30fc0ed198886a96e2a",
     "grade": true,
     "grade_id": "cell-d32bdb8279f75fb8",
     "locked": true,
     "points": 1,
     "schema_version": 3,
     "solution": false
    }
   },
   "outputs": [],
   "source": [
    "assert type(ANS14) == np.ndarray, \"Problem 1.3, testing ANS14, type of value stored in variable does not match the expected type. Expecting numpy array.\"\n",
    "assert ANS14.shape == (3, 3), \"Problem 1.3, testing ANS14, array is not the correct shaps. \"\n",
    "assert isinstance(ANS14[0, 0], numbers.Number),  \"Problem 1.3, testing ANS14, type of values stored in tuple do not match the expected type.  Expecting float. \""
   ]
  },
  {
   "cell_type": "markdown",
   "metadata": {
    "deletable": false,
    "editable": false,
    "nbgrader": {
     "cell_type": "markdown",
     "checksum": "c4175ad79c1709568bd1e6632ae8f429",
     "grade": false,
     "grade_id": "cell-760c30326a182b32",
     "locked": true,
     "schema_version": 3,
     "solution": false
    }
   },
   "source": [
    "<strong>1.5</strong> \\[1 pt\\] Write a function $twos$ that takes two variables $a$ and $b$ and createx an $a$ x $b$ numpy array full of 2s;"
   ]
  },
  {
   "cell_type": "code",
   "execution_count": 51,
   "metadata": {
    "deletable": false,
    "nbgrader": {
     "cell_type": "code",
     "checksum": "8f27194dfa5821a54e1da5a9dc58d134",
     "grade": false,
     "grade_id": "cell-02682c12e6797934",
     "locked": false,
     "schema_version": 3,
     "solution": true
    }
   },
   "outputs": [],
   "source": [
    "def twos(a, b):\n",
    "#     raise NotImplementedError()\n",
    "    arr=np.full((a, b), 2)\n",
    "    return arr\n",
    "# YOUR CODE HERE\n",
    "# raise NotImplementedError()"
   ]
  },
  {
   "cell_type": "code",
   "execution_count": 52,
   "metadata": {
    "deletable": false,
    "editable": false,
    "nbgrader": {
     "cell_type": "code",
     "checksum": "47658d93f612e0fd7d03f9ddd344c40a",
     "grade": true,
     "grade_id": "cell-f141102d74386afa",
     "locked": true,
     "points": 1,
     "schema_version": 3,
     "solution": false
    }
   },
   "outputs": [],
   "source": [
    "assert type(twos(2, 3)) == np.ndarray,  \"Problem 1.5, testing twos, type of value stored in variable does not match the expected type. Expecting numpy array.\"\n",
    "assert twos(2, 3).shape == (2, 3),  \"Problem 1.5, testing twos, dimension of returned array is incorrect.\"\n",
    "assert np.min(twos(2, 3)) == 2,  \"Problem 1.5, resulting twos contains some number less than 2.\"\n",
    "assert np.max(twos(2, 3)) == 2,  \"Problem 1.5, resulting matrix contains some number greater than 2.\"\n"
   ]
  },
  {
   "cell_type": "markdown",
   "metadata": {
    "deletable": false,
    "editable": false,
    "nbgrader": {
     "cell_type": "markdown",
     "checksum": "801fb3f90958781d7b4f0a90d4592244",
     "grade": false,
     "grade_id": "cell-527decbeb27e2cba",
     "locked": true,
     "schema_version": 3,
     "solution": false
    }
   },
   "source": [
    "<strong>1.6</strong> \\[1 pt\\] Write a function <strong>add</strong> that takes two variables $a$ and $b$ that are both numpy arrays and adds them together. "
   ]
  },
  {
   "cell_type": "code",
   "execution_count": 53,
   "metadata": {
    "deletable": false,
    "nbgrader": {
     "cell_type": "code",
     "checksum": "feceed9e12dbe5b27ab5eef63fd461dc",
     "grade": false,
     "grade_id": "cell-f34eaaa22752fde4",
     "locked": false,
     "schema_version": 3,
     "solution": true
    }
   },
   "outputs": [],
   "source": [
    "def add(a, b):\n",
    "# YOUR CODE HERE\n",
    "    arr=np.add(a, b)\n",
    "    return arr\n",
    "# raise NotImplementedError()"
   ]
  },
  {
   "cell_type": "code",
   "execution_count": 54,
   "metadata": {
    "deletable": false,
    "editable": false,
    "nbgrader": {
     "cell_type": "code",
     "checksum": "716c0406c8ae1c118981b909df0e57d4",
     "grade": true,
     "grade_id": "cell-e8861c2001b4e0ff",
     "locked": true,
     "points": 1,
     "schema_version": 3,
     "solution": false
    }
   },
   "outputs": [],
   "source": [
    "assert np.isclose(add(np.array([3, 4]), np.array([4, 3])), np.array([7, 7])).all(),  \"Problem 1.6, returned value does not match expected value.\"\n"
   ]
  },
  {
   "cell_type": "markdown",
   "metadata": {
    "deletable": false,
    "editable": false,
    "nbgrader": {
     "cell_type": "markdown",
     "checksum": "4d47657af64b33736418d590ed37a7f6",
     "grade": false,
     "grade_id": "cell-ef1833d4761736fe",
     "locked": true,
     "schema_version": 3,
     "solution": false
    }
   },
   "source": [
    "<strong>1.7</strong> \\[1 pt\\] Assume $A = \\left( \\begin{array}{cc} -2 & 6 \\\\ 1 & 4 \\end{array} \\right)$  and  $B = \\left( \\begin{array}{cc} 8 & -3 \\\\ 8 & -2 \\end{array} \\right)$. What are the sum and product of $A$ and $B$.   Please store your answers into a variable <strong>ANS16</strong> formatted as a dictionary that has two keys called \"sum\" and \"product\".\n"
   ]
  },
  {
   "cell_type": "code",
   "execution_count": 55,
   "metadata": {},
   "outputs": [],
   "source": [
    "a=np.array([[-2,6],[1,4]])\n",
    "b=np.array([[8,-3],[8,-2]])"
   ]
  },
  {
   "cell_type": "code",
   "execution_count": 56,
   "metadata": {},
   "outputs": [],
   "source": [
    "ab_sum=np.add(a,b)\n",
    "ab_prod=np.dot(a,b)"
   ]
  },
  {
   "cell_type": "code",
   "execution_count": 57,
   "metadata": {},
   "outputs": [
    {
     "data": {
      "text/plain": [
       "array([[6, 3],\n",
       "       [9, 2]])"
      ]
     },
     "execution_count": 57,
     "metadata": {},
     "output_type": "execute_result"
    }
   ],
   "source": [
    "ab_sum"
   ]
  },
  {
   "cell_type": "code",
   "execution_count": 59,
   "metadata": {},
   "outputs": [
    {
     "data": {
      "text/plain": [
       "array([[ 32,  -6],\n",
       "       [ 40, -11]])"
      ]
     },
     "execution_count": 59,
     "metadata": {},
     "output_type": "execute_result"
    }
   ],
   "source": [
    "ab_prod"
   ]
  },
  {
   "cell_type": "code",
   "execution_count": 61,
   "metadata": {
    "deletable": false,
    "nbgrader": {
     "cell_type": "code",
     "checksum": "f11ca82d8175e12b21ec27812cb0d8f9",
     "grade": false,
     "grade_id": "cell-d59d72a05083a65b",
     "locked": false,
     "schema_version": 3,
     "solution": true
    }
   },
   "outputs": [],
   "source": [
    "ANS17={}\n",
    "ANS17[\"sum\"]=ab_sum\n",
    "ANS17[\"product\"]=ab_prod\n",
    "# YOUR CODE HERE\n",
    "# raise NotImplementedError()"
   ]
  },
  {
   "cell_type": "code",
   "execution_count": 62,
   "metadata": {},
   "outputs": [
    {
     "data": {
      "text/plain": [
       "{'sum': array([[6, 3],\n",
       "        [9, 2]]),\n",
       " 'product': array([[ 32,  -6],\n",
       "        [ 40, -11]])}"
      ]
     },
     "execution_count": 62,
     "metadata": {},
     "output_type": "execute_result"
    }
   ],
   "source": [
    "ANS17"
   ]
  },
  {
   "cell_type": "code",
   "execution_count": 63,
   "metadata": {
    "deletable": false,
    "editable": false,
    "nbgrader": {
     "cell_type": "code",
     "checksum": "f201b26850be107cdbbda1c442cff709",
     "grade": true,
     "grade_id": "cell-1943466bf97bdfa1",
     "locked": true,
     "points": 1,
     "schema_version": 3,
     "solution": false
    }
   },
   "outputs": [],
   "source": [
    "assert type(ANS17) == type({}), \"Problem 1.7, testing ANS16, value stored in variable does not match the expected type. Expecting Dictionary.\"\n"
   ]
  },
  {
   "cell_type": "markdown",
   "metadata": {
    "deletable": false,
    "editable": false,
    "nbgrader": {
     "cell_type": "markdown",
     "checksum": "883e36203840d87a3932518314b4ccb4",
     "grade": false,
     "grade_id": "cell-8a7e39ca00f6c9b3",
     "locked": true,
     "schema_version": 3,
     "solution": false
    }
   },
   "source": [
    "<strong>1.8</strong> \\[2 pt\\]  Let  $F = \\left( \\begin{array}{ccc} 4 & 5 & c \\\\ 2 & 4 & b \\\\ 1 & 2 & a + b \\end{array} \\right)$ and $G= \\left( \\begin{array}{ccc} 4 & 2 & -b \\\\ 5 & 6 + c & 0  \\\\ 4 & 3 & a \\end{array} \\right)$  where $a$, $b$, and $c$ are variables. \n",
    "\n",
    "What is the trace of the matrix $F \\cdot  G$?    Please store your answers into a string variable <strong>Trace_FG</strong>  written with valid python code formatting (e.g. Trace_FG = \"2 + a -b\"). (Note you are encouraged to do this by hand.)\n",
    "\n",
    "Hint:  If you don't pass the test.  Set $a$, $b$, and $c$ to zero.  Then you can use the python eval function to check your answer.  For example: Run\n",
    "\n",
    "\n",
    "$a = 0$ <br> \n",
    "$b = 0$ <br> \n",
    "$c = 0$ <br> \n",
    "$eval(Trace\\_FG)$\n",
    "\n",
    "Then run \n",
    "\n",
    "$F = np.array([[4, 5, c], [2, 4, b], [1, 2, a + b]])$  <br> \n",
    "$G = np.array([[4,2, -b],[5,6+𝑐,0],[4,3,a]])$ <br> \n",
    "$np.trace(F@G)$\n",
    "\n",
    "The results should match.  If not, you got one of the constant terms of the answer incorrect.  Try running: \n",
    "\n",
    "F@G and make sure you computed the constant terms of the matrix product correctly.\n",
    "\n",
    "Once your answer matches for $a = b = c = 0$.  Try changing $a = 1$ and check if you correctly computed the a terms.  Then reset $a = 0$, but let $b = 1$.   Etc.\n",
    "\n",
    "This will allow you to track down arithmetic errors without simply computing the entire quantity again.  \n"
   ]
  },
  {
   "cell_type": "code",
   "execution_count": 75,
   "metadata": {
    "deletable": false,
    "nbgrader": {
     "cell_type": "code",
     "checksum": "bc88aefccae9d1942bac3e07554649c8",
     "grade": false,
     "grade_id": "cell-f9ac76d940b23353",
     "locked": false,
     "schema_version": 3,
     "solution": true
    }
   },
   "outputs": [],
   "source": [
    "Trace_FG=\"69 + a*a + a*b + 8*c + 2*b\"\n",
    "# YOUR CODE HERE\n",
    "# raise NotImplementedError()\n"
   ]
  },
  {
   "cell_type": "code",
   "execution_count": 76,
   "metadata": {
    "deletable": false,
    "editable": false,
    "nbgrader": {
     "cell_type": "code",
     "checksum": "c9bf38780380ac7df68ed6c578368494",
     "grade": true,
     "grade_id": "cell-7e7ef1859427aeb3",
     "locked": true,
     "points": 2,
     "schema_version": 3,
     "solution": false
    }
   },
   "outputs": [],
   "source": [
    "assert type(Trace_FG) == str, \"Problem 1.7, type of value stored in variable Trace_FG does not match the expected type.\""
   ]
  },
  {
   "cell_type": "markdown",
   "metadata": {
    "deletable": false,
    "editable": false,
    "nbgrader": {
     "cell_type": "markdown",
     "checksum": "d1660ef74fc0702895cdd553a4923659",
     "grade": false,
     "grade_id": "cell-742c464c8bba88c0",
     "locked": true,
     "schema_version": 3,
     "solution": false
    }
   },
   "source": [
    "## Answers"
   ]
  },
  {
   "cell_type": "code",
   "execution_count": null,
   "metadata": {
    "deletable": false,
    "editable": false,
    "nbgrader": {
     "cell_type": "code",
     "checksum": "2c47399535217675f7c0715e976b44e1",
     "grade": false,
     "grade_id": "cell-79ea95b4b2ea1c85",
     "locked": true,
     "schema_version": 3,
     "solution": false
    }
   },
   "outputs": [],
   "source": [
    "ANS12 = np.array((5,4))\n",
    "\n",
    "ANS13 = False; there are rounding errors in the calculation\n",
    "\n",
    "ANS14 = np.array(range(9)).reshape(3, 3)\n",
    "\n",
    "def ones(a, b):\n",
    "    return 2* np.ones((a, b))\n",
    "\n",
    "def add(a, b):\n",
    "    return a + b\n",
    "\n",
    "ANS61 = {'sum': np.array([[6, 3], [9, 2]]), 'product': np.array([[ 32,  -6], [ 40, -11]])}\n",
    "\n",
    "Trace_FG = \"69 + a*a + a*b + 8*c + 2*b\""
   ]
  }
 ],
 "metadata": {
  "coursera": {
   "schema_names": [
    "mads_math_methods_for_data_science_v5_assignment0"
   ]
  },
  "kernelspec": {
   "display_name": "Python 3 (ipykernel)",
   "language": "python",
   "name": "python3"
  },
  "language_info": {
   "codemirror_mode": {
    "name": "ipython",
    "version": 3
   },
   "file_extension": ".py",
   "mimetype": "text/x-python",
   "name": "python",
   "nbconvert_exporter": "python",
   "pygments_lexer": "ipython3",
   "version": "3.8.10"
  }
 },
 "nbformat": 4,
 "nbformat_minor": 2
}
