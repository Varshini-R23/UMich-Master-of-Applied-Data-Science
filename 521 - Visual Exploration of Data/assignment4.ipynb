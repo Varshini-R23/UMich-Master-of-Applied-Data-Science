{
 "cells": [
  {
   "cell_type": "markdown",
   "id": "1dc1b633-55b0-4f21-b0e2-22b3780dcfa5",
   "metadata": {},
   "source": [
    "# Visual Exploration of Strava Data"
   ]
  },
  {
   "cell_type": "markdown",
   "id": "f8c448df-9a7f-4b21-84ca-032ccbca7dcd",
   "metadata": {},
   "source": [
    "##### Varshini Rana"
   ]
  },
  {
   "cell_type": "markdown",
   "id": "97a1e18f-7fb1-4c24-aa4e-eedccfc2564d",
   "metadata": {},
   "source": [
    "### Introduction"
   ]
  },
  {
   "cell_type": "markdown",
   "id": "b7220105-be63-41f8-8d88-96b5c148a1a3",
   "metadata": {},
   "source": [
    "Professor Chris Brooks started increasing his exercise over the summer of 2019 and collecting data on what he was doing. Throughout the summer, he bought a variety of devices (heart rate monitor, watch, bicycle, etc.), and began publishing this data to the social sharing site Strava. Professor Brooks wants to understand this data on a deeper level.\n",
    "\n",
    "In this notebook, I will be exploring the strava.csv dataset as gathered by Professor Brooks to explore the attributes of certain key variables in it, their distributions, and how they correlate to one another.\n",
    "\n",
    "I have made references to some of the rules highlighted in the article [\"Ten simple rules for writing and sharing computational analyses in Jupyter Notebooks\"](https://journals.plos.org/ploscompbiol/article?id=10.1371/journal.pcbi.1007007) by Rule et al. as follows:"
   ]
  },
  {
   "cell_type": "markdown",
   "id": "087407d9-4f03-45a4-8a09-3f052007f6d9",
   "metadata": {},
   "source": [
    "#### Rule 1: Tell a story for an audience"
   ]
  },
  {
   "cell_type": "markdown",
   "id": "60f34bb2-9c7d-4e74-8625-20a0878abe3b",
   "metadata": {},
   "source": [
    "The notebook attempts to create a computational narrative for the client Professor Brooks (and for anyone who wants to reproduce this analysis) by first introducing the premise of the data, then going on to describing the steps for the visual analyses and the implicit rationale behind them, and ending with insights on the visual analyses."
   ]
  },
  {
   "cell_type": "markdown",
   "id": "3cb4bd70-2a23-4f53-8b11-3c0dd77539ff",
   "metadata": {},
   "source": [
    "#### Rule 2: Document the process, not just the results"
   ]
  },
  {
   "cell_type": "markdown",
   "id": "0ec8cd7f-510e-4ade-a446-f43f15af997e",
   "metadata": {},
   "source": [
    "Explanatory text is provided throughout the notebook and for every step of the analyses undertaken, both in the form of markdown text, as well as code cell comments. This is to enable clear documentation for why and how each step was taken in order to enhance reproducibility and comprehension."
   ]
  },
  {
   "cell_type": "markdown",
   "id": "7b2e2aa5-6071-4ed0-b73b-b3d111148c0f",
   "metadata": {},
   "source": [
    "#### Rule 3: Use cell divisions to make steps clear"
   ]
  },
  {
   "cell_type": "markdown",
   "id": "06002e69-39ca-44e6-afd4-51d3b7fa048a",
   "metadata": {},
   "source": [
    "Each main step of the analyses undertaken is given a cell in the notebook along with explanatory text, making it easier to follow what is being done and why. For example, the data cleaning steps are kept separate from plot creation steps in different cells, so that it is easy to determine when one step ends and when the other begins."
   ]
  },
  {
   "cell_type": "markdown",
   "id": "e14491ab-2d4c-4a57-b268-7ff8acb5fa2c",
   "metadata": {},
   "source": [
    "#### Rule 5: Record Dependencies"
   ]
  },
  {
   "cell_type": "markdown",
   "id": "399a8ecd-6eae-47c2-b74b-add7aae4e077",
   "metadata": {},
   "source": [
    "The following libraries are the dependencies for the code that follows and can be installed with the command: `pip install <library name>`"
   ]
  },
  {
   "cell_type": "code",
   "execution_count": 1,
   "id": "af0fb616-1178-49b2-a817-603bc35a462e",
   "metadata": {},
   "outputs": [],
   "source": [
    "# let us import the required libraries\n",
    "import pandas as pd\n",
    "import datetime\n",
    "import numpy as np\n",
    "import seaborn as sns\n",
    "import matplotlib.pyplot as plt"
   ]
  },
  {
   "cell_type": "markdown",
   "id": "b936ab81-f99a-42b1-b304-13425e0ae1a9",
   "metadata": {},
   "source": [
    "By listing the required libraries in one cell and indicating the command to install them, I have ensured that all dependencies are kept in one place and are easily accessible by anyone who would want to reproduce this analysis without the hassle of confronting undocumented dependencies in the code below."
   ]
  },
  {
   "cell_type": "markdown",
   "id": "fede39d7-8be3-4a9b-a03d-c7673638fd8a",
   "metadata": {},
   "source": [
    "### Exploratory Data Analysis"
   ]
  },
  {
   "cell_type": "code",
   "execution_count": 2,
   "id": "150029b3-6fd0-45da-b998-f832efe7d431",
   "metadata": {},
   "outputs": [],
   "source": [
    "# we want to be able to see all of the columns in the dataframe, so let us set an arbitrary number of 1000 columns to display\n",
    "pd.options.display.max_columns=1000"
   ]
  },
  {
   "cell_type": "code",
   "execution_count": 3,
   "id": "e9cccaca-393e-4e90-be29-45065f2ff67e",
   "metadata": {},
   "outputs": [
    {
     "data": {
      "text/html": [
       "<div>\n",
       "<style scoped>\n",
       "    .dataframe tbody tr th:only-of-type {\n",
       "        vertical-align: middle;\n",
       "    }\n",
       "\n",
       "    .dataframe tbody tr th {\n",
       "        vertical-align: top;\n",
       "    }\n",
       "\n",
       "    .dataframe thead th {\n",
       "        text-align: right;\n",
       "    }\n",
       "</style>\n",
       "<table border=\"1\" class=\"dataframe\">\n",
       "  <thead>\n",
       "    <tr style=\"text-align: right;\">\n",
       "      <th></th>\n",
       "      <th>Air Power</th>\n",
       "      <th>Cadence</th>\n",
       "      <th>Form Power</th>\n",
       "      <th>Ground Time</th>\n",
       "      <th>Leg Spring Stiffness</th>\n",
       "      <th>Power</th>\n",
       "      <th>Vertical Oscillation</th>\n",
       "      <th>altitude</th>\n",
       "      <th>cadence</th>\n",
       "      <th>datafile</th>\n",
       "      <th>distance</th>\n",
       "      <th>enhanced_altitude</th>\n",
       "      <th>enhanced_speed</th>\n",
       "      <th>fractional_cadence</th>\n",
       "      <th>heart_rate</th>\n",
       "      <th>position_lat</th>\n",
       "      <th>position_long</th>\n",
       "      <th>speed</th>\n",
       "      <th>timestamp</th>\n",
       "      <th>unknown_87</th>\n",
       "      <th>unknown_88</th>\n",
       "      <th>unknown_90</th>\n",
       "    </tr>\n",
       "  </thead>\n",
       "  <tbody>\n",
       "    <tr>\n",
       "      <th>0</th>\n",
       "      <td>NaN</td>\n",
       "      <td>NaN</td>\n",
       "      <td>NaN</td>\n",
       "      <td>NaN</td>\n",
       "      <td>NaN</td>\n",
       "      <td>NaN</td>\n",
       "      <td>NaN</td>\n",
       "      <td>NaN</td>\n",
       "      <td>0.0</td>\n",
       "      <td>activities/2675855419.fit.gz</td>\n",
       "      <td>0.00</td>\n",
       "      <td>NaN</td>\n",
       "      <td>0.000</td>\n",
       "      <td>0.0</td>\n",
       "      <td>68.0</td>\n",
       "      <td>NaN</td>\n",
       "      <td>NaN</td>\n",
       "      <td>0.0</td>\n",
       "      <td>2019-07-08 21:04:03</td>\n",
       "      <td>0.0</td>\n",
       "      <td>300.0</td>\n",
       "      <td>NaN</td>\n",
       "    </tr>\n",
       "    <tr>\n",
       "      <th>1</th>\n",
       "      <td>NaN</td>\n",
       "      <td>NaN</td>\n",
       "      <td>NaN</td>\n",
       "      <td>NaN</td>\n",
       "      <td>NaN</td>\n",
       "      <td>NaN</td>\n",
       "      <td>NaN</td>\n",
       "      <td>NaN</td>\n",
       "      <td>0.0</td>\n",
       "      <td>activities/2675855419.fit.gz</td>\n",
       "      <td>0.00</td>\n",
       "      <td>NaN</td>\n",
       "      <td>0.000</td>\n",
       "      <td>0.0</td>\n",
       "      <td>68.0</td>\n",
       "      <td>NaN</td>\n",
       "      <td>NaN</td>\n",
       "      <td>0.0</td>\n",
       "      <td>2019-07-08 21:04:04</td>\n",
       "      <td>0.0</td>\n",
       "      <td>300.0</td>\n",
       "      <td>NaN</td>\n",
       "    </tr>\n",
       "    <tr>\n",
       "      <th>2</th>\n",
       "      <td>NaN</td>\n",
       "      <td>NaN</td>\n",
       "      <td>NaN</td>\n",
       "      <td>NaN</td>\n",
       "      <td>NaN</td>\n",
       "      <td>NaN</td>\n",
       "      <td>NaN</td>\n",
       "      <td>NaN</td>\n",
       "      <td>54.0</td>\n",
       "      <td>activities/2675855419.fit.gz</td>\n",
       "      <td>1.32</td>\n",
       "      <td>NaN</td>\n",
       "      <td>1.316</td>\n",
       "      <td>0.0</td>\n",
       "      <td>71.0</td>\n",
       "      <td>NaN</td>\n",
       "      <td>NaN</td>\n",
       "      <td>1316.0</td>\n",
       "      <td>2019-07-08 21:04:07</td>\n",
       "      <td>0.0</td>\n",
       "      <td>300.0</td>\n",
       "      <td>NaN</td>\n",
       "    </tr>\n",
       "    <tr>\n",
       "      <th>3</th>\n",
       "      <td>NaN</td>\n",
       "      <td>NaN</td>\n",
       "      <td>NaN</td>\n",
       "      <td>NaN</td>\n",
       "      <td>NaN</td>\n",
       "      <td>NaN</td>\n",
       "      <td>NaN</td>\n",
       "      <td>3747.0</td>\n",
       "      <td>77.0</td>\n",
       "      <td>activities/2675855419.fit.gz</td>\n",
       "      <td>12.19</td>\n",
       "      <td>249.4</td>\n",
       "      <td>1.866</td>\n",
       "      <td>0.0</td>\n",
       "      <td>77.0</td>\n",
       "      <td>504432050.0</td>\n",
       "      <td>-999063637.0</td>\n",
       "      <td>1866.0</td>\n",
       "      <td>2019-07-08 21:04:14</td>\n",
       "      <td>0.0</td>\n",
       "      <td>100.0</td>\n",
       "      <td>NaN</td>\n",
       "    </tr>\n",
       "    <tr>\n",
       "      <th>4</th>\n",
       "      <td>NaN</td>\n",
       "      <td>NaN</td>\n",
       "      <td>NaN</td>\n",
       "      <td>NaN</td>\n",
       "      <td>NaN</td>\n",
       "      <td>NaN</td>\n",
       "      <td>NaN</td>\n",
       "      <td>3798.0</td>\n",
       "      <td>77.0</td>\n",
       "      <td>activities/2675855419.fit.gz</td>\n",
       "      <td>14.08</td>\n",
       "      <td>259.6</td>\n",
       "      <td>1.894</td>\n",
       "      <td>0.0</td>\n",
       "      <td>80.0</td>\n",
       "      <td>504432492.0</td>\n",
       "      <td>-999064534.0</td>\n",
       "      <td>1894.0</td>\n",
       "      <td>2019-07-08 21:04:15</td>\n",
       "      <td>0.0</td>\n",
       "      <td>100.0</td>\n",
       "      <td>NaN</td>\n",
       "    </tr>\n",
       "  </tbody>\n",
       "</table>\n",
       "</div>"
      ],
      "text/plain": [
       "   Air Power  Cadence  Form Power  Ground Time  Leg Spring Stiffness  Power  \\\n",
       "0        NaN      NaN         NaN          NaN                   NaN    NaN   \n",
       "1        NaN      NaN         NaN          NaN                   NaN    NaN   \n",
       "2        NaN      NaN         NaN          NaN                   NaN    NaN   \n",
       "3        NaN      NaN         NaN          NaN                   NaN    NaN   \n",
       "4        NaN      NaN         NaN          NaN                   NaN    NaN   \n",
       "\n",
       "   Vertical Oscillation  altitude  cadence                      datafile  \\\n",
       "0                   NaN       NaN      0.0  activities/2675855419.fit.gz   \n",
       "1                   NaN       NaN      0.0  activities/2675855419.fit.gz   \n",
       "2                   NaN       NaN     54.0  activities/2675855419.fit.gz   \n",
       "3                   NaN    3747.0     77.0  activities/2675855419.fit.gz   \n",
       "4                   NaN    3798.0     77.0  activities/2675855419.fit.gz   \n",
       "\n",
       "   distance  enhanced_altitude  enhanced_speed  fractional_cadence  \\\n",
       "0      0.00                NaN           0.000                 0.0   \n",
       "1      0.00                NaN           0.000                 0.0   \n",
       "2      1.32                NaN           1.316                 0.0   \n",
       "3     12.19              249.4           1.866                 0.0   \n",
       "4     14.08              259.6           1.894                 0.0   \n",
       "\n",
       "   heart_rate  position_lat  position_long   speed            timestamp  \\\n",
       "0        68.0           NaN            NaN     0.0  2019-07-08 21:04:03   \n",
       "1        68.0           NaN            NaN     0.0  2019-07-08 21:04:04   \n",
       "2        71.0           NaN            NaN  1316.0  2019-07-08 21:04:07   \n",
       "3        77.0   504432050.0   -999063637.0  1866.0  2019-07-08 21:04:14   \n",
       "4        80.0   504432492.0   -999064534.0  1894.0  2019-07-08 21:04:15   \n",
       "\n",
       "   unknown_87  unknown_88  unknown_90  \n",
       "0         0.0       300.0         NaN  \n",
       "1         0.0       300.0         NaN  \n",
       "2         0.0       300.0         NaN  \n",
       "3         0.0       100.0         NaN  \n",
       "4         0.0       100.0         NaN  "
      ]
     },
     "execution_count": 3,
     "metadata": {},
     "output_type": "execute_result"
    }
   ],
   "source": [
    "# let us import the dataset and look at the first 5 rows\n",
    "df=pd.read_csv(\"/home/jovyan/work/resources/assets/strava.csv\")\n",
    "df.head()"
   ]
  },
  {
   "cell_type": "markdown",
   "id": "5ec057e4-7015-4995-8ba0-ee7a81e3433b",
   "metadata": {},
   "source": [
    "We can see that there is quite a lot of Stryd and general endurance training terminology in the dataset based on the column names. We will take a closer look at some of them as we proceed with the analysis."
   ]
  },
  {
   "cell_type": "code",
   "execution_count": 4,
   "id": "8d963f08-0028-4b67-b7fd-69ac02a4f47d",
   "metadata": {},
   "outputs": [
    {
     "data": {
      "text/plain": [
       "(40649, 22)"
      ]
     },
     "execution_count": 4,
     "metadata": {},
     "output_type": "execute_result"
    }
   ],
   "source": [
    "# let us get an idea of how many rows and columns there are in this dataset\n",
    "df.shape"
   ]
  },
  {
   "cell_type": "markdown",
   "id": "2708d424-772a-4e85-979d-c6721a1c52f0",
   "metadata": {},
   "source": [
    "There are 40649 rows and 22 columns in this dataset."
   ]
  },
  {
   "cell_type": "code",
   "execution_count": 5,
   "id": "eafb2586-cdf8-40ea-a25a-454e37b2e840",
   "metadata": {},
   "outputs": [
    {
     "name": "stdout",
     "output_type": "stream",
     "text": [
      "<class 'pandas.core.frame.DataFrame'>\n",
      "RangeIndex: 40649 entries, 0 to 40648\n",
      "Data columns (total 22 columns):\n",
      " #   Column                Non-Null Count  Dtype  \n",
      "---  ------                --------------  -----  \n",
      " 0   Air Power             17842 non-null  float64\n",
      " 1   Cadence               17847 non-null  float64\n",
      " 2   Form Power            17842 non-null  float64\n",
      " 3   Ground Time           17847 non-null  float64\n",
      " 4   Leg Spring Stiffness  17842 non-null  float64\n",
      " 5   Power                 17847 non-null  float64\n",
      " 6   Vertical Oscillation  17847 non-null  float64\n",
      " 7   altitude              14905 non-null  float64\n",
      " 8   cadence               40627 non-null  float64\n",
      " 9   datafile              40649 non-null  object \n",
      " 10  distance              40649 non-null  float64\n",
      " 11  enhanced_altitude     40598 non-null  float64\n",
      " 12  enhanced_speed        40639 non-null  float64\n",
      " 13  fractional_cadence    40627 non-null  float64\n",
      " 14  heart_rate            38355 non-null  float64\n",
      " 15  position_lat          40457 non-null  float64\n",
      " 16  position_long         40457 non-null  float64\n",
      " 17  speed                 14928 non-null  float64\n",
      " 18  timestamp             40649 non-null  object \n",
      " 19  unknown_87            40627 non-null  float64\n",
      " 20  unknown_88            38355 non-null  float64\n",
      " 21  unknown_90            18618 non-null  float64\n",
      "dtypes: float64(20), object(2)\n",
      "memory usage: 6.8+ MB\n"
     ]
    }
   ],
   "source": [
    "# let us get an idea of how many null values there are in the dataset\n",
    "df.info()"
   ]
  },
  {
   "cell_type": "markdown",
   "id": "451395d9-1eee-4609-8f56-230e764251a9",
   "metadata": {},
   "source": [
    "The first few columns have quite a large number of null values, and we also have no idea what the \"unknown\" columns are supposed to denote. Already, we are getting an inkling of what columns to focus on in our analysis.\n",
    "\n",
    "Based on some digging around, I found out that the data for the variety of fitness devices and activities employed by Professor Brooks were actually encapsulated in the series of .fit files in the \"datafile\" column of this dataset. Let us make these activities distinct by extracting the activity IDs from the .fit file names."
   ]
  },
  {
   "cell_type": "code",
   "execution_count": 6,
   "id": "7faca5ac-7a8a-4139-a5f4-680e9fd82829",
   "metadata": {},
   "outputs": [
    {
     "data": {
      "text/html": [
       "<div>\n",
       "<style scoped>\n",
       "    .dataframe tbody tr th:only-of-type {\n",
       "        vertical-align: middle;\n",
       "    }\n",
       "\n",
       "    .dataframe tbody tr th {\n",
       "        vertical-align: top;\n",
       "    }\n",
       "\n",
       "    .dataframe thead th {\n",
       "        text-align: right;\n",
       "    }\n",
       "</style>\n",
       "<table border=\"1\" class=\"dataframe\">\n",
       "  <thead>\n",
       "    <tr style=\"text-align: right;\">\n",
       "      <th></th>\n",
       "      <th>Air Power</th>\n",
       "      <th>Cadence</th>\n",
       "      <th>Form Power</th>\n",
       "      <th>Ground Time</th>\n",
       "      <th>Leg Spring Stiffness</th>\n",
       "      <th>Power</th>\n",
       "      <th>Vertical Oscillation</th>\n",
       "      <th>altitude</th>\n",
       "      <th>cadence</th>\n",
       "      <th>datafile</th>\n",
       "      <th>distance</th>\n",
       "      <th>enhanced_altitude</th>\n",
       "      <th>enhanced_speed</th>\n",
       "      <th>fractional_cadence</th>\n",
       "      <th>heart_rate</th>\n",
       "      <th>position_lat</th>\n",
       "      <th>position_long</th>\n",
       "      <th>speed</th>\n",
       "      <th>timestamp</th>\n",
       "      <th>unknown_87</th>\n",
       "      <th>unknown_88</th>\n",
       "      <th>unknown_90</th>\n",
       "      <th>Activity ID</th>\n",
       "    </tr>\n",
       "  </thead>\n",
       "  <tbody>\n",
       "    <tr>\n",
       "      <th>0</th>\n",
       "      <td>NaN</td>\n",
       "      <td>NaN</td>\n",
       "      <td>NaN</td>\n",
       "      <td>NaN</td>\n",
       "      <td>NaN</td>\n",
       "      <td>NaN</td>\n",
       "      <td>NaN</td>\n",
       "      <td>NaN</td>\n",
       "      <td>0.0</td>\n",
       "      <td>activities/2675855419.fit.gz</td>\n",
       "      <td>0.00</td>\n",
       "      <td>NaN</td>\n",
       "      <td>0.000</td>\n",
       "      <td>0.0</td>\n",
       "      <td>68.0</td>\n",
       "      <td>NaN</td>\n",
       "      <td>NaN</td>\n",
       "      <td>0.0</td>\n",
       "      <td>2019-07-08 21:04:03</td>\n",
       "      <td>0.0</td>\n",
       "      <td>300.0</td>\n",
       "      <td>NaN</td>\n",
       "      <td>2675855419</td>\n",
       "    </tr>\n",
       "    <tr>\n",
       "      <th>1</th>\n",
       "      <td>NaN</td>\n",
       "      <td>NaN</td>\n",
       "      <td>NaN</td>\n",
       "      <td>NaN</td>\n",
       "      <td>NaN</td>\n",
       "      <td>NaN</td>\n",
       "      <td>NaN</td>\n",
       "      <td>NaN</td>\n",
       "      <td>0.0</td>\n",
       "      <td>activities/2675855419.fit.gz</td>\n",
       "      <td>0.00</td>\n",
       "      <td>NaN</td>\n",
       "      <td>0.000</td>\n",
       "      <td>0.0</td>\n",
       "      <td>68.0</td>\n",
       "      <td>NaN</td>\n",
       "      <td>NaN</td>\n",
       "      <td>0.0</td>\n",
       "      <td>2019-07-08 21:04:04</td>\n",
       "      <td>0.0</td>\n",
       "      <td>300.0</td>\n",
       "      <td>NaN</td>\n",
       "      <td>2675855419</td>\n",
       "    </tr>\n",
       "    <tr>\n",
       "      <th>2</th>\n",
       "      <td>NaN</td>\n",
       "      <td>NaN</td>\n",
       "      <td>NaN</td>\n",
       "      <td>NaN</td>\n",
       "      <td>NaN</td>\n",
       "      <td>NaN</td>\n",
       "      <td>NaN</td>\n",
       "      <td>NaN</td>\n",
       "      <td>54.0</td>\n",
       "      <td>activities/2675855419.fit.gz</td>\n",
       "      <td>1.32</td>\n",
       "      <td>NaN</td>\n",
       "      <td>1.316</td>\n",
       "      <td>0.0</td>\n",
       "      <td>71.0</td>\n",
       "      <td>NaN</td>\n",
       "      <td>NaN</td>\n",
       "      <td>1316.0</td>\n",
       "      <td>2019-07-08 21:04:07</td>\n",
       "      <td>0.0</td>\n",
       "      <td>300.0</td>\n",
       "      <td>NaN</td>\n",
       "      <td>2675855419</td>\n",
       "    </tr>\n",
       "    <tr>\n",
       "      <th>3</th>\n",
       "      <td>NaN</td>\n",
       "      <td>NaN</td>\n",
       "      <td>NaN</td>\n",
       "      <td>NaN</td>\n",
       "      <td>NaN</td>\n",
       "      <td>NaN</td>\n",
       "      <td>NaN</td>\n",
       "      <td>3747.0</td>\n",
       "      <td>77.0</td>\n",
       "      <td>activities/2675855419.fit.gz</td>\n",
       "      <td>12.19</td>\n",
       "      <td>249.4</td>\n",
       "      <td>1.866</td>\n",
       "      <td>0.0</td>\n",
       "      <td>77.0</td>\n",
       "      <td>504432050.0</td>\n",
       "      <td>-999063637.0</td>\n",
       "      <td>1866.0</td>\n",
       "      <td>2019-07-08 21:04:14</td>\n",
       "      <td>0.0</td>\n",
       "      <td>100.0</td>\n",
       "      <td>NaN</td>\n",
       "      <td>2675855419</td>\n",
       "    </tr>\n",
       "    <tr>\n",
       "      <th>4</th>\n",
       "      <td>NaN</td>\n",
       "      <td>NaN</td>\n",
       "      <td>NaN</td>\n",
       "      <td>NaN</td>\n",
       "      <td>NaN</td>\n",
       "      <td>NaN</td>\n",
       "      <td>NaN</td>\n",
       "      <td>3798.0</td>\n",
       "      <td>77.0</td>\n",
       "      <td>activities/2675855419.fit.gz</td>\n",
       "      <td>14.08</td>\n",
       "      <td>259.6</td>\n",
       "      <td>1.894</td>\n",
       "      <td>0.0</td>\n",
       "      <td>80.0</td>\n",
       "      <td>504432492.0</td>\n",
       "      <td>-999064534.0</td>\n",
       "      <td>1894.0</td>\n",
       "      <td>2019-07-08 21:04:15</td>\n",
       "      <td>0.0</td>\n",
       "      <td>100.0</td>\n",
       "      <td>NaN</td>\n",
       "      <td>2675855419</td>\n",
       "    </tr>\n",
       "  </tbody>\n",
       "</table>\n",
       "</div>"
      ],
      "text/plain": [
       "   Air Power  Cadence  Form Power  Ground Time  Leg Spring Stiffness  Power  \\\n",
       "0        NaN      NaN         NaN          NaN                   NaN    NaN   \n",
       "1        NaN      NaN         NaN          NaN                   NaN    NaN   \n",
       "2        NaN      NaN         NaN          NaN                   NaN    NaN   \n",
       "3        NaN      NaN         NaN          NaN                   NaN    NaN   \n",
       "4        NaN      NaN         NaN          NaN                   NaN    NaN   \n",
       "\n",
       "   Vertical Oscillation  altitude  cadence                      datafile  \\\n",
       "0                   NaN       NaN      0.0  activities/2675855419.fit.gz   \n",
       "1                   NaN       NaN      0.0  activities/2675855419.fit.gz   \n",
       "2                   NaN       NaN     54.0  activities/2675855419.fit.gz   \n",
       "3                   NaN    3747.0     77.0  activities/2675855419.fit.gz   \n",
       "4                   NaN    3798.0     77.0  activities/2675855419.fit.gz   \n",
       "\n",
       "   distance  enhanced_altitude  enhanced_speed  fractional_cadence  \\\n",
       "0      0.00                NaN           0.000                 0.0   \n",
       "1      0.00                NaN           0.000                 0.0   \n",
       "2      1.32                NaN           1.316                 0.0   \n",
       "3     12.19              249.4           1.866                 0.0   \n",
       "4     14.08              259.6           1.894                 0.0   \n",
       "\n",
       "   heart_rate  position_lat  position_long   speed            timestamp  \\\n",
       "0        68.0           NaN            NaN     0.0  2019-07-08 21:04:03   \n",
       "1        68.0           NaN            NaN     0.0  2019-07-08 21:04:04   \n",
       "2        71.0           NaN            NaN  1316.0  2019-07-08 21:04:07   \n",
       "3        77.0   504432050.0   -999063637.0  1866.0  2019-07-08 21:04:14   \n",
       "4        80.0   504432492.0   -999064534.0  1894.0  2019-07-08 21:04:15   \n",
       "\n",
       "   unknown_87  unknown_88  unknown_90 Activity ID  \n",
       "0         0.0       300.0         NaN  2675855419  \n",
       "1         0.0       300.0         NaN  2675855419  \n",
       "2         0.0       300.0         NaN  2675855419  \n",
       "3         0.0       100.0         NaN  2675855419  \n",
       "4         0.0       100.0         NaN  2675855419  "
      ]
     },
     "execution_count": 6,
     "metadata": {},
     "output_type": "execute_result"
    }
   ],
   "source": [
    "# let us extract the activity IDs from the \"datafile\" column\n",
    "df[\"Activity ID\"]=df[\"datafile\"].str.split(\"/\").str[1].str.split(\".\").str[0]\n",
    "df.head()"
   ]
  },
  {
   "cell_type": "markdown",
   "id": "1bc5a4d9-60e2-4add-9a84-83c1f2b3b15e",
   "metadata": {},
   "source": [
    "Activity IDs have been successfully extracted from the \"datafile\" column and are stored in the column \"Activity ID\" towards the extreme right. I wonder how many activities Professor Brooks indulged in."
   ]
  },
  {
   "cell_type": "code",
   "execution_count": 7,
   "id": "b4f3b34b-a529-4be7-ab88-64389a5434d6",
   "metadata": {},
   "outputs": [
    {
     "data": {
      "text/plain": [
       "64"
      ]
     },
     "execution_count": 7,
     "metadata": {},
     "output_type": "execute_result"
    }
   ],
   "source": [
    "# we will look at the unique number of activities based on the values in the \"Activity ID\" column\n",
    "df[\"Activity ID\"].nunique()"
   ]
  },
  {
   "cell_type": "markdown",
   "id": "1ad20df2-01fd-4acc-ab7f-07342b2f768b",
   "metadata": {},
   "source": [
    "64 activities... That's interesting. Based on some input from Professor Brooks, he claims that there were some activities where he ran then stopped for a while then ran again. This could lead to the creation of multiple Activity IDs. Perhaps, the term \"Activity ID\" was a misnomer. \"Session ID\" might be more appropriate."
   ]
  },
  {
   "cell_type": "code",
   "execution_count": 8,
   "id": "834af51a-3932-485a-abbf-eff84b404ba5",
   "metadata": {},
   "outputs": [
    {
     "data": {
      "text/html": [
       "<div>\n",
       "<style scoped>\n",
       "    .dataframe tbody tr th:only-of-type {\n",
       "        vertical-align: middle;\n",
       "    }\n",
       "\n",
       "    .dataframe tbody tr th {\n",
       "        vertical-align: top;\n",
       "    }\n",
       "\n",
       "    .dataframe thead th {\n",
       "        text-align: right;\n",
       "    }\n",
       "</style>\n",
       "<table border=\"1\" class=\"dataframe\">\n",
       "  <thead>\n",
       "    <tr style=\"text-align: right;\">\n",
       "      <th></th>\n",
       "      <th>Air Power</th>\n",
       "      <th>Cadence</th>\n",
       "      <th>Form Power</th>\n",
       "      <th>Ground Time</th>\n",
       "      <th>Leg Spring Stiffness</th>\n",
       "      <th>Power</th>\n",
       "      <th>Vertical Oscillation</th>\n",
       "      <th>altitude</th>\n",
       "      <th>cadence</th>\n",
       "      <th>datafile</th>\n",
       "      <th>distance</th>\n",
       "      <th>enhanced_altitude</th>\n",
       "      <th>enhanced_speed</th>\n",
       "      <th>fractional_cadence</th>\n",
       "      <th>heart_rate</th>\n",
       "      <th>position_lat</th>\n",
       "      <th>position_long</th>\n",
       "      <th>speed</th>\n",
       "      <th>timestamp</th>\n",
       "      <th>unknown_87</th>\n",
       "      <th>unknown_88</th>\n",
       "      <th>unknown_90</th>\n",
       "      <th>Session ID</th>\n",
       "    </tr>\n",
       "  </thead>\n",
       "  <tbody>\n",
       "    <tr>\n",
       "      <th>0</th>\n",
       "      <td>NaN</td>\n",
       "      <td>NaN</td>\n",
       "      <td>NaN</td>\n",
       "      <td>NaN</td>\n",
       "      <td>NaN</td>\n",
       "      <td>NaN</td>\n",
       "      <td>NaN</td>\n",
       "      <td>NaN</td>\n",
       "      <td>0.0</td>\n",
       "      <td>activities/2675855419.fit.gz</td>\n",
       "      <td>0.00</td>\n",
       "      <td>NaN</td>\n",
       "      <td>0.000</td>\n",
       "      <td>0.0</td>\n",
       "      <td>68.0</td>\n",
       "      <td>NaN</td>\n",
       "      <td>NaN</td>\n",
       "      <td>0.0</td>\n",
       "      <td>2019-07-08 21:04:03</td>\n",
       "      <td>0.0</td>\n",
       "      <td>300.0</td>\n",
       "      <td>NaN</td>\n",
       "      <td>2675855419</td>\n",
       "    </tr>\n",
       "    <tr>\n",
       "      <th>1</th>\n",
       "      <td>NaN</td>\n",
       "      <td>NaN</td>\n",
       "      <td>NaN</td>\n",
       "      <td>NaN</td>\n",
       "      <td>NaN</td>\n",
       "      <td>NaN</td>\n",
       "      <td>NaN</td>\n",
       "      <td>NaN</td>\n",
       "      <td>0.0</td>\n",
       "      <td>activities/2675855419.fit.gz</td>\n",
       "      <td>0.00</td>\n",
       "      <td>NaN</td>\n",
       "      <td>0.000</td>\n",
       "      <td>0.0</td>\n",
       "      <td>68.0</td>\n",
       "      <td>NaN</td>\n",
       "      <td>NaN</td>\n",
       "      <td>0.0</td>\n",
       "      <td>2019-07-08 21:04:04</td>\n",
       "      <td>0.0</td>\n",
       "      <td>300.0</td>\n",
       "      <td>NaN</td>\n",
       "      <td>2675855419</td>\n",
       "    </tr>\n",
       "    <tr>\n",
       "      <th>2</th>\n",
       "      <td>NaN</td>\n",
       "      <td>NaN</td>\n",
       "      <td>NaN</td>\n",
       "      <td>NaN</td>\n",
       "      <td>NaN</td>\n",
       "      <td>NaN</td>\n",
       "      <td>NaN</td>\n",
       "      <td>NaN</td>\n",
       "      <td>54.0</td>\n",
       "      <td>activities/2675855419.fit.gz</td>\n",
       "      <td>1.32</td>\n",
       "      <td>NaN</td>\n",
       "      <td>1.316</td>\n",
       "      <td>0.0</td>\n",
       "      <td>71.0</td>\n",
       "      <td>NaN</td>\n",
       "      <td>NaN</td>\n",
       "      <td>1316.0</td>\n",
       "      <td>2019-07-08 21:04:07</td>\n",
       "      <td>0.0</td>\n",
       "      <td>300.0</td>\n",
       "      <td>NaN</td>\n",
       "      <td>2675855419</td>\n",
       "    </tr>\n",
       "    <tr>\n",
       "      <th>3</th>\n",
       "      <td>NaN</td>\n",
       "      <td>NaN</td>\n",
       "      <td>NaN</td>\n",
       "      <td>NaN</td>\n",
       "      <td>NaN</td>\n",
       "      <td>NaN</td>\n",
       "      <td>NaN</td>\n",
       "      <td>3747.0</td>\n",
       "      <td>77.0</td>\n",
       "      <td>activities/2675855419.fit.gz</td>\n",
       "      <td>12.19</td>\n",
       "      <td>249.4</td>\n",
       "      <td>1.866</td>\n",
       "      <td>0.0</td>\n",
       "      <td>77.0</td>\n",
       "      <td>504432050.0</td>\n",
       "      <td>-999063637.0</td>\n",
       "      <td>1866.0</td>\n",
       "      <td>2019-07-08 21:04:14</td>\n",
       "      <td>0.0</td>\n",
       "      <td>100.0</td>\n",
       "      <td>NaN</td>\n",
       "      <td>2675855419</td>\n",
       "    </tr>\n",
       "    <tr>\n",
       "      <th>4</th>\n",
       "      <td>NaN</td>\n",
       "      <td>NaN</td>\n",
       "      <td>NaN</td>\n",
       "      <td>NaN</td>\n",
       "      <td>NaN</td>\n",
       "      <td>NaN</td>\n",
       "      <td>NaN</td>\n",
       "      <td>3798.0</td>\n",
       "      <td>77.0</td>\n",
       "      <td>activities/2675855419.fit.gz</td>\n",
       "      <td>14.08</td>\n",
       "      <td>259.6</td>\n",
       "      <td>1.894</td>\n",
       "      <td>0.0</td>\n",
       "      <td>80.0</td>\n",
       "      <td>504432492.0</td>\n",
       "      <td>-999064534.0</td>\n",
       "      <td>1894.0</td>\n",
       "      <td>2019-07-08 21:04:15</td>\n",
       "      <td>0.0</td>\n",
       "      <td>100.0</td>\n",
       "      <td>NaN</td>\n",
       "      <td>2675855419</td>\n",
       "    </tr>\n",
       "  </tbody>\n",
       "</table>\n",
       "</div>"
      ],
      "text/plain": [
       "   Air Power  Cadence  Form Power  Ground Time  Leg Spring Stiffness  Power  \\\n",
       "0        NaN      NaN         NaN          NaN                   NaN    NaN   \n",
       "1        NaN      NaN         NaN          NaN                   NaN    NaN   \n",
       "2        NaN      NaN         NaN          NaN                   NaN    NaN   \n",
       "3        NaN      NaN         NaN          NaN                   NaN    NaN   \n",
       "4        NaN      NaN         NaN          NaN                   NaN    NaN   \n",
       "\n",
       "   Vertical Oscillation  altitude  cadence                      datafile  \\\n",
       "0                   NaN       NaN      0.0  activities/2675855419.fit.gz   \n",
       "1                   NaN       NaN      0.0  activities/2675855419.fit.gz   \n",
       "2                   NaN       NaN     54.0  activities/2675855419.fit.gz   \n",
       "3                   NaN    3747.0     77.0  activities/2675855419.fit.gz   \n",
       "4                   NaN    3798.0     77.0  activities/2675855419.fit.gz   \n",
       "\n",
       "   distance  enhanced_altitude  enhanced_speed  fractional_cadence  \\\n",
       "0      0.00                NaN           0.000                 0.0   \n",
       "1      0.00                NaN           0.000                 0.0   \n",
       "2      1.32                NaN           1.316                 0.0   \n",
       "3     12.19              249.4           1.866                 0.0   \n",
       "4     14.08              259.6           1.894                 0.0   \n",
       "\n",
       "   heart_rate  position_lat  position_long   speed            timestamp  \\\n",
       "0        68.0           NaN            NaN     0.0  2019-07-08 21:04:03   \n",
       "1        68.0           NaN            NaN     0.0  2019-07-08 21:04:04   \n",
       "2        71.0           NaN            NaN  1316.0  2019-07-08 21:04:07   \n",
       "3        77.0   504432050.0   -999063637.0  1866.0  2019-07-08 21:04:14   \n",
       "4        80.0   504432492.0   -999064534.0  1894.0  2019-07-08 21:04:15   \n",
       "\n",
       "   unknown_87  unknown_88  unknown_90  Session ID  \n",
       "0         0.0       300.0         NaN  2675855419  \n",
       "1         0.0       300.0         NaN  2675855419  \n",
       "2         0.0       300.0         NaN  2675855419  \n",
       "3         0.0       100.0         NaN  2675855419  \n",
       "4         0.0       100.0         NaN  2675855419  "
      ]
     },
     "execution_count": 8,
     "metadata": {},
     "output_type": "execute_result"
    }
   ],
   "source": [
    "# let us rename the \"Activity ID\" column to \"Session ID\"\n",
    "df.rename(columns={\"Activity ID\":\"Session ID\"}, inplace=True)\n",
    "df.head()"
   ]
  },
  {
   "cell_type": "markdown",
   "id": "ee4d6926-88a3-4d57-b166-1ca80a4314e7",
   "metadata": {},
   "source": [
    "Much better! Now, let us pick particular columns which I think might be helpful in getting some insights from this data."
   ]
  },
  {
   "cell_type": "code",
   "execution_count": 9,
   "id": "5b9c0d33-6380-461b-a3e0-7487d8310fe5",
   "metadata": {},
   "outputs": [
    {
     "data": {
      "text/html": [
       "<div>\n",
       "<style scoped>\n",
       "    .dataframe tbody tr th:only-of-type {\n",
       "        vertical-align: middle;\n",
       "    }\n",
       "\n",
       "    .dataframe tbody tr th {\n",
       "        vertical-align: top;\n",
       "    }\n",
       "\n",
       "    .dataframe thead th {\n",
       "        text-align: right;\n",
       "    }\n",
       "</style>\n",
       "<table border=\"1\" class=\"dataframe\">\n",
       "  <thead>\n",
       "    <tr style=\"text-align: right;\">\n",
       "      <th></th>\n",
       "      <th>Session ID</th>\n",
       "      <th>altitude</th>\n",
       "      <th>cadence</th>\n",
       "      <th>distance</th>\n",
       "      <th>enhanced_altitude</th>\n",
       "      <th>enhanced_speed</th>\n",
       "      <th>heart_rate</th>\n",
       "      <th>timestamp</th>\n",
       "    </tr>\n",
       "  </thead>\n",
       "  <tbody>\n",
       "    <tr>\n",
       "      <th>0</th>\n",
       "      <td>2675855419</td>\n",
       "      <td>NaN</td>\n",
       "      <td>0.0</td>\n",
       "      <td>0.00</td>\n",
       "      <td>NaN</td>\n",
       "      <td>0.000</td>\n",
       "      <td>68.0</td>\n",
       "      <td>2019-07-08 21:04:03</td>\n",
       "    </tr>\n",
       "    <tr>\n",
       "      <th>1</th>\n",
       "      <td>2675855419</td>\n",
       "      <td>NaN</td>\n",
       "      <td>0.0</td>\n",
       "      <td>0.00</td>\n",
       "      <td>NaN</td>\n",
       "      <td>0.000</td>\n",
       "      <td>68.0</td>\n",
       "      <td>2019-07-08 21:04:04</td>\n",
       "    </tr>\n",
       "    <tr>\n",
       "      <th>2</th>\n",
       "      <td>2675855419</td>\n",
       "      <td>NaN</td>\n",
       "      <td>54.0</td>\n",
       "      <td>1.32</td>\n",
       "      <td>NaN</td>\n",
       "      <td>1.316</td>\n",
       "      <td>71.0</td>\n",
       "      <td>2019-07-08 21:04:07</td>\n",
       "    </tr>\n",
       "    <tr>\n",
       "      <th>3</th>\n",
       "      <td>2675855419</td>\n",
       "      <td>3747.0</td>\n",
       "      <td>77.0</td>\n",
       "      <td>12.19</td>\n",
       "      <td>249.4</td>\n",
       "      <td>1.866</td>\n",
       "      <td>77.0</td>\n",
       "      <td>2019-07-08 21:04:14</td>\n",
       "    </tr>\n",
       "    <tr>\n",
       "      <th>4</th>\n",
       "      <td>2675855419</td>\n",
       "      <td>3798.0</td>\n",
       "      <td>77.0</td>\n",
       "      <td>14.08</td>\n",
       "      <td>259.6</td>\n",
       "      <td>1.894</td>\n",
       "      <td>80.0</td>\n",
       "      <td>2019-07-08 21:04:15</td>\n",
       "    </tr>\n",
       "  </tbody>\n",
       "</table>\n",
       "</div>"
      ],
      "text/plain": [
       "   Session ID  altitude  cadence  distance  enhanced_altitude  enhanced_speed  \\\n",
       "0  2675855419       NaN      0.0      0.00                NaN           0.000   \n",
       "1  2675855419       NaN      0.0      0.00                NaN           0.000   \n",
       "2  2675855419       NaN     54.0      1.32                NaN           1.316   \n",
       "3  2675855419    3747.0     77.0     12.19              249.4           1.866   \n",
       "4  2675855419    3798.0     77.0     14.08              259.6           1.894   \n",
       "\n",
       "   heart_rate            timestamp  \n",
       "0        68.0  2019-07-08 21:04:03  \n",
       "1        68.0  2019-07-08 21:04:04  \n",
       "2        71.0  2019-07-08 21:04:07  \n",
       "3        77.0  2019-07-08 21:04:14  \n",
       "4        80.0  2019-07-08 21:04:15  "
      ]
     },
     "execution_count": 9,
     "metadata": {},
     "output_type": "execute_result"
    }
   ],
   "source": [
    "df=df.loc[:, [\"Session ID\", \"altitude\", \"cadence\", \"distance\", \"enhanced_altitude\", \"enhanced_speed\", \"heart_rate\", \"timestamp\"]]\n",
    "df.head()"
   ]
  },
  {
   "cell_type": "markdown",
   "id": "c69ebc45-6773-49b9-8e1b-789342757201",
   "metadata": {},
   "source": [
    "That looks much more manageable than what we started out with! The excluded columns had way too many null values and unknowns associated with them, which is why we shall leave them out for now."
   ]
  },
  {
   "cell_type": "code",
   "execution_count": 10,
   "id": "fcc4c92e-43d5-4162-ba9f-a122c9db32e1",
   "metadata": {},
   "outputs": [
    {
     "data": {
      "text/html": [
       "<div>\n",
       "<style scoped>\n",
       "    .dataframe tbody tr th:only-of-type {\n",
       "        vertical-align: middle;\n",
       "    }\n",
       "\n",
       "    .dataframe tbody tr th {\n",
       "        vertical-align: top;\n",
       "    }\n",
       "\n",
       "    .dataframe thead th {\n",
       "        text-align: right;\n",
       "    }\n",
       "</style>\n",
       "<table border=\"1\" class=\"dataframe\">\n",
       "  <thead>\n",
       "    <tr style=\"text-align: right;\">\n",
       "      <th></th>\n",
       "      <th>altitude</th>\n",
       "      <th>cadence</th>\n",
       "      <th>distance</th>\n",
       "      <th>enhanced_altitude</th>\n",
       "      <th>enhanced_speed</th>\n",
       "      <th>heart_rate</th>\n",
       "    </tr>\n",
       "  </thead>\n",
       "  <tbody>\n",
       "    <tr>\n",
       "      <th>count</th>\n",
       "      <td>14905.000000</td>\n",
       "      <td>40627.000000</td>\n",
       "      <td>40649.000000</td>\n",
       "      <td>40598.000000</td>\n",
       "      <td>40639.000000</td>\n",
       "      <td>38355.000000</td>\n",
       "    </tr>\n",
       "    <tr>\n",
       "      <th>mean</th>\n",
       "      <td>3846.184368</td>\n",
       "      <td>72.781254</td>\n",
       "      <td>4097.140051</td>\n",
       "      <td>271.346027</td>\n",
       "      <td>3.037084</td>\n",
       "      <td>134.680094</td>\n",
       "    </tr>\n",
       "    <tr>\n",
       "      <th>std</th>\n",
       "      <td>134.262498</td>\n",
       "      <td>17.743728</td>\n",
       "      <td>5827.964663</td>\n",
       "      <td>25.035768</td>\n",
       "      <td>1.959805</td>\n",
       "      <td>18.713782</td>\n",
       "    </tr>\n",
       "    <tr>\n",
       "      <th>min</th>\n",
       "      <td>3555.000000</td>\n",
       "      <td>0.000000</td>\n",
       "      <td>0.000000</td>\n",
       "      <td>209.000000</td>\n",
       "      <td>0.000000</td>\n",
       "      <td>56.000000</td>\n",
       "    </tr>\n",
       "    <tr>\n",
       "      <th>25%</th>\n",
       "      <td>3768.000000</td>\n",
       "      <td>74.000000</td>\n",
       "      <td>1117.970000</td>\n",
       "      <td>252.800000</td>\n",
       "      <td>2.109000</td>\n",
       "      <td>121.000000</td>\n",
       "    </tr>\n",
       "    <tr>\n",
       "      <th>50%</th>\n",
       "      <td>3829.000000</td>\n",
       "      <td>78.000000</td>\n",
       "      <td>2430.500000</td>\n",
       "      <td>269.200000</td>\n",
       "      <td>2.445000</td>\n",
       "      <td>136.000000</td>\n",
       "    </tr>\n",
       "    <tr>\n",
       "      <th>75%</th>\n",
       "      <td>3912.000000</td>\n",
       "      <td>80.000000</td>\n",
       "      <td>4403.730000</td>\n",
       "      <td>291.200000</td>\n",
       "      <td>2.809000</td>\n",
       "      <td>148.000000</td>\n",
       "    </tr>\n",
       "    <tr>\n",
       "      <th>max</th>\n",
       "      <td>5043.000000</td>\n",
       "      <td>118.000000</td>\n",
       "      <td>39007.120000</td>\n",
       "      <td>508.600000</td>\n",
       "      <td>15.349000</td>\n",
       "      <td>183.000000</td>\n",
       "    </tr>\n",
       "  </tbody>\n",
       "</table>\n",
       "</div>"
      ],
      "text/plain": [
       "           altitude       cadence      distance  enhanced_altitude  \\\n",
       "count  14905.000000  40627.000000  40649.000000       40598.000000   \n",
       "mean    3846.184368     72.781254   4097.140051         271.346027   \n",
       "std      134.262498     17.743728   5827.964663          25.035768   \n",
       "min     3555.000000      0.000000      0.000000         209.000000   \n",
       "25%     3768.000000     74.000000   1117.970000         252.800000   \n",
       "50%     3829.000000     78.000000   2430.500000         269.200000   \n",
       "75%     3912.000000     80.000000   4403.730000         291.200000   \n",
       "max     5043.000000    118.000000  39007.120000         508.600000   \n",
       "\n",
       "       enhanced_speed    heart_rate  \n",
       "count    40639.000000  38355.000000  \n",
       "mean         3.037084    134.680094  \n",
       "std          1.959805     18.713782  \n",
       "min          0.000000     56.000000  \n",
       "25%          2.109000    121.000000  \n",
       "50%          2.445000    136.000000  \n",
       "75%          2.809000    148.000000  \n",
       "max         15.349000    183.000000  "
      ]
     },
     "execution_count": 10,
     "metadata": {},
     "output_type": "execute_result"
    }
   ],
   "source": [
    "# let us get some summary statistics on these columns\n",
    "df.describe()"
   ]
  },
  {
   "cell_type": "markdown",
   "id": "1274a058-824a-46e1-90dc-fb2ee0737808",
   "metadata": {},
   "source": [
    "I am not a big fan of too many numbers. Visualizing these statistics might be a good way to go."
   ]
  },
  {
   "cell_type": "code",
   "execution_count": 11,
   "id": "236bcb74-8727-4dfc-8bed-369b92039462",
   "metadata": {},
   "outputs": [
    {
     "data": {
      "text/html": [
       "<div>\n",
       "<style scoped>\n",
       "    .dataframe tbody tr th:only-of-type {\n",
       "        vertical-align: middle;\n",
       "    }\n",
       "\n",
       "    .dataframe tbody tr th {\n",
       "        vertical-align: top;\n",
       "    }\n",
       "\n",
       "    .dataframe thead th {\n",
       "        text-align: right;\n",
       "    }\n",
       "</style>\n",
       "<table border=\"1\" class=\"dataframe\">\n",
       "  <thead>\n",
       "    <tr style=\"text-align: right;\">\n",
       "      <th></th>\n",
       "      <th>altitude</th>\n",
       "      <th>cadence</th>\n",
       "      <th>distance</th>\n",
       "      <th>enhanced_altitude</th>\n",
       "      <th>enhanced_speed</th>\n",
       "      <th>heart_rate</th>\n",
       "    </tr>\n",
       "  </thead>\n",
       "  <tbody>\n",
       "    <tr>\n",
       "      <th>mean</th>\n",
       "      <td>3846.184368</td>\n",
       "      <td>72.781254</td>\n",
       "      <td>4097.140051</td>\n",
       "      <td>271.346027</td>\n",
       "      <td>3.037084</td>\n",
       "      <td>134.680094</td>\n",
       "    </tr>\n",
       "    <tr>\n",
       "      <th>min</th>\n",
       "      <td>3555.000000</td>\n",
       "      <td>0.000000</td>\n",
       "      <td>0.000000</td>\n",
       "      <td>209.000000</td>\n",
       "      <td>0.000000</td>\n",
       "      <td>56.000000</td>\n",
       "    </tr>\n",
       "    <tr>\n",
       "      <th>25%</th>\n",
       "      <td>3768.000000</td>\n",
       "      <td>74.000000</td>\n",
       "      <td>1117.970000</td>\n",
       "      <td>252.800000</td>\n",
       "      <td>2.109000</td>\n",
       "      <td>121.000000</td>\n",
       "    </tr>\n",
       "    <tr>\n",
       "      <th>50%</th>\n",
       "      <td>3829.000000</td>\n",
       "      <td>78.000000</td>\n",
       "      <td>2430.500000</td>\n",
       "      <td>269.200000</td>\n",
       "      <td>2.445000</td>\n",
       "      <td>136.000000</td>\n",
       "    </tr>\n",
       "    <tr>\n",
       "      <th>75%</th>\n",
       "      <td>3912.000000</td>\n",
       "      <td>80.000000</td>\n",
       "      <td>4403.730000</td>\n",
       "      <td>291.200000</td>\n",
       "      <td>2.809000</td>\n",
       "      <td>148.000000</td>\n",
       "    </tr>\n",
       "    <tr>\n",
       "      <th>max</th>\n",
       "      <td>5043.000000</td>\n",
       "      <td>118.000000</td>\n",
       "      <td>39007.120000</td>\n",
       "      <td>508.600000</td>\n",
       "      <td>15.349000</td>\n",
       "      <td>183.000000</td>\n",
       "    </tr>\n",
       "  </tbody>\n",
       "</table>\n",
       "</div>"
      ],
      "text/plain": [
       "         altitude     cadence      distance  enhanced_altitude  \\\n",
       "mean  3846.184368   72.781254   4097.140051         271.346027   \n",
       "min   3555.000000    0.000000      0.000000         209.000000   \n",
       "25%   3768.000000   74.000000   1117.970000         252.800000   \n",
       "50%   3829.000000   78.000000   2430.500000         269.200000   \n",
       "75%   3912.000000   80.000000   4403.730000         291.200000   \n",
       "max   5043.000000  118.000000  39007.120000         508.600000   \n",
       "\n",
       "      enhanced_speed  heart_rate  \n",
       "mean        3.037084  134.680094  \n",
       "min         0.000000   56.000000  \n",
       "25%         2.109000  121.000000  \n",
       "50%         2.445000  136.000000  \n",
       "75%         2.809000  148.000000  \n",
       "max        15.349000  183.000000  "
      ]
     },
     "execution_count": 11,
     "metadata": {},
     "output_type": "execute_result"
    }
   ],
   "source": [
    "# we will exclude position coordinates from the summary statistics\n",
    "summary_df=df.describe()\n",
    "# let us also remove the count and std elements from the dataframe\n",
    "summary_df.drop([\"count\", \"std\"], axis=0, inplace=True)\n",
    "summary_df"
   ]
  },
  {
   "cell_type": "code",
   "execution_count": 12,
   "id": "d7fa354c-050d-4001-89a1-952cfa570dec",
   "metadata": {},
   "outputs": [
    {
     "data": {
      "image/png": "[encoded data removed]",
      "text/plain": [
       "<Figure size 864x432 with 1 Axes>"
      ]
     },
     "metadata": {
      "needs_background": "light"
     },
     "output_type": "display_data"
    }
   ],
   "source": [
    "# let us get our first visual cues into these stats\n",
    "plt.figure(figsize=(12,6))\n",
    "# setting showmeans=True enables us to see the mean values in the box plots\n",
    "sns.boxplot(data=df, showmeans=True, palette=\"pastel\", meanprops={\"marker\":\"o\",\n",
    "                                                                          \"markerfacecolor\":\"red\", \n",
    "                                                                          \"markeredgecolor\":\"black\",\n",
    "                                                                          \"markersize\":\"5\"})\n",
    "plt.title(\"Summary Statistics of Strava Data\", size=18)\n",
    "plt.xlabel(\"Strava Data Variable Names\", size=14)\n",
    "plt.ylabel(\"Strava Data Values\", size=14)\n",
    "plt.show()"
   ]
  },
  {
   "cell_type": "markdown",
   "id": "086b33dd-0af3-49b5-af5d-b2ab567d3254",
   "metadata": {},
   "source": [
    "Box plots are the best way to visualize summary statistics of numeric data, as we can immediately understand the where the minimum, the first quartile (25%), the median or the second quartile (50%), the third quartile (75%), and the maximum lie. Outliers are also immediately visible. In this case, we see an extreme outlier with \"distance\" values. \n",
    "\n",
    "We can also overlay the mean on it by setting showmeans=True while using the Seaborn library. This gives us a handy estimate of the distribution of data.\n",
    "\n",
    "Because of the outlier, we find it difficult to zone in on the relevant aspects of the box plots. The box plots of the \"cadence\", \"enhanced_altitude\", \"enhanced_speed\" and \"heart_rate\" columns are practically just horizontal lines, which we can't glean much information from. We could probably get a clearer look at the plots on \"zooming in\" to those parts. This can be done by excluding the outliers in the \"distance\" column (which has a maximum value of ~40000) or by limiting the Y-axis values, as follows."
   ]
  },
  {
   "cell_type": "code",
   "execution_count": 13,
   "id": "4d87d4fb-5385-4ece-be60-d33a52989283",
   "metadata": {
    "tags": []
   },
   "outputs": [
    {
     "data": {
      "image/png": "[encoded data removed]",
      "text/plain": [
       "<Figure size 864x432 with 1 Axes>"
      ]
     },
     "metadata": {
      "needs_background": "light"
     },
     "output_type": "display_data"
    }
   ],
   "source": [
    "plt.figure(figsize=(12,6))\n",
    "sns.boxplot(data=df, showmeans=True, palette=\"pastel\", meanprops={\"marker\":\"o\",\n",
    "                                                                          \"markerfacecolor\":\"red\", \n",
    "                                                                          \"markeredgecolor\":\"black\",\n",
    "                                                                          \"markersize\":\"5\"})\n",
    "plt.title(\"Summary Statistics of Strava Data\", size=18)\n",
    "plt.xlabel(\"Strava Data Variable Names\", size=14)\n",
    "plt.ylabel(\"Strava Data Values\", size=14)\n",
    "# set Y-axis limits to exclude the upper outliers\n",
    "plt.ylim(-1000, 10000)\n",
    "plt.show()"
   ]
  },
  {
   "cell_type": "markdown",
   "id": "26e95fe6-d7fb-47cc-87d4-c82c5b9c3b57",
   "metadata": {},
   "source": [
    "Visually, there's not too much of an improvement, but at least they aren't just horizontal lines!"
   ]
  },
  {
   "cell_type": "markdown",
   "id": "b9a46664-02d6-4744-84d2-0288f87d6fb3",
   "metadata": {},
   "source": [
    "In every case except \"distance\", the values seem to closely match each other within their respective categories and do not vary too greatly. In the case of \"distance\", however, we see a wide variation in values ranging from 0 to ~40000, with a mean of ~4000."
   ]
  },
  {
   "cell_type": "markdown",
   "id": "fb2abe68-9744-4714-a29e-d9743283ade7",
   "metadata": {},
   "source": [
    "When talking about numeric data, histograms are almost always necessary to get an idea of the frequency distribution of the data."
   ]
  },
  {
   "cell_type": "code",
   "execution_count": 14,
   "id": "280fe686-aaf1-42ad-8c19-66c7b4f979af",
   "metadata": {},
   "outputs": [
    {
     "data": {
      "image/png": "[encoded data removed]",
      "text/plain": [
       "<Figure size 864x432 with 1 Axes>"
      ]
     },
     "metadata": {
      "needs_background": "light"
     },
     "output_type": "display_data"
    },
    {
     "data": {
      "image/png": "[encoded data removed]",
      "text/plain": [
       "<Figure size 864x432 with 1 Axes>"
      ]
     },
     "metadata": {
      "needs_background": "light"
     },
     "output_type": "display_data"
    },
    {
     "data": {
      "image/png": "[encoded data removed]",
      "text/plain": [
       "<Figure size 864x432 with 1 Axes>"
      ]
     },
     "metadata": {
      "needs_background": "light"
     },
     "output_type": "display_data"
    },
    {
     "data": {
      "image/png": "[encoded data removed]",
      "text/plain": [
       "<Figure size 864x432 with 1 Axes>"
      ]
     },
     "metadata": {
      "needs_background": "light"
     },
     "output_type": "display_data"
    },
    {
     "data": {
      "image/png": "[encoded data removed]",
      "text/plain": [
       "<Figure size 864x432 with 1 Axes>"
      ]
     },
     "metadata": {
      "needs_background": "light"
     },
     "output_type": "display_data"
    },
    {
     "data": {
      "image/png": "[encoded data removed]",
      "text/plain": [
       "<Figure size 864x432 with 1 Axes>"
      ]
     },
     "metadata": {
      "needs_background": "light"
     },
     "output_type": "display_data"
    }
   ],
   "source": [
    "# let's create histograms for relevant numeric columns in the dataset\n",
    "for i in df.drop([\"Session ID\", \"timestamp\"], axis=1).columns:\n",
    "    plt.figure(figsize=(12,6))\n",
    "    sns.histplot(data=df[i], palette=\"pastel\")\n",
    "    plt.title(\"Distribution of Strava Data - \"+i, size=18)\n",
    "    plt.xlabel(\"Value\", size=14)\n",
    "    plt.ylabel(\"Frequency\", size=14)\n",
    "    plt.show()"
   ]
  },
  {
   "cell_type": "markdown",
   "id": "bdad248d-07e7-4e22-904a-1dd7dbb38b52",
   "metadata": {},
   "source": [
    "As we can see, the spread, skew, and modality of these data are completely different to one another. The distributions for \"altitude\", \"distance\", \"enhanced_speed\", and even \"enhanced_altitude\" to some extent are skewed to the right, while \"cadence\" and \"heart_rate\" seem to be skewed to the left. While most of the distributions above are unimodal, some, such as \"enhanced_altitude\" and \"heart_rate\" are bimodal and trimodal respectively. Some distributions also show outliers, such as the histograms for \"cadence\" and \"enhanced_speed\" with outliers to the extreme left. This is an extremely valuable way to visualize data when summary statistics do not give much information."
   ]
  },
  {
   "cell_type": "markdown",
   "id": "9bff1094-4c54-450c-903a-356b4f4faca2",
   "metadata": {},
   "source": [
    "Looking at the \"timestamp\" column gave me an idea. Would it be possible to assess what Professor Brooks' most active days of the week were? Using timestamps, it is possible to glean not only the day of the week, but also the period of time (example: morning, afternoon, night, etc.). Let us try this out."
   ]
  },
  {
   "cell_type": "code",
   "execution_count": 15,
   "id": "ed396b7a-d8c3-4272-a217-bd2715532d2f",
   "metadata": {},
   "outputs": [
    {
     "data": {
      "text/html": [
       "<div>\n",
       "<style scoped>\n",
       "    .dataframe tbody tr th:only-of-type {\n",
       "        vertical-align: middle;\n",
       "    }\n",
       "\n",
       "    .dataframe tbody tr th {\n",
       "        vertical-align: top;\n",
       "    }\n",
       "\n",
       "    .dataframe thead th {\n",
       "        text-align: right;\n",
       "    }\n",
       "</style>\n",
       "<table border=\"1\" class=\"dataframe\">\n",
       "  <thead>\n",
       "    <tr style=\"text-align: right;\">\n",
       "      <th></th>\n",
       "      <th>Session ID</th>\n",
       "      <th>altitude</th>\n",
       "      <th>cadence</th>\n",
       "      <th>distance</th>\n",
       "      <th>enhanced_altitude</th>\n",
       "      <th>enhanced_speed</th>\n",
       "      <th>heart_rate</th>\n",
       "      <th>timestamp</th>\n",
       "      <th>day</th>\n",
       "      <th>time_period</th>\n",
       "    </tr>\n",
       "  </thead>\n",
       "  <tbody>\n",
       "    <tr>\n",
       "      <th>12308</th>\n",
       "      <td>2752548971</td>\n",
       "      <td>3882.0</td>\n",
       "      <td>81.0</td>\n",
       "      <td>2213.60</td>\n",
       "      <td>276.4</td>\n",
       "      <td>2.389</td>\n",
       "      <td>143.0</td>\n",
       "      <td>2019-08-05 22:01:00</td>\n",
       "      <td>Monday</td>\n",
       "      <td>Night</td>\n",
       "    </tr>\n",
       "    <tr>\n",
       "      <th>34889</th>\n",
       "      <td>2875620974</td>\n",
       "      <td>NaN</td>\n",
       "      <td>34.0</td>\n",
       "      <td>7265.61</td>\n",
       "      <td>277.6</td>\n",
       "      <td>7.577</td>\n",
       "      <td>NaN</td>\n",
       "      <td>2019-09-15 22:23:41</td>\n",
       "      <td>Sunday</td>\n",
       "      <td>Night</td>\n",
       "    </tr>\n",
       "    <tr>\n",
       "      <th>27082</th>\n",
       "      <td>2803436608</td>\n",
       "      <td>NaN</td>\n",
       "      <td>78.0</td>\n",
       "      <td>1700.75</td>\n",
       "      <td>290.4</td>\n",
       "      <td>2.557</td>\n",
       "      <td>142.0</td>\n",
       "      <td>2019-08-23 01:36:54</td>\n",
       "      <td>Friday</td>\n",
       "      <td>Night</td>\n",
       "    </tr>\n",
       "    <tr>\n",
       "      <th>21120</th>\n",
       "      <td>2796808375</td>\n",
       "      <td>NaN</td>\n",
       "      <td>80.0</td>\n",
       "      <td>2585.94</td>\n",
       "      <td>247.8</td>\n",
       "      <td>2.333</td>\n",
       "      <td>149.0</td>\n",
       "      <td>2019-08-20 20:53:52</td>\n",
       "      <td>Tuesday</td>\n",
       "      <td>Evening</td>\n",
       "    </tr>\n",
       "    <tr>\n",
       "      <th>18941</th>\n",
       "      <td>2796644542</td>\n",
       "      <td>NaN</td>\n",
       "      <td>79.0</td>\n",
       "      <td>2835.96</td>\n",
       "      <td>249.8</td>\n",
       "      <td>2.426</td>\n",
       "      <td>140.0</td>\n",
       "      <td>2019-08-20 19:37:52</td>\n",
       "      <td>Tuesday</td>\n",
       "      <td>Evening</td>\n",
       "    </tr>\n",
       "  </tbody>\n",
       "</table>\n",
       "</div>"
      ],
      "text/plain": [
       "       Session ID  altitude  cadence  distance  enhanced_altitude  \\\n",
       "12308  2752548971    3882.0     81.0   2213.60              276.4   \n",
       "34889  2875620974       NaN     34.0   7265.61              277.6   \n",
       "27082  2803436608       NaN     78.0   1700.75              290.4   \n",
       "21120  2796808375       NaN     80.0   2585.94              247.8   \n",
       "18941  2796644542       NaN     79.0   2835.96              249.8   \n",
       "\n",
       "       enhanced_speed  heart_rate           timestamp      day time_period  \n",
       "12308           2.389       143.0 2019-08-05 22:01:00   Monday       Night  \n",
       "34889           7.577         NaN 2019-09-15 22:23:41   Sunday       Night  \n",
       "27082           2.557       142.0 2019-08-23 01:36:54   Friday       Night  \n",
       "21120           2.333       149.0 2019-08-20 20:53:52  Tuesday     Evening  \n",
       "18941           2.426       140.0 2019-08-20 19:37:52  Tuesday     Evening  "
      ]
     },
     "execution_count": 15,
     "metadata": {},
     "output_type": "execute_result"
    }
   ],
   "source": [
    "# first, we need to convert the \"timestamp\" column's data type to datetime\n",
    "df[\"timestamp\"]=pd.to_datetime(df[\"timestamp\"])\n",
    "# next, we can figure out the day of the week of the timestamps using the datetime library\n",
    "df[\"day\"]=df[\"timestamp\"].dt.day_name()\n",
    "# finally, we can assign a time period based on the hour of the timestamps\n",
    "df=df.assign(time_period=pd.cut(x=df[\"timestamp\"].dt.hour, bins=[0,5,12,17,21,24], labels=[\"Night\",\"Morning\",\"Afternoon\",\"Evening\",\"Night\"], \n",
    "                                include_lowest=True, ordered=False))\n",
    "# let's take a look at the dataframe\n",
    "df.sample(5)"
   ]
  },
  {
   "cell_type": "markdown",
   "id": "3f01fe81-1295-46e4-a845-4a5e66b88ae2",
   "metadata": {},
   "source": [
    "Our new columns seem to be showing the expected values. Now that we have the day of the week and the time_period of the exercise sessions, we can now try to visualize them using a bar plot, which is best when we have categorical data that we want to compare against a quantitative variable, which would be the number of exercise sessions in this case."
   ]
  },
  {
   "cell_type": "code",
   "execution_count": 16,
   "id": "ef225a73-6cf9-4e6e-a69d-cdea0e4cb439",
   "metadata": {},
   "outputs": [
    {
     "data": {
      "text/html": [
       "<div>\n",
       "<style scoped>\n",
       "    .dataframe tbody tr th:only-of-type {\n",
       "        vertical-align: middle;\n",
       "    }\n",
       "\n",
       "    .dataframe tbody tr th {\n",
       "        vertical-align: top;\n",
       "    }\n",
       "\n",
       "    .dataframe thead th {\n",
       "        text-align: right;\n",
       "    }\n",
       "</style>\n",
       "<table border=\"1\" class=\"dataframe\">\n",
       "  <thead>\n",
       "    <tr style=\"text-align: right;\">\n",
       "      <th></th>\n",
       "      <th>day</th>\n",
       "      <th>time_period</th>\n",
       "      <th>number_of_sessions</th>\n",
       "    </tr>\n",
       "  </thead>\n",
       "  <tbody>\n",
       "    <tr>\n",
       "      <th>0</th>\n",
       "      <td>Friday</td>\n",
       "      <td>Afternoon</td>\n",
       "      <td>0</td>\n",
       "    </tr>\n",
       "    <tr>\n",
       "      <th>1</th>\n",
       "      <td>Friday</td>\n",
       "      <td>Evening</td>\n",
       "      <td>4</td>\n",
       "    </tr>\n",
       "    <tr>\n",
       "      <th>2</th>\n",
       "      <td>Friday</td>\n",
       "      <td>Morning</td>\n",
       "      <td>0</td>\n",
       "    </tr>\n",
       "    <tr>\n",
       "      <th>3</th>\n",
       "      <td>Friday</td>\n",
       "      <td>Night</td>\n",
       "      <td>2</td>\n",
       "    </tr>\n",
       "    <tr>\n",
       "      <th>4</th>\n",
       "      <td>Monday</td>\n",
       "      <td>Afternoon</td>\n",
       "      <td>0</td>\n",
       "    </tr>\n",
       "  </tbody>\n",
       "</table>\n",
       "</div>"
      ],
      "text/plain": [
       "      day time_period  number_of_sessions\n",
       "0  Friday   Afternoon                   0\n",
       "1  Friday     Evening                   4\n",
       "2  Friday     Morning                   0\n",
       "3  Friday       Night                   2\n",
       "4  Monday   Afternoon                   0"
      ]
     },
     "execution_count": 16,
     "metadata": {},
     "output_type": "execute_result"
    }
   ],
   "source": [
    "# let us first group by the number of sessions based on \"Session ID\"\n",
    "num_sessions=df.groupby([\"day\",\"time_period\"])[\"Session ID\"].nunique().reset_index()\n",
    "# we need to rename the \"Session ID\" column into something more appropriate\n",
    "num_sessions.rename(columns={\"Session ID\":\"number_of_sessions\"}, inplace=True)\n",
    "num_sessions.head()"
   ]
  },
  {
   "cell_type": "markdown",
   "id": "96beba16-d8d5-412e-a51f-c57fcdf7bd53",
   "metadata": {},
   "source": [
    "Some of the values in the \"number_of_sessions\" column are 0 since there were no workouts for that day and that time period. We can now visualize this as a bar plot."
   ]
  },
  {
   "cell_type": "code",
   "execution_count": 17,
   "id": "1ad34c5d-7615-4847-b56b-b5fa6339849c",
   "metadata": {},
   "outputs": [
    {
     "data": {
      "image/png": "[encoded data removed]",
      "text/plain": [
       "<Figure size 864x432 with 1 Axes>"
      ]
     },
     "metadata": {
      "needs_background": "light"
     },
     "output_type": "display_data"
    }
   ],
   "source": [
    "plt.figure(figsize=(12,6))\n",
    "# set the order of appearance of the days of the week\n",
    "day_order=[\"Monday\",\"Tuesday\",\"Wednesday\",\"Thursday\",\"Friday\",\"Saturday\",\"Sunday\"]\n",
    "sns.barplot(x=\"day\", y=\"number_of_sessions\", order=day_order, hue=\"time_period\", hue_order=[\"Morning\",\"Afternoon\",\"Evening\",\"Night\"], palette=\"pastel\",\n",
    "            data=num_sessions)\n",
    "plt.title(\"Number of Sessions by Day of Week and Time Period\", size=18)\n",
    "plt.xlabel(\"Day of Week\", size=14)\n",
    "plt.ylabel(\"Number of Sessions\", size=14)\n",
    "plt.show()"
   ]
  },
  {
   "cell_type": "markdown",
   "id": "42410d4d-f223-4ae5-ab51-2e5bbc3a558e",
   "metadata": {},
   "source": [
    "Using bars which are grouped together, we are able to visualize categorization of number of sessions based on the day of the week, as well as time period.\n",
    "\n",
    "Professor Brooks seems to be extremely active on Wednesday nights, contrary to what might be an assumption that most people exercise a lot during the weekends as opposed to the middle of the week. However, we see that Professor Brooks works out in more time periods (all four on Saturday, three on Sunday) on the weekends, compared to the weekdays, affording some merit to the assumption that people are more free during weekends to indulge in such activities compared to weekdays.\n",
    "\n",
    "Based on this plot, we can also see that Professor Brooks seems to be a \"night person\", as most of his workouts seem to occur during evenings and nights, with only two workouts — Monday (\"Monday Motivation\"?) and Saturday (first leisure day of the week?) — occurring during the mornings."
   ]
  },
  {
   "cell_type": "markdown",
   "id": "3f3f31de-0a9d-4925-9c30-7a348564358e",
   "metadata": {},
   "source": [
    "Moving on to an interesting topic, a pandas Correlation Matrix calculates the pairwise Pearson correlation coefficient of each column in the dataframe. The values of the matrix range from -1 to 1. Values close to 1 denote positive correlation, values close to -1 denote negative correlation, while values close to 0 denote no correlation."
   ]
  },
  {
   "cell_type": "code",
   "execution_count": 18,
   "id": "a756df1b-a433-449e-bd68-ce9db629ad51",
   "metadata": {},
   "outputs": [
    {
     "data": {
      "text/html": [
       "<div>\n",
       "<style scoped>\n",
       "    .dataframe tbody tr th:only-of-type {\n",
       "        vertical-align: middle;\n",
       "    }\n",
       "\n",
       "    .dataframe tbody tr th {\n",
       "        vertical-align: top;\n",
       "    }\n",
       "\n",
       "    .dataframe thead th {\n",
       "        text-align: right;\n",
       "    }\n",
       "</style>\n",
       "<table border=\"1\" class=\"dataframe\">\n",
       "  <thead>\n",
       "    <tr style=\"text-align: right;\">\n",
       "      <th></th>\n",
       "      <th>altitude</th>\n",
       "      <th>cadence</th>\n",
       "      <th>distance</th>\n",
       "      <th>enhanced_altitude</th>\n",
       "      <th>enhanced_speed</th>\n",
       "      <th>heart_rate</th>\n",
       "    </tr>\n",
       "  </thead>\n",
       "  <tbody>\n",
       "    <tr>\n",
       "      <th>altitude</th>\n",
       "      <td>1.000000</td>\n",
       "      <td>-0.083869</td>\n",
       "      <td>-0.036738</td>\n",
       "      <td>1.000000</td>\n",
       "      <td>-0.036491</td>\n",
       "      <td>-0.166704</td>\n",
       "    </tr>\n",
       "    <tr>\n",
       "      <th>cadence</th>\n",
       "      <td>-0.083869</td>\n",
       "      <td>1.000000</td>\n",
       "      <td>-0.116760</td>\n",
       "      <td>0.095441</td>\n",
       "      <td>-0.097341</td>\n",
       "      <td>0.268619</td>\n",
       "    </tr>\n",
       "    <tr>\n",
       "      <th>distance</th>\n",
       "      <td>-0.036738</td>\n",
       "      <td>-0.116760</td>\n",
       "      <td>1.000000</td>\n",
       "      <td>-0.193163</td>\n",
       "      <td>0.513813</td>\n",
       "      <td>0.075619</td>\n",
       "    </tr>\n",
       "    <tr>\n",
       "      <th>enhanced_altitude</th>\n",
       "      <td>1.000000</td>\n",
       "      <td>0.095441</td>\n",
       "      <td>-0.193163</td>\n",
       "      <td>1.000000</td>\n",
       "      <td>-0.181469</td>\n",
       "      <td>0.206821</td>\n",
       "    </tr>\n",
       "    <tr>\n",
       "      <th>enhanced_speed</th>\n",
       "      <td>-0.036491</td>\n",
       "      <td>-0.097341</td>\n",
       "      <td>0.513813</td>\n",
       "      <td>-0.181469</td>\n",
       "      <td>1.000000</td>\n",
       "      <td>0.133977</td>\n",
       "    </tr>\n",
       "    <tr>\n",
       "      <th>heart_rate</th>\n",
       "      <td>-0.166704</td>\n",
       "      <td>0.268619</td>\n",
       "      <td>0.075619</td>\n",
       "      <td>0.206821</td>\n",
       "      <td>0.133977</td>\n",
       "      <td>1.000000</td>\n",
       "    </tr>\n",
       "  </tbody>\n",
       "</table>\n",
       "</div>"
      ],
      "text/plain": [
       "                   altitude   cadence  distance  enhanced_altitude  \\\n",
       "altitude           1.000000 -0.083869 -0.036738           1.000000   \n",
       "cadence           -0.083869  1.000000 -0.116760           0.095441   \n",
       "distance          -0.036738 -0.116760  1.000000          -0.193163   \n",
       "enhanced_altitude  1.000000  0.095441 -0.193163           1.000000   \n",
       "enhanced_speed    -0.036491 -0.097341  0.513813          -0.181469   \n",
       "heart_rate        -0.166704  0.268619  0.075619           0.206821   \n",
       "\n",
       "                   enhanced_speed  heart_rate  \n",
       "altitude                -0.036491   -0.166704  \n",
       "cadence                 -0.097341    0.268619  \n",
       "distance                 0.513813    0.075619  \n",
       "enhanced_altitude       -0.181469    0.206821  \n",
       "enhanced_speed           1.000000    0.133977  \n",
       "heart_rate               0.133977    1.000000  "
      ]
     },
     "execution_count": 18,
     "metadata": {},
     "output_type": "execute_result"
    }
   ],
   "source": [
    "# a correlation matrix can be created with this simple code using pandas\n",
    "df.corr()"
   ]
  },
  {
   "cell_type": "markdown",
   "id": "813114e1-2482-4497-9e2a-2ef51e761bd2",
   "metadata": {},
   "source": [
    "Again, this mishmash of numbers makes it hard to immediately draw any conclusions about what's going on. We can visualize this as a Heatmap."
   ]
  },
  {
   "cell_type": "code",
   "execution_count": 19,
   "id": "4f196c77-c5b7-4014-bca2-1c8ee615eab3",
   "metadata": {},
   "outputs": [
    {
     "data": {
      "image/png": "[encoded data removed]",
      "text/plain": [
       "<Figure size 1080x432 with 2 Axes>"
      ]
     },
     "metadata": {
      "needs_background": "light"
     },
     "output_type": "display_data"
    }
   ],
   "source": [
    "plt.figure(figsize=(15,6))\n",
    "# we can create a mask to remove redundant elements (the upper triangle) using numpy triu() and ones_like() functionalities\n",
    "mask=np.triu(np.ones_like(df.corr(), dtype=np.bool))\n",
    "# we then set this mask value as a parameter in the heatmap function\n",
    "sns.heatmap(df.corr(), mask=mask, vmin=-1, vmax=1, annot=True, cmap='RdBu')\n",
    "plt.title(\"Heatmap of Correlation Matrix for Strava Data\", size=18)\n",
    "plt.show()"
   ]
  },
  {
   "cell_type": "markdown",
   "id": "75cede2c-d7d2-448d-b431-1c7bf4838db9",
   "metadata": {},
   "source": [
    "The more blue the \"rectangle\" of the heatmap is, the more correlated the specified column values are. For example, there seems to be a slight positive correlation between \"enhanced_speed\" and \"distance\", suggesting that if one increases, the other will also increase (which makes intuitive sense, as the faster you run, the more distance you'll cover in a certain time). There is a perfect positive correlation between \"enhanced_altitude\" and \"altitude\", which doesn't come as much of a surprise, since \"enhanced_altitude\" is likely derived from \"altitude\". There are also some slight negative correlations (denoted by the red end of the spectrum), but there seems to be not much correlation among these variables for the most part.\n",
    "\n",
    "As expected, heatmaps remain the best choice to visualize this type of data, as the differences are immediately apparent due to the color contrast, enabling accurate conclusions to be drawn more efficiently."
   ]
  }
 ],
 "metadata": {
  "kernelspec": {
   "display_name": "Python 3 (ipykernel)",
   "language": "python",
   "name": "python3"
  },
  "language_info": {
   "codemirror_mode": {
    "name": "ipython",
    "version": 3
   },
   "file_extension": ".py",
   "mimetype": "text/x-python",
   "name": "python",
   "nbconvert_exporter": "python",
   "pygments_lexer": "ipython3",
   "version": "3.9.7"
  }
 },
 "nbformat": 4,
 "nbformat_minor": 5
}
